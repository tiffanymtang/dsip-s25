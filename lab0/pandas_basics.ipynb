{
 "cells": [
  {
   "cell_type": "markdown",
   "metadata": {},
   "source": [
    "# Introduction to pandas"
   ]
  },
  {
   "cell_type": "code",
   "execution_count": 53,
   "metadata": {},
   "outputs": [],
   "source": [
    "import pandas as pd\n",
    "import numpy as np\n",
    "import matplotlib.pyplot as plt\n",
    "import seaborn as sns"
   ]
  },
  {
   "cell_type": "markdown",
   "metadata": {},
   "source": [
    "[`Pandas`](https://pandas.pydata.org/docs/index.html) is a powerful and widely-used open-source Python library designed for data manipulation and analysis. At the heart of pandas are two primary data structures: **series** and **data frames**. These data structures serve as the foundational building blocks for everything that is nice about `pandas`.\n",
    "\n",
    "- [`Series`](https://pandas.pydata.org/docs/reference/api/pandas.Series.html#pandas.Series):  a one-dimensional labeled array holding data of any type\n",
    "such as integers, strings, Python objects etc.\n",
    "- [`DataFrame`](https://pandas.pydata.org/docs/reference/api/pandas.DataFrame.html#pandas.DataFrame): a two-dimensional data structure that holds data like a two-dimension array or a table with rows and columns.\n",
    "\n"
   ]
  },
  {
   "cell_type": "markdown",
   "metadata": {},
   "source": [
    "## Creating Series and DataFrame Objects"
   ]
  },
  {
   "cell_type": "markdown",
   "metadata": {},
   "source": [
    "Let's start by manually creating a simple series object:"
   ]
  },
  {
   "cell_type": "code",
   "execution_count": 54,
   "metadata": {},
   "outputs": [
    {
     "data": {
      "text/plain": [
       "0    1\n",
       "1    3\n",
       "2    5\n",
       "3    7\n",
       "dtype: int64"
      ]
     },
     "execution_count": 54,
     "metadata": {},
     "output_type": "execute_result"
    }
   ],
   "source": [
    "s = pd.Series([1, 3, 5, 7])\n",
    "s"
   ]
  },
  {
   "cell_type": "markdown",
   "metadata": {},
   "source": [
    "To manually create a DataFrame, we can do so from a dictionary like follows:"
   ]
  },
  {
   "cell_type": "code",
   "execution_count": 55,
   "metadata": {},
   "outputs": [
    {
     "data": {
      "text/html": [
       "<div>\n",
       "<style scoped>\n",
       "    .dataframe tbody tr th:only-of-type {\n",
       "        vertical-align: middle;\n",
       "    }\n",
       "\n",
       "    .dataframe tbody tr th {\n",
       "        vertical-align: top;\n",
       "    }\n",
       "\n",
       "    .dataframe thead th {\n",
       "        text-align: right;\n",
       "    }\n",
       "</style>\n",
       "<table border=\"1\" class=\"dataframe\">\n",
       "  <thead>\n",
       "    <tr style=\"text-align: right;\">\n",
       "      <th></th>\n",
       "      <th>first_name</th>\n",
       "      <th>last_name</th>\n",
       "      <th>win_percent</th>\n",
       "    </tr>\n",
       "  </thead>\n",
       "  <tbody>\n",
       "    <tr>\n",
       "      <th>0</th>\n",
       "      <td>Knute</td>\n",
       "      <td>Rockne</td>\n",
       "      <td>0.881</td>\n",
       "    </tr>\n",
       "    <tr>\n",
       "      <th>1</th>\n",
       "      <td>Frank</td>\n",
       "      <td>Leahy</td>\n",
       "      <td>0.855</td>\n",
       "    </tr>\n",
       "    <tr>\n",
       "      <th>2</th>\n",
       "      <td>Ara</td>\n",
       "      <td>Parseghian</td>\n",
       "      <td>0.836</td>\n",
       "    </tr>\n",
       "    <tr>\n",
       "      <th>3</th>\n",
       "      <td>Dan</td>\n",
       "      <td>Devine</td>\n",
       "      <td>0.764</td>\n",
       "    </tr>\n",
       "    <tr>\n",
       "      <th>4</th>\n",
       "      <td>Lou</td>\n",
       "      <td>Holtz</td>\n",
       "      <td>0.765</td>\n",
       "    </tr>\n",
       "    <tr>\n",
       "      <th>5</th>\n",
       "      <td>Marcus</td>\n",
       "      <td>Freeman</td>\n",
       "      <td>0.786</td>\n",
       "    </tr>\n",
       "  </tbody>\n",
       "</table>\n",
       "</div>"
      ],
      "text/plain": [
       "  first_name   last_name  win_percent\n",
       "0      Knute      Rockne        0.881\n",
       "1      Frank       Leahy        0.855\n",
       "2        Ara  Parseghian        0.836\n",
       "3        Dan      Devine        0.764\n",
       "4        Lou       Holtz        0.765\n",
       "5     Marcus     Freeman        0.786"
      ]
     },
     "execution_count": 55,
     "metadata": {},
     "output_type": "execute_result"
    }
   ],
   "source": [
    "df = pd.DataFrame({\n",
    "    \"first_name\": [\"Knute\", \"Frank\", \"Ara\", \"Dan\", \"Lou\", \"Marcus\"],\n",
    "    \"last_name\": [\"Rockne\", \"Leahy\", \"Parseghian\", \"Devine\", \"Holtz\", \"Freeman\"],\n",
    "    \"win_percent\": [0.881, 0.855, 0.836, 0.764, 0.765, 0.786]\n",
    "})\n",
    "df"
   ]
  },
  {
   "cell_type": "markdown",
   "metadata": {},
   "source": [
    "It is also possible to create a DataFrame from a numpy array:"
   ]
  },
  {
   "cell_type": "code",
   "execution_count": 56,
   "metadata": {},
   "outputs": [
    {
     "data": {
      "text/html": [
       "<div>\n",
       "<style scoped>\n",
       "    .dataframe tbody tr th:only-of-type {\n",
       "        vertical-align: middle;\n",
       "    }\n",
       "\n",
       "    .dataframe tbody tr th {\n",
       "        vertical-align: top;\n",
       "    }\n",
       "\n",
       "    .dataframe thead th {\n",
       "        text-align: right;\n",
       "    }\n",
       "</style>\n",
       "<table border=\"1\" class=\"dataframe\">\n",
       "  <thead>\n",
       "    <tr style=\"text-align: right;\">\n",
       "      <th></th>\n",
       "      <th>A</th>\n",
       "      <th>B</th>\n",
       "      <th>C</th>\n",
       "      <th>D</th>\n",
       "    </tr>\n",
       "  </thead>\n",
       "  <tbody>\n",
       "    <tr>\n",
       "      <th>0</th>\n",
       "      <td>1.305479</td>\n",
       "      <td>0.021004</td>\n",
       "      <td>0.681953</td>\n",
       "      <td>-0.310267</td>\n",
       "    </tr>\n",
       "    <tr>\n",
       "      <th>1</th>\n",
       "      <td>0.324166</td>\n",
       "      <td>-0.130143</td>\n",
       "      <td>0.096996</td>\n",
       "      <td>0.595157</td>\n",
       "    </tr>\n",
       "    <tr>\n",
       "      <th>2</th>\n",
       "      <td>-0.818221</td>\n",
       "      <td>2.092387</td>\n",
       "      <td>-1.006017</td>\n",
       "      <td>-1.214189</td>\n",
       "    </tr>\n",
       "    <tr>\n",
       "      <th>3</th>\n",
       "      <td>1.158111</td>\n",
       "      <td>0.791663</td>\n",
       "      <td>0.624120</td>\n",
       "      <td>0.628346</td>\n",
       "    </tr>\n",
       "    <tr>\n",
       "      <th>4</th>\n",
       "      <td>-0.012247</td>\n",
       "      <td>-0.897254</td>\n",
       "      <td>0.075805</td>\n",
       "      <td>-0.677162</td>\n",
       "    </tr>\n",
       "    <tr>\n",
       "      <th>5</th>\n",
       "      <td>0.975120</td>\n",
       "      <td>-0.147057</td>\n",
       "      <td>-0.825497</td>\n",
       "      <td>-0.321386</td>\n",
       "    </tr>\n",
       "  </tbody>\n",
       "</table>\n",
       "</div>"
      ],
      "text/plain": [
       "          A         B         C         D\n",
       "0  1.305479  0.021004  0.681953 -0.310267\n",
       "1  0.324166 -0.130143  0.096996  0.595157\n",
       "2 -0.818221  2.092387 -1.006017 -1.214189\n",
       "3  1.158111  0.791663  0.624120  0.628346\n",
       "4 -0.012247 -0.897254  0.075805 -0.677162\n",
       "5  0.975120 -0.147057 -0.825497 -0.321386"
      ]
     },
     "execution_count": 56,
     "metadata": {},
     "output_type": "execute_result"
    }
   ],
   "source": [
    "pd.DataFrame(np.random.randn(6, 4), columns=list(\"ABCD\"))"
   ]
  },
  {
   "cell_type": "markdown",
   "metadata": {},
   "source": [
    "## Exploring DataFrames"
   ]
  },
  {
   "cell_type": "markdown",
   "metadata": {},
   "source": [
    "The data above are quite small in comparison to datasets that we might see in practice. For larger datasets, it is crucial to be able to obtain a quick overview or glimpse of the overall data structure. \n",
    "\n",
    "- `.info()`: provides a concise summary of the DataFrame\n",
    "- `.describe()`: provides a quick statistical summary of numeric columns in the DataFrame\n",
    "- `.head()`: prints the top five rows of the DataFrame\n",
    "- `.tail()`: prints the bottom five rows of the DataFrame\n",
    "- `.shape`: outputs the dimensions of the DataFrame (# rows, # columns)\n",
    "- `.dtypes`: lists the data type of each column in the DataFrame\n",
    "- `.columns`: lists the column names in the DataFrame\n",
    "- `.index`: lists the indexes or row names in the DataFrame"
   ]
  },
  {
   "cell_type": "code",
   "execution_count": 57,
   "metadata": {},
   "outputs": [
    {
     "name": "stdout",
     "output_type": "stream",
     "text": [
      "<class 'pandas.core.frame.DataFrame'>\n",
      "RangeIndex: 6 entries, 0 to 5\n",
      "Data columns (total 3 columns):\n",
      " #   Column       Non-Null Count  Dtype  \n",
      "---  ------       --------------  -----  \n",
      " 0   first_name   6 non-null      object \n",
      " 1   last_name    6 non-null      object \n",
      " 2   win_percent  6 non-null      float64\n",
      "dtypes: float64(1), object(2)\n",
      "memory usage: 276.0+ bytes\n"
     ]
    }
   ],
   "source": [
    "df.info()  # general info/summary"
   ]
  },
  {
   "cell_type": "code",
   "execution_count": 58,
   "metadata": {},
   "outputs": [
    {
     "data": {
      "text/html": [
       "<div>\n",
       "<style scoped>\n",
       "    .dataframe tbody tr th:only-of-type {\n",
       "        vertical-align: middle;\n",
       "    }\n",
       "\n",
       "    .dataframe tbody tr th {\n",
       "        vertical-align: top;\n",
       "    }\n",
       "\n",
       "    .dataframe thead th {\n",
       "        text-align: right;\n",
       "    }\n",
       "</style>\n",
       "<table border=\"1\" class=\"dataframe\">\n",
       "  <thead>\n",
       "    <tr style=\"text-align: right;\">\n",
       "      <th></th>\n",
       "      <th>win_percent</th>\n",
       "    </tr>\n",
       "  </thead>\n",
       "  <tbody>\n",
       "    <tr>\n",
       "      <th>count</th>\n",
       "      <td>6.000000</td>\n",
       "    </tr>\n",
       "    <tr>\n",
       "      <th>mean</th>\n",
       "      <td>0.814500</td>\n",
       "    </tr>\n",
       "    <tr>\n",
       "      <th>std</th>\n",
       "      <td>0.049674</td>\n",
       "    </tr>\n",
       "    <tr>\n",
       "      <th>min</th>\n",
       "      <td>0.764000</td>\n",
       "    </tr>\n",
       "    <tr>\n",
       "      <th>25%</th>\n",
       "      <td>0.770250</td>\n",
       "    </tr>\n",
       "    <tr>\n",
       "      <th>50%</th>\n",
       "      <td>0.811000</td>\n",
       "    </tr>\n",
       "    <tr>\n",
       "      <th>75%</th>\n",
       "      <td>0.850250</td>\n",
       "    </tr>\n",
       "    <tr>\n",
       "      <th>max</th>\n",
       "      <td>0.881000</td>\n",
       "    </tr>\n",
       "  </tbody>\n",
       "</table>\n",
       "</div>"
      ],
      "text/plain": [
       "       win_percent\n",
       "count     6.000000\n",
       "mean      0.814500\n",
       "std       0.049674\n",
       "min       0.764000\n",
       "25%       0.770250\n",
       "50%       0.811000\n",
       "75%       0.850250\n",
       "max       0.881000"
      ]
     },
     "execution_count": 58,
     "metadata": {},
     "output_type": "execute_result"
    }
   ],
   "source": [
    "df.describe()  # statistical summary of numeric columns"
   ]
  },
  {
   "cell_type": "code",
   "execution_count": 59,
   "metadata": {},
   "outputs": [
    {
     "data": {
      "text/html": [
       "<div>\n",
       "<style scoped>\n",
       "    .dataframe tbody tr th:only-of-type {\n",
       "        vertical-align: middle;\n",
       "    }\n",
       "\n",
       "    .dataframe tbody tr th {\n",
       "        vertical-align: top;\n",
       "    }\n",
       "\n",
       "    .dataframe thead th {\n",
       "        text-align: right;\n",
       "    }\n",
       "</style>\n",
       "<table border=\"1\" class=\"dataframe\">\n",
       "  <thead>\n",
       "    <tr style=\"text-align: right;\">\n",
       "      <th></th>\n",
       "      <th>first_name</th>\n",
       "      <th>last_name</th>\n",
       "      <th>win_percent</th>\n",
       "    </tr>\n",
       "  </thead>\n",
       "  <tbody>\n",
       "    <tr>\n",
       "      <th>0</th>\n",
       "      <td>Knute</td>\n",
       "      <td>Rockne</td>\n",
       "      <td>0.881</td>\n",
       "    </tr>\n",
       "    <tr>\n",
       "      <th>1</th>\n",
       "      <td>Frank</td>\n",
       "      <td>Leahy</td>\n",
       "      <td>0.855</td>\n",
       "    </tr>\n",
       "    <tr>\n",
       "      <th>2</th>\n",
       "      <td>Ara</td>\n",
       "      <td>Parseghian</td>\n",
       "      <td>0.836</td>\n",
       "    </tr>\n",
       "    <tr>\n",
       "      <th>3</th>\n",
       "      <td>Dan</td>\n",
       "      <td>Devine</td>\n",
       "      <td>0.764</td>\n",
       "    </tr>\n",
       "    <tr>\n",
       "      <th>4</th>\n",
       "      <td>Lou</td>\n",
       "      <td>Holtz</td>\n",
       "      <td>0.765</td>\n",
       "    </tr>\n",
       "  </tbody>\n",
       "</table>\n",
       "</div>"
      ],
      "text/plain": [
       "  first_name   last_name  win_percent\n",
       "0      Knute      Rockne        0.881\n",
       "1      Frank       Leahy        0.855\n",
       "2        Ara  Parseghian        0.836\n",
       "3        Dan      Devine        0.764\n",
       "4        Lou       Holtz        0.765"
      ]
     },
     "execution_count": 59,
     "metadata": {},
     "output_type": "execute_result"
    }
   ],
   "source": [
    "df.head()  # first five rows"
   ]
  },
  {
   "cell_type": "code",
   "execution_count": 60,
   "metadata": {},
   "outputs": [
    {
     "data": {
      "text/html": [
       "<div>\n",
       "<style scoped>\n",
       "    .dataframe tbody tr th:only-of-type {\n",
       "        vertical-align: middle;\n",
       "    }\n",
       "\n",
       "    .dataframe tbody tr th {\n",
       "        vertical-align: top;\n",
       "    }\n",
       "\n",
       "    .dataframe thead th {\n",
       "        text-align: right;\n",
       "    }\n",
       "</style>\n",
       "<table border=\"1\" class=\"dataframe\">\n",
       "  <thead>\n",
       "    <tr style=\"text-align: right;\">\n",
       "      <th></th>\n",
       "      <th>first_name</th>\n",
       "      <th>last_name</th>\n",
       "      <th>win_percent</th>\n",
       "    </tr>\n",
       "  </thead>\n",
       "  <tbody>\n",
       "    <tr>\n",
       "      <th>1</th>\n",
       "      <td>Frank</td>\n",
       "      <td>Leahy</td>\n",
       "      <td>0.855</td>\n",
       "    </tr>\n",
       "    <tr>\n",
       "      <th>2</th>\n",
       "      <td>Ara</td>\n",
       "      <td>Parseghian</td>\n",
       "      <td>0.836</td>\n",
       "    </tr>\n",
       "    <tr>\n",
       "      <th>3</th>\n",
       "      <td>Dan</td>\n",
       "      <td>Devine</td>\n",
       "      <td>0.764</td>\n",
       "    </tr>\n",
       "    <tr>\n",
       "      <th>4</th>\n",
       "      <td>Lou</td>\n",
       "      <td>Holtz</td>\n",
       "      <td>0.765</td>\n",
       "    </tr>\n",
       "    <tr>\n",
       "      <th>5</th>\n",
       "      <td>Marcus</td>\n",
       "      <td>Freeman</td>\n",
       "      <td>0.786</td>\n",
       "    </tr>\n",
       "  </tbody>\n",
       "</table>\n",
       "</div>"
      ],
      "text/plain": [
       "  first_name   last_name  win_percent\n",
       "1      Frank       Leahy        0.855\n",
       "2        Ara  Parseghian        0.836\n",
       "3        Dan      Devine        0.764\n",
       "4        Lou       Holtz        0.765\n",
       "5     Marcus     Freeman        0.786"
      ]
     },
     "execution_count": 60,
     "metadata": {},
     "output_type": "execute_result"
    }
   ],
   "source": [
    "df.tail()  # bottom five rows"
   ]
  },
  {
   "cell_type": "code",
   "execution_count": 61,
   "metadata": {},
   "outputs": [
    {
     "data": {
      "text/plain": [
       "(6, 3)"
      ]
     },
     "execution_count": 61,
     "metadata": {},
     "output_type": "execute_result"
    }
   ],
   "source": [
    "df.shape  # dimensions"
   ]
  },
  {
   "cell_type": "code",
   "execution_count": 62,
   "metadata": {},
   "outputs": [
    {
     "data": {
      "text/plain": [
       "first_name      object\n",
       "last_name       object\n",
       "win_percent    float64\n",
       "dtype: object"
      ]
     },
     "execution_count": 62,
     "metadata": {},
     "output_type": "execute_result"
    }
   ],
   "source": [
    "df.dtypes  # data types of each column"
   ]
  },
  {
   "cell_type": "code",
   "execution_count": 63,
   "metadata": {},
   "outputs": [
    {
     "data": {
      "text/plain": [
       "Index(['first_name', 'last_name', 'win_percent'], dtype='object')"
      ]
     },
     "execution_count": 63,
     "metadata": {},
     "output_type": "execute_result"
    }
   ],
   "source": [
    "df.columns  # column names"
   ]
  },
  {
   "cell_type": "code",
   "execution_count": 64,
   "metadata": {},
   "outputs": [
    {
     "data": {
      "text/plain": [
       "RangeIndex(start=0, stop=6, step=1)"
      ]
     },
     "execution_count": 64,
     "metadata": {},
     "output_type": "execute_result"
    }
   ],
   "source": [
    "df.index  # row names"
   ]
  },
  {
   "cell_type": "markdown",
   "metadata": {},
   "source": [
    "**Exercise 1.** Print the number of rows in `df`."
   ]
  },
  {
   "cell_type": "code",
   "execution_count": null,
   "metadata": {},
   "outputs": [],
   "source": []
  },
  {
   "cell_type": "markdown",
   "metadata": {},
   "source": [
    "## Selection"
   ]
  },
  {
   "cell_type": "markdown",
   "metadata": {},
   "source": [
    "Once we have a DataFrame object, there are many ways to select/filter columns and rows. In this section, we will review the different ways to perform this selection."
   ]
  },
  {
   "cell_type": "markdown",
   "metadata": {},
   "source": [
    "### Get Item (`[]`)"
   ]
  },
  {
   "cell_type": "markdown",
   "metadata": {},
   "source": [
    "If we pass a single label to a DataFrame using `[]`, this selects a column in the DataFrame and yields a Series object."
   ]
  },
  {
   "cell_type": "code",
   "execution_count": 65,
   "metadata": {},
   "outputs": [
    {
     "data": {
      "text/plain": [
       "0     Knute\n",
       "1     Frank\n",
       "2       Ara\n",
       "3       Dan\n",
       "4       Lou\n",
       "5    Marcus\n",
       "Name: first_name, dtype: object"
      ]
     },
     "execution_count": 65,
     "metadata": {},
     "output_type": "execute_result"
    }
   ],
   "source": [
    "df[\"first_name\"]"
   ]
  },
  {
   "cell_type": "markdown",
   "metadata": {},
   "source": [
    "This is equivalent to:"
   ]
  },
  {
   "cell_type": "code",
   "execution_count": 66,
   "metadata": {},
   "outputs": [
    {
     "data": {
      "text/plain": [
       "0     Knute\n",
       "1     Frank\n",
       "2       Ara\n",
       "3       Dan\n",
       "4       Lou\n",
       "5    Marcus\n",
       "Name: first_name, dtype: object"
      ]
     },
     "execution_count": 66,
     "metadata": {},
     "output_type": "execute_result"
    }
   ],
   "source": [
    "df.first_name"
   ]
  },
  {
   "cell_type": "markdown",
   "metadata": {},
   "source": [
    "If we want to select multiple columns in the DataFrame, we can instead pass a list of column names such as:"
   ]
  },
  {
   "cell_type": "code",
   "execution_count": 67,
   "metadata": {},
   "outputs": [
    {
     "data": {
      "text/html": [
       "<div>\n",
       "<style scoped>\n",
       "    .dataframe tbody tr th:only-of-type {\n",
       "        vertical-align: middle;\n",
       "    }\n",
       "\n",
       "    .dataframe tbody tr th {\n",
       "        vertical-align: top;\n",
       "    }\n",
       "\n",
       "    .dataframe thead th {\n",
       "        text-align: right;\n",
       "    }\n",
       "</style>\n",
       "<table border=\"1\" class=\"dataframe\">\n",
       "  <thead>\n",
       "    <tr style=\"text-align: right;\">\n",
       "      <th></th>\n",
       "      <th>first_name</th>\n",
       "      <th>last_name</th>\n",
       "    </tr>\n",
       "  </thead>\n",
       "  <tbody>\n",
       "    <tr>\n",
       "      <th>0</th>\n",
       "      <td>Knute</td>\n",
       "      <td>Rockne</td>\n",
       "    </tr>\n",
       "    <tr>\n",
       "      <th>1</th>\n",
       "      <td>Frank</td>\n",
       "      <td>Leahy</td>\n",
       "    </tr>\n",
       "    <tr>\n",
       "      <th>2</th>\n",
       "      <td>Ara</td>\n",
       "      <td>Parseghian</td>\n",
       "    </tr>\n",
       "    <tr>\n",
       "      <th>3</th>\n",
       "      <td>Dan</td>\n",
       "      <td>Devine</td>\n",
       "    </tr>\n",
       "    <tr>\n",
       "      <th>4</th>\n",
       "      <td>Lou</td>\n",
       "      <td>Holtz</td>\n",
       "    </tr>\n",
       "    <tr>\n",
       "      <th>5</th>\n",
       "      <td>Marcus</td>\n",
       "      <td>Freeman</td>\n",
       "    </tr>\n",
       "  </tbody>\n",
       "</table>\n",
       "</div>"
      ],
      "text/plain": [
       "  first_name   last_name\n",
       "0      Knute      Rockne\n",
       "1      Frank       Leahy\n",
       "2        Ara  Parseghian\n",
       "3        Dan      Devine\n",
       "4        Lou       Holtz\n",
       "5     Marcus     Freeman"
      ]
     },
     "execution_count": 67,
     "metadata": {},
     "output_type": "execute_result"
    }
   ],
   "source": [
    "df[[\"first_name\", \"last_name\"]]"
   ]
  },
  {
   "cell_type": "markdown",
   "metadata": {},
   "source": [
    "On the other hand, passing a slice using `:` selects matching rows:\n",
    "\n"
   ]
  },
  {
   "cell_type": "code",
   "execution_count": 68,
   "metadata": {},
   "outputs": [
    {
     "data": {
      "text/html": [
       "<div>\n",
       "<style scoped>\n",
       "    .dataframe tbody tr th:only-of-type {\n",
       "        vertical-align: middle;\n",
       "    }\n",
       "\n",
       "    .dataframe tbody tr th {\n",
       "        vertical-align: top;\n",
       "    }\n",
       "\n",
       "    .dataframe thead th {\n",
       "        text-align: right;\n",
       "    }\n",
       "</style>\n",
       "<table border=\"1\" class=\"dataframe\">\n",
       "  <thead>\n",
       "    <tr style=\"text-align: right;\">\n",
       "      <th></th>\n",
       "      <th>first_name</th>\n",
       "      <th>last_name</th>\n",
       "      <th>win_percent</th>\n",
       "    </tr>\n",
       "  </thead>\n",
       "  <tbody>\n",
       "    <tr>\n",
       "      <th>0</th>\n",
       "      <td>Knute</td>\n",
       "      <td>Rockne</td>\n",
       "      <td>0.881</td>\n",
       "    </tr>\n",
       "    <tr>\n",
       "      <th>1</th>\n",
       "      <td>Frank</td>\n",
       "      <td>Leahy</td>\n",
       "      <td>0.855</td>\n",
       "    </tr>\n",
       "    <tr>\n",
       "      <th>2</th>\n",
       "      <td>Ara</td>\n",
       "      <td>Parseghian</td>\n",
       "      <td>0.836</td>\n",
       "    </tr>\n",
       "  </tbody>\n",
       "</table>\n",
       "</div>"
      ],
      "text/plain": [
       "  first_name   last_name  win_percent\n",
       "0      Knute      Rockne        0.881\n",
       "1      Frank       Leahy        0.855\n",
       "2        Ara  Parseghian        0.836"
      ]
     },
     "execution_count": 68,
     "metadata": {},
     "output_type": "execute_result"
    }
   ],
   "source": [
    "df[0:3]"
   ]
  },
  {
   "cell_type": "markdown",
   "metadata": {},
   "source": [
    "**Exercise 2.** Subset the DataFrame `df` to get the last 4 rows. Then, print out the dimensions of this resulting DataFrame."
   ]
  },
  {
   "cell_type": "code",
   "execution_count": null,
   "metadata": {},
   "outputs": [],
   "source": []
  },
  {
   "cell_type": "markdown",
   "metadata": {},
   "source": [
    "### Selection by Label vs Position"
   ]
  },
  {
   "cell_type": "markdown",
   "metadata": {},
   "source": [
    "As an alternative to using `[]`, there are two methods `.loc()` and `.iloc()` that provide a more flexible alternative for subsetting a DataFrame by label (`.loc()`) or by position (`.iloc()`). In particular, `.loc()` and `.iloc()` allow us to subset both rows and columns in a DataFrame in a single call."
   ]
  },
  {
   "cell_type": "markdown",
   "metadata": {},
   "source": [
    "For example, suppose we want to extract the first two columns (i.e., the `first_name` and `last_name`) from `df`. The following two code chunks are equivalent approaches to achieve this. Note the `:` in the first component of `[]` means to select all rows."
   ]
  },
  {
   "cell_type": "code",
   "execution_count": 69,
   "metadata": {},
   "outputs": [
    {
     "data": {
      "text/html": [
       "<div>\n",
       "<style scoped>\n",
       "    .dataframe tbody tr th:only-of-type {\n",
       "        vertical-align: middle;\n",
       "    }\n",
       "\n",
       "    .dataframe tbody tr th {\n",
       "        vertical-align: top;\n",
       "    }\n",
       "\n",
       "    .dataframe thead th {\n",
       "        text-align: right;\n",
       "    }\n",
       "</style>\n",
       "<table border=\"1\" class=\"dataframe\">\n",
       "  <thead>\n",
       "    <tr style=\"text-align: right;\">\n",
       "      <th></th>\n",
       "      <th>first_name</th>\n",
       "      <th>last_name</th>\n",
       "    </tr>\n",
       "  </thead>\n",
       "  <tbody>\n",
       "    <tr>\n",
       "      <th>0</th>\n",
       "      <td>Knute</td>\n",
       "      <td>Rockne</td>\n",
       "    </tr>\n",
       "    <tr>\n",
       "      <th>1</th>\n",
       "      <td>Frank</td>\n",
       "      <td>Leahy</td>\n",
       "    </tr>\n",
       "    <tr>\n",
       "      <th>2</th>\n",
       "      <td>Ara</td>\n",
       "      <td>Parseghian</td>\n",
       "    </tr>\n",
       "    <tr>\n",
       "      <th>3</th>\n",
       "      <td>Dan</td>\n",
       "      <td>Devine</td>\n",
       "    </tr>\n",
       "    <tr>\n",
       "      <th>4</th>\n",
       "      <td>Lou</td>\n",
       "      <td>Holtz</td>\n",
       "    </tr>\n",
       "    <tr>\n",
       "      <th>5</th>\n",
       "      <td>Marcus</td>\n",
       "      <td>Freeman</td>\n",
       "    </tr>\n",
       "  </tbody>\n",
       "</table>\n",
       "</div>"
      ],
      "text/plain": [
       "  first_name   last_name\n",
       "0      Knute      Rockne\n",
       "1      Frank       Leahy\n",
       "2        Ara  Parseghian\n",
       "3        Dan      Devine\n",
       "4        Lou       Holtz\n",
       "5     Marcus     Freeman"
      ]
     },
     "execution_count": 69,
     "metadata": {},
     "output_type": "execute_result"
    }
   ],
   "source": [
    "df.loc[:, [\"first_name\", \"last_name\"]]"
   ]
  },
  {
   "cell_type": "code",
   "execution_count": 70,
   "metadata": {},
   "outputs": [
    {
     "data": {
      "text/html": [
       "<div>\n",
       "<style scoped>\n",
       "    .dataframe tbody tr th:only-of-type {\n",
       "        vertical-align: middle;\n",
       "    }\n",
       "\n",
       "    .dataframe tbody tr th {\n",
       "        vertical-align: top;\n",
       "    }\n",
       "\n",
       "    .dataframe thead th {\n",
       "        text-align: right;\n",
       "    }\n",
       "</style>\n",
       "<table border=\"1\" class=\"dataframe\">\n",
       "  <thead>\n",
       "    <tr style=\"text-align: right;\">\n",
       "      <th></th>\n",
       "      <th>first_name</th>\n",
       "      <th>last_name</th>\n",
       "    </tr>\n",
       "  </thead>\n",
       "  <tbody>\n",
       "    <tr>\n",
       "      <th>0</th>\n",
       "      <td>Knute</td>\n",
       "      <td>Rockne</td>\n",
       "    </tr>\n",
       "    <tr>\n",
       "      <th>1</th>\n",
       "      <td>Frank</td>\n",
       "      <td>Leahy</td>\n",
       "    </tr>\n",
       "    <tr>\n",
       "      <th>2</th>\n",
       "      <td>Ara</td>\n",
       "      <td>Parseghian</td>\n",
       "    </tr>\n",
       "    <tr>\n",
       "      <th>3</th>\n",
       "      <td>Dan</td>\n",
       "      <td>Devine</td>\n",
       "    </tr>\n",
       "    <tr>\n",
       "      <th>4</th>\n",
       "      <td>Lou</td>\n",
       "      <td>Holtz</td>\n",
       "    </tr>\n",
       "    <tr>\n",
       "      <th>5</th>\n",
       "      <td>Marcus</td>\n",
       "      <td>Freeman</td>\n",
       "    </tr>\n",
       "  </tbody>\n",
       "</table>\n",
       "</div>"
      ],
      "text/plain": [
       "  first_name   last_name\n",
       "0      Knute      Rockne\n",
       "1      Frank       Leahy\n",
       "2        Ara  Parseghian\n",
       "3        Dan      Devine\n",
       "4        Lou       Holtz\n",
       "5     Marcus     Freeman"
      ]
     },
     "execution_count": 70,
     "metadata": {},
     "output_type": "execute_result"
    }
   ],
   "source": [
    "# this would return an IndexError if uncommented\n",
    "# df.iloc[:, [\"first_name\", \"last_name\"]]\n",
    "df.iloc[:, 0:2]"
   ]
  },
  {
   "cell_type": "markdown",
   "metadata": {},
   "source": [
    "**Exercise 3.** As seen above, `df.iloc[:, 0:2]` returns the first two columns of `df`. If you try to run `df.loc[:, 0:2]` instead, this will return an Index Error. However, both `df.iloc[0:2, :]` and `df.loc[0:2, :]` run without error (you can try this out for yourself). Do these two commands (i.e., `df.iloc[0:2, :]` and `df.loc[0:2, :]`) give the same results? Can you explain this phenomenon?"
   ]
  },
  {
   "cell_type": "code",
   "execution_count": null,
   "metadata": {},
   "outputs": [],
   "source": []
  },
  {
   "cell_type": "markdown",
   "metadata": {},
   "source": [
    "**Exercise 4.** Try running `df.loc[:, [\"first_name\"]]` amd `df.loc[:, \"first_name\"]`. Do they give the same result?"
   ]
  },
  {
   "cell_type": "code",
   "execution_count": null,
   "metadata": {},
   "outputs": [],
   "source": []
  },
  {
   "cell_type": "markdown",
   "metadata": {},
   "source": [
    "As alluded to previously, it is possible to select both a subset of rows and columns using either `.iloc()` or `loc()`."
   ]
  },
  {
   "cell_type": "markdown",
   "metadata": {},
   "source": [
    "For example, the code below selects the rows labeled 0, 2, and 5 and columns \"first_name\" and \"win_percent\"."
   ]
  },
  {
   "cell_type": "code",
   "execution_count": 71,
   "metadata": {},
   "outputs": [
    {
     "data": {
      "text/html": [
       "<div>\n",
       "<style scoped>\n",
       "    .dataframe tbody tr th:only-of-type {\n",
       "        vertical-align: middle;\n",
       "    }\n",
       "\n",
       "    .dataframe tbody tr th {\n",
       "        vertical-align: top;\n",
       "    }\n",
       "\n",
       "    .dataframe thead th {\n",
       "        text-align: right;\n",
       "    }\n",
       "</style>\n",
       "<table border=\"1\" class=\"dataframe\">\n",
       "  <thead>\n",
       "    <tr style=\"text-align: right;\">\n",
       "      <th></th>\n",
       "      <th>first_name</th>\n",
       "      <th>win_percent</th>\n",
       "    </tr>\n",
       "  </thead>\n",
       "  <tbody>\n",
       "    <tr>\n",
       "      <th>0</th>\n",
       "      <td>Knute</td>\n",
       "      <td>0.881</td>\n",
       "    </tr>\n",
       "    <tr>\n",
       "      <th>2</th>\n",
       "      <td>Ara</td>\n",
       "      <td>0.836</td>\n",
       "    </tr>\n",
       "    <tr>\n",
       "      <th>5</th>\n",
       "      <td>Marcus</td>\n",
       "      <td>0.786</td>\n",
       "    </tr>\n",
       "  </tbody>\n",
       "</table>\n",
       "</div>"
      ],
      "text/plain": [
       "  first_name  win_percent\n",
       "0      Knute        0.881\n",
       "2        Ara        0.836\n",
       "5     Marcus        0.786"
      ]
     },
     "execution_count": 71,
     "metadata": {},
     "output_type": "execute_result"
    }
   ],
   "source": [
    "df.loc[[0, 2, 5], [\"first_name\", \"win_percent\"]]"
   ]
  },
  {
   "cell_type": "markdown",
   "metadata": {},
   "source": [
    "Since the indexes match the row positions, we could have equivalently subsetted the DataFrame using `.iloc()` as follows:"
   ]
  },
  {
   "cell_type": "code",
   "execution_count": 72,
   "metadata": {},
   "outputs": [
    {
     "data": {
      "text/html": [
       "<div>\n",
       "<style scoped>\n",
       "    .dataframe tbody tr th:only-of-type {\n",
       "        vertical-align: middle;\n",
       "    }\n",
       "\n",
       "    .dataframe tbody tr th {\n",
       "        vertical-align: top;\n",
       "    }\n",
       "\n",
       "    .dataframe thead th {\n",
       "        text-align: right;\n",
       "    }\n",
       "</style>\n",
       "<table border=\"1\" class=\"dataframe\">\n",
       "  <thead>\n",
       "    <tr style=\"text-align: right;\">\n",
       "      <th></th>\n",
       "      <th>first_name</th>\n",
       "      <th>win_percent</th>\n",
       "    </tr>\n",
       "  </thead>\n",
       "  <tbody>\n",
       "    <tr>\n",
       "      <th>0</th>\n",
       "      <td>Knute</td>\n",
       "      <td>0.881</td>\n",
       "    </tr>\n",
       "    <tr>\n",
       "      <th>2</th>\n",
       "      <td>Ara</td>\n",
       "      <td>0.836</td>\n",
       "    </tr>\n",
       "    <tr>\n",
       "      <th>5</th>\n",
       "      <td>Marcus</td>\n",
       "      <td>0.786</td>\n",
       "    </tr>\n",
       "  </tbody>\n",
       "</table>\n",
       "</div>"
      ],
      "text/plain": [
       "  first_name  win_percent\n",
       "0      Knute        0.881\n",
       "2        Ara        0.836\n",
       "5     Marcus        0.786"
      ]
     },
     "execution_count": 72,
     "metadata": {},
     "output_type": "execute_result"
    }
   ],
   "source": [
    "df.iloc[[0, 2, 5], [0, 2]]"
   ]
  },
  {
   "cell_type": "markdown",
   "metadata": {},
   "source": [
    "**Exercise 5.** Extract the first 3 rows of the columns named `\"col1\"` and `\"col50\"` in `df2` below."
   ]
  },
  {
   "cell_type": "code",
   "execution_count": 73,
   "metadata": {},
   "outputs": [
    {
     "data": {
      "text/html": [
       "<div>\n",
       "<style scoped>\n",
       "    .dataframe tbody tr th:only-of-type {\n",
       "        vertical-align: middle;\n",
       "    }\n",
       "\n",
       "    .dataframe tbody tr th {\n",
       "        vertical-align: top;\n",
       "    }\n",
       "\n",
       "    .dataframe thead th {\n",
       "        text-align: right;\n",
       "    }\n",
       "</style>\n",
       "<table border=\"1\" class=\"dataframe\">\n",
       "  <thead>\n",
       "    <tr style=\"text-align: right;\">\n",
       "      <th></th>\n",
       "      <th>col33</th>\n",
       "      <th>col25</th>\n",
       "      <th>col29</th>\n",
       "      <th>col50</th>\n",
       "      <th>col94</th>\n",
       "      <th>col89</th>\n",
       "      <th>col23</th>\n",
       "      <th>col1</th>\n",
       "      <th>col52</th>\n",
       "      <th>col93</th>\n",
       "      <th>...</th>\n",
       "      <th>col41</th>\n",
       "      <th>col39</th>\n",
       "      <th>col12</th>\n",
       "      <th>col45</th>\n",
       "      <th>col6</th>\n",
       "      <th>col16</th>\n",
       "      <th>col57</th>\n",
       "      <th>col73</th>\n",
       "      <th>col8</th>\n",
       "      <th>col75</th>\n",
       "    </tr>\n",
       "  </thead>\n",
       "  <tbody>\n",
       "    <tr>\n",
       "      <th>row90</th>\n",
       "      <td>-2.029231</td>\n",
       "      <td>1.961303</td>\n",
       "      <td>-0.263242</td>\n",
       "      <td>0.534809</td>\n",
       "      <td>1.905907</td>\n",
       "      <td>0.227602</td>\n",
       "      <td>-0.194670</td>\n",
       "      <td>1.419673</td>\n",
       "      <td>0.460737</td>\n",
       "      <td>0.586106</td>\n",
       "      <td>...</td>\n",
       "      <td>-1.746162</td>\n",
       "      <td>2.616700</td>\n",
       "      <td>-0.430792</td>\n",
       "      <td>0.494567</td>\n",
       "      <td>0.640582</td>\n",
       "      <td>-0.814784</td>\n",
       "      <td>1.846980</td>\n",
       "      <td>0.265955</td>\n",
       "      <td>-0.213473</td>\n",
       "      <td>0.138508</td>\n",
       "    </tr>\n",
       "    <tr>\n",
       "      <th>row40</th>\n",
       "      <td>0.764252</td>\n",
       "      <td>0.010798</td>\n",
       "      <td>0.881930</td>\n",
       "      <td>-1.684872</td>\n",
       "      <td>-0.747970</td>\n",
       "      <td>-2.138800</td>\n",
       "      <td>1.997008</td>\n",
       "      <td>1.983992</td>\n",
       "      <td>0.626616</td>\n",
       "      <td>-1.012618</td>\n",
       "      <td>...</td>\n",
       "      <td>0.537766</td>\n",
       "      <td>-1.358712</td>\n",
       "      <td>1.397164</td>\n",
       "      <td>-0.690399</td>\n",
       "      <td>0.616216</td>\n",
       "      <td>-0.630413</td>\n",
       "      <td>-0.915241</td>\n",
       "      <td>0.246104</td>\n",
       "      <td>1.051783</td>\n",
       "      <td>-0.247368</td>\n",
       "    </tr>\n",
       "    <tr>\n",
       "      <th>row87</th>\n",
       "      <td>-0.065477</td>\n",
       "      <td>0.807417</td>\n",
       "      <td>0.840527</td>\n",
       "      <td>-0.038492</td>\n",
       "      <td>-0.443480</td>\n",
       "      <td>0.082656</td>\n",
       "      <td>-0.190911</td>\n",
       "      <td>0.312974</td>\n",
       "      <td>-1.194270</td>\n",
       "      <td>0.277182</td>\n",
       "      <td>...</td>\n",
       "      <td>0.617390</td>\n",
       "      <td>-1.200170</td>\n",
       "      <td>-1.044495</td>\n",
       "      <td>-0.222395</td>\n",
       "      <td>0.297307</td>\n",
       "      <td>0.622800</td>\n",
       "      <td>0.950178</td>\n",
       "      <td>0.539572</td>\n",
       "      <td>1.346746</td>\n",
       "      <td>0.126793</td>\n",
       "    </tr>\n",
       "    <tr>\n",
       "      <th>row19</th>\n",
       "      <td>-0.759639</td>\n",
       "      <td>-0.003351</td>\n",
       "      <td>-0.068981</td>\n",
       "      <td>-2.578215</td>\n",
       "      <td>-0.561367</td>\n",
       "      <td>0.314204</td>\n",
       "      <td>-0.424216</td>\n",
       "      <td>-0.646209</td>\n",
       "      <td>0.911376</td>\n",
       "      <td>-0.916546</td>\n",
       "      <td>...</td>\n",
       "      <td>0.640904</td>\n",
       "      <td>-0.171913</td>\n",
       "      <td>-0.024277</td>\n",
       "      <td>-0.555224</td>\n",
       "      <td>-1.605409</td>\n",
       "      <td>0.567853</td>\n",
       "      <td>-0.806030</td>\n",
       "      <td>-0.200792</td>\n",
       "      <td>0.286974</td>\n",
       "      <td>-2.085218</td>\n",
       "    </tr>\n",
       "    <tr>\n",
       "      <th>row88</th>\n",
       "      <td>-1.861349</td>\n",
       "      <td>-0.299739</td>\n",
       "      <td>0.454563</td>\n",
       "      <td>0.744038</td>\n",
       "      <td>-1.591314</td>\n",
       "      <td>0.636631</td>\n",
       "      <td>-0.245070</td>\n",
       "      <td>-0.883157</td>\n",
       "      <td>-0.648552</td>\n",
       "      <td>0.801857</td>\n",
       "      <td>...</td>\n",
       "      <td>0.751903</td>\n",
       "      <td>0.976899</td>\n",
       "      <td>-0.695422</td>\n",
       "      <td>-0.041570</td>\n",
       "      <td>2.020402</td>\n",
       "      <td>-0.739874</td>\n",
       "      <td>-1.705087</td>\n",
       "      <td>1.382904</td>\n",
       "      <td>1.136605</td>\n",
       "      <td>-0.456967</td>\n",
       "    </tr>\n",
       "    <tr>\n",
       "      <th>...</th>\n",
       "      <td>...</td>\n",
       "      <td>...</td>\n",
       "      <td>...</td>\n",
       "      <td>...</td>\n",
       "      <td>...</td>\n",
       "      <td>...</td>\n",
       "      <td>...</td>\n",
       "      <td>...</td>\n",
       "      <td>...</td>\n",
       "      <td>...</td>\n",
       "      <td>...</td>\n",
       "      <td>...</td>\n",
       "      <td>...</td>\n",
       "      <td>...</td>\n",
       "      <td>...</td>\n",
       "      <td>...</td>\n",
       "      <td>...</td>\n",
       "      <td>...</td>\n",
       "      <td>...</td>\n",
       "      <td>...</td>\n",
       "      <td>...</td>\n",
       "    </tr>\n",
       "    <tr>\n",
       "      <th>row16</th>\n",
       "      <td>-0.439068</td>\n",
       "      <td>-0.327243</td>\n",
       "      <td>0.973754</td>\n",
       "      <td>-0.149791</td>\n",
       "      <td>-0.696386</td>\n",
       "      <td>-1.365518</td>\n",
       "      <td>0.360689</td>\n",
       "      <td>1.059476</td>\n",
       "      <td>-0.783128</td>\n",
       "      <td>0.688979</td>\n",
       "      <td>...</td>\n",
       "      <td>0.338316</td>\n",
       "      <td>-1.134381</td>\n",
       "      <td>-1.402473</td>\n",
       "      <td>-0.040216</td>\n",
       "      <td>-0.842513</td>\n",
       "      <td>0.938208</td>\n",
       "      <td>-1.500677</td>\n",
       "      <td>-1.418201</td>\n",
       "      <td>-0.416662</td>\n",
       "      <td>-1.538075</td>\n",
       "    </tr>\n",
       "    <tr>\n",
       "      <th>row62</th>\n",
       "      <td>1.676003</td>\n",
       "      <td>-0.182917</td>\n",
       "      <td>-0.602801</td>\n",
       "      <td>0.467964</td>\n",
       "      <td>0.883849</td>\n",
       "      <td>0.206959</td>\n",
       "      <td>-0.068091</td>\n",
       "      <td>-0.983473</td>\n",
       "      <td>0.630909</td>\n",
       "      <td>1.416703</td>\n",
       "      <td>...</td>\n",
       "      <td>-0.751806</td>\n",
       "      <td>-1.597024</td>\n",
       "      <td>-0.769053</td>\n",
       "      <td>0.794867</td>\n",
       "      <td>-0.392829</td>\n",
       "      <td>1.072442</td>\n",
       "      <td>0.693135</td>\n",
       "      <td>0.050453</td>\n",
       "      <td>1.096046</td>\n",
       "      <td>1.364416</td>\n",
       "    </tr>\n",
       "    <tr>\n",
       "      <th>row26</th>\n",
       "      <td>0.454387</td>\n",
       "      <td>0.229967</td>\n",
       "      <td>0.633369</td>\n",
       "      <td>-1.406587</td>\n",
       "      <td>-0.117571</td>\n",
       "      <td>-0.023991</td>\n",
       "      <td>-0.368744</td>\n",
       "      <td>-0.789496</td>\n",
       "      <td>0.998045</td>\n",
       "      <td>0.170058</td>\n",
       "      <td>...</td>\n",
       "      <td>-0.700711</td>\n",
       "      <td>1.319105</td>\n",
       "      <td>-0.335229</td>\n",
       "      <td>1.727326</td>\n",
       "      <td>1.936586</td>\n",
       "      <td>2.113684</td>\n",
       "      <td>-0.058767</td>\n",
       "      <td>0.210357</td>\n",
       "      <td>0.377956</td>\n",
       "      <td>-0.367488</td>\n",
       "    </tr>\n",
       "    <tr>\n",
       "      <th>row63</th>\n",
       "      <td>0.424370</td>\n",
       "      <td>-0.935196</td>\n",
       "      <td>-1.875476</td>\n",
       "      <td>0.714135</td>\n",
       "      <td>-0.349773</td>\n",
       "      <td>-0.976692</td>\n",
       "      <td>-0.850226</td>\n",
       "      <td>1.515122</td>\n",
       "      <td>0.464113</td>\n",
       "      <td>-1.522307</td>\n",
       "      <td>...</td>\n",
       "      <td>1.380032</td>\n",
       "      <td>0.200697</td>\n",
       "      <td>0.889286</td>\n",
       "      <td>0.080673</td>\n",
       "      <td>0.127006</td>\n",
       "      <td>-0.634929</td>\n",
       "      <td>1.928859</td>\n",
       "      <td>0.742844</td>\n",
       "      <td>0.521805</td>\n",
       "      <td>0.770295</td>\n",
       "    </tr>\n",
       "    <tr>\n",
       "      <th>row99</th>\n",
       "      <td>-0.677290</td>\n",
       "      <td>0.930972</td>\n",
       "      <td>1.555881</td>\n",
       "      <td>-1.380698</td>\n",
       "      <td>0.541563</td>\n",
       "      <td>0.062790</td>\n",
       "      <td>-0.519185</td>\n",
       "      <td>-1.093256</td>\n",
       "      <td>1.051920</td>\n",
       "      <td>0.207990</td>\n",
       "      <td>...</td>\n",
       "      <td>0.655225</td>\n",
       "      <td>-0.081546</td>\n",
       "      <td>0.464879</td>\n",
       "      <td>1.089593</td>\n",
       "      <td>0.181472</td>\n",
       "      <td>-0.521232</td>\n",
       "      <td>-0.220226</td>\n",
       "      <td>0.751864</td>\n",
       "      <td>-0.491263</td>\n",
       "      <td>0.889066</td>\n",
       "    </tr>\n",
       "  </tbody>\n",
       "</table>\n",
       "<p>100 rows × 100 columns</p>\n",
       "</div>"
      ],
      "text/plain": [
       "          col33     col25     col29     col50     col94     col89     col23  \\\n",
       "row90 -2.029231  1.961303 -0.263242  0.534809  1.905907  0.227602 -0.194670   \n",
       "row40  0.764252  0.010798  0.881930 -1.684872 -0.747970 -2.138800  1.997008   \n",
       "row87 -0.065477  0.807417  0.840527 -0.038492 -0.443480  0.082656 -0.190911   \n",
       "row19 -0.759639 -0.003351 -0.068981 -2.578215 -0.561367  0.314204 -0.424216   \n",
       "row88 -1.861349 -0.299739  0.454563  0.744038 -1.591314  0.636631 -0.245070   \n",
       "...         ...       ...       ...       ...       ...       ...       ...   \n",
       "row16 -0.439068 -0.327243  0.973754 -0.149791 -0.696386 -1.365518  0.360689   \n",
       "row62  1.676003 -0.182917 -0.602801  0.467964  0.883849  0.206959 -0.068091   \n",
       "row26  0.454387  0.229967  0.633369 -1.406587 -0.117571 -0.023991 -0.368744   \n",
       "row63  0.424370 -0.935196 -1.875476  0.714135 -0.349773 -0.976692 -0.850226   \n",
       "row99 -0.677290  0.930972  1.555881 -1.380698  0.541563  0.062790 -0.519185   \n",
       "\n",
       "           col1     col52     col93  ...     col41     col39     col12  \\\n",
       "row90  1.419673  0.460737  0.586106  ... -1.746162  2.616700 -0.430792   \n",
       "row40  1.983992  0.626616 -1.012618  ...  0.537766 -1.358712  1.397164   \n",
       "row87  0.312974 -1.194270  0.277182  ...  0.617390 -1.200170 -1.044495   \n",
       "row19 -0.646209  0.911376 -0.916546  ...  0.640904 -0.171913 -0.024277   \n",
       "row88 -0.883157 -0.648552  0.801857  ...  0.751903  0.976899 -0.695422   \n",
       "...         ...       ...       ...  ...       ...       ...       ...   \n",
       "row16  1.059476 -0.783128  0.688979  ...  0.338316 -1.134381 -1.402473   \n",
       "row62 -0.983473  0.630909  1.416703  ... -0.751806 -1.597024 -0.769053   \n",
       "row26 -0.789496  0.998045  0.170058  ... -0.700711  1.319105 -0.335229   \n",
       "row63  1.515122  0.464113 -1.522307  ...  1.380032  0.200697  0.889286   \n",
       "row99 -1.093256  1.051920  0.207990  ...  0.655225 -0.081546  0.464879   \n",
       "\n",
       "          col45      col6     col16     col57     col73      col8     col75  \n",
       "row90  0.494567  0.640582 -0.814784  1.846980  0.265955 -0.213473  0.138508  \n",
       "row40 -0.690399  0.616216 -0.630413 -0.915241  0.246104  1.051783 -0.247368  \n",
       "row87 -0.222395  0.297307  0.622800  0.950178  0.539572  1.346746  0.126793  \n",
       "row19 -0.555224 -1.605409  0.567853 -0.806030 -0.200792  0.286974 -2.085218  \n",
       "row88 -0.041570  2.020402 -0.739874 -1.705087  1.382904  1.136605 -0.456967  \n",
       "...         ...       ...       ...       ...       ...       ...       ...  \n",
       "row16 -0.040216 -0.842513  0.938208 -1.500677 -1.418201 -0.416662 -1.538075  \n",
       "row62  0.794867 -0.392829  1.072442  0.693135  0.050453  1.096046  1.364416  \n",
       "row26  1.727326  1.936586  2.113684 -0.058767  0.210357  0.377956 -0.367488  \n",
       "row63  0.080673  0.127006 -0.634929  1.928859  0.742844  0.521805  0.770295  \n",
       "row99  1.089593  0.181472 -0.521232 -0.220226  0.751864 -0.491263  0.889066  \n",
       "\n",
       "[100 rows x 100 columns]"
      ]
     },
     "execution_count": 73,
     "metadata": {},
     "output_type": "execute_result"
    }
   ],
   "source": [
    "col_names = np.random.choice([\"col\" + str(i) for i in range(100)], 100, replace=False)\n",
    "row_names = np.random.choice([\"row\" + str(i) for i in range(100)], 100, replace=False)\n",
    "df2 = pd.DataFrame(np.random.randn(100, 100), columns=col_names, index=row_names)\n",
    "df2"
   ]
  },
  {
   "cell_type": "code",
   "execution_count": null,
   "metadata": {},
   "outputs": [],
   "source": []
  },
  {
   "cell_type": "markdown",
   "metadata": {},
   "source": [
    "### Boolean Indexing"
   ]
  },
  {
   "cell_type": "markdown",
   "metadata": {},
   "source": [
    "It is also possible to select or filter rows/columns using boolean indexes. For example, if we want to select all coaches with a winning percentage greater than 0.8, we can do:"
   ]
  },
  {
   "cell_type": "code",
   "execution_count": 74,
   "metadata": {},
   "outputs": [
    {
     "data": {
      "text/html": [
       "<div>\n",
       "<style scoped>\n",
       "    .dataframe tbody tr th:only-of-type {\n",
       "        vertical-align: middle;\n",
       "    }\n",
       "\n",
       "    .dataframe tbody tr th {\n",
       "        vertical-align: top;\n",
       "    }\n",
       "\n",
       "    .dataframe thead th {\n",
       "        text-align: right;\n",
       "    }\n",
       "</style>\n",
       "<table border=\"1\" class=\"dataframe\">\n",
       "  <thead>\n",
       "    <tr style=\"text-align: right;\">\n",
       "      <th></th>\n",
       "      <th>first_name</th>\n",
       "      <th>last_name</th>\n",
       "      <th>win_percent</th>\n",
       "    </tr>\n",
       "  </thead>\n",
       "  <tbody>\n",
       "    <tr>\n",
       "      <th>0</th>\n",
       "      <td>Knute</td>\n",
       "      <td>Rockne</td>\n",
       "      <td>0.881</td>\n",
       "    </tr>\n",
       "    <tr>\n",
       "      <th>1</th>\n",
       "      <td>Frank</td>\n",
       "      <td>Leahy</td>\n",
       "      <td>0.855</td>\n",
       "    </tr>\n",
       "    <tr>\n",
       "      <th>2</th>\n",
       "      <td>Ara</td>\n",
       "      <td>Parseghian</td>\n",
       "      <td>0.836</td>\n",
       "    </tr>\n",
       "  </tbody>\n",
       "</table>\n",
       "</div>"
      ],
      "text/plain": [
       "  first_name   last_name  win_percent\n",
       "0      Knute      Rockne        0.881\n",
       "1      Frank       Leahy        0.855\n",
       "2        Ara  Parseghian        0.836"
      ]
     },
     "execution_count": 74,
     "metadata": {},
     "output_type": "execute_result"
    }
   ],
   "source": [
    "df[df[\"win_percent\"] > 0.8]"
   ]
  },
  {
   "cell_type": "markdown",
   "metadata": {},
   "source": [
    "Or if we want to get the coaches who's first name is either `\"Marcus\"` or `\"Lou\"`,"
   ]
  },
  {
   "cell_type": "code",
   "execution_count": 75,
   "metadata": {},
   "outputs": [
    {
     "data": {
      "text/html": [
       "<div>\n",
       "<style scoped>\n",
       "    .dataframe tbody tr th:only-of-type {\n",
       "        vertical-align: middle;\n",
       "    }\n",
       "\n",
       "    .dataframe tbody tr th {\n",
       "        vertical-align: top;\n",
       "    }\n",
       "\n",
       "    .dataframe thead th {\n",
       "        text-align: right;\n",
       "    }\n",
       "</style>\n",
       "<table border=\"1\" class=\"dataframe\">\n",
       "  <thead>\n",
       "    <tr style=\"text-align: right;\">\n",
       "      <th></th>\n",
       "      <th>first_name</th>\n",
       "      <th>last_name</th>\n",
       "      <th>win_percent</th>\n",
       "    </tr>\n",
       "  </thead>\n",
       "  <tbody>\n",
       "    <tr>\n",
       "      <th>0</th>\n",
       "      <td>Knute</td>\n",
       "      <td>Rockne</td>\n",
       "      <td>0.881</td>\n",
       "    </tr>\n",
       "    <tr>\n",
       "      <th>4</th>\n",
       "      <td>Lou</td>\n",
       "      <td>Holtz</td>\n",
       "      <td>0.765</td>\n",
       "    </tr>\n",
       "  </tbody>\n",
       "</table>\n",
       "</div>"
      ],
      "text/plain": [
       "  first_name last_name  win_percent\n",
       "0      Knute    Rockne        0.881\n",
       "4        Lou     Holtz        0.765"
      ]
     },
     "execution_count": 75,
     "metadata": {},
     "output_type": "execute_result"
    }
   ],
   "source": [
    "df[df[\"first_name\"].isin([\"Knute\", \"Lou\"])]"
   ]
  },
  {
   "cell_type": "markdown",
   "metadata": {},
   "source": [
    "Or if we want to get the coaches who's last name contains an `\"n\"`"
   ]
  },
  {
   "cell_type": "code",
   "execution_count": 76,
   "metadata": {},
   "outputs": [
    {
     "data": {
      "text/html": [
       "<div>\n",
       "<style scoped>\n",
       "    .dataframe tbody tr th:only-of-type {\n",
       "        vertical-align: middle;\n",
       "    }\n",
       "\n",
       "    .dataframe tbody tr th {\n",
       "        vertical-align: top;\n",
       "    }\n",
       "\n",
       "    .dataframe thead th {\n",
       "        text-align: right;\n",
       "    }\n",
       "</style>\n",
       "<table border=\"1\" class=\"dataframe\">\n",
       "  <thead>\n",
       "    <tr style=\"text-align: right;\">\n",
       "      <th></th>\n",
       "      <th>first_name</th>\n",
       "      <th>last_name</th>\n",
       "      <th>win_percent</th>\n",
       "    </tr>\n",
       "  </thead>\n",
       "  <tbody>\n",
       "    <tr>\n",
       "      <th>0</th>\n",
       "      <td>Knute</td>\n",
       "      <td>Rockne</td>\n",
       "      <td>0.881</td>\n",
       "    </tr>\n",
       "    <tr>\n",
       "      <th>2</th>\n",
       "      <td>Ara</td>\n",
       "      <td>Parseghian</td>\n",
       "      <td>0.836</td>\n",
       "    </tr>\n",
       "    <tr>\n",
       "      <th>3</th>\n",
       "      <td>Dan</td>\n",
       "      <td>Devine</td>\n",
       "      <td>0.764</td>\n",
       "    </tr>\n",
       "    <tr>\n",
       "      <th>5</th>\n",
       "      <td>Marcus</td>\n",
       "      <td>Freeman</td>\n",
       "      <td>0.786</td>\n",
       "    </tr>\n",
       "  </tbody>\n",
       "</table>\n",
       "</div>"
      ],
      "text/plain": [
       "  first_name   last_name  win_percent\n",
       "0      Knute      Rockne        0.881\n",
       "2        Ara  Parseghian        0.836\n",
       "3        Dan      Devine        0.764\n",
       "5     Marcus     Freeman        0.786"
      ]
     },
     "execution_count": 76,
     "metadata": {},
     "output_type": "execute_result"
    }
   ],
   "source": [
    "df[df[\"last_name\"].str.contains(\"n\", case=False)]"
   ]
  },
  {
   "cell_type": "markdown",
   "metadata": {},
   "source": [
    "Or if we want to get the coaches who's last name contains an `\"n\"` and has a winning percentage greater than 0.8"
   ]
  },
  {
   "cell_type": "code",
   "execution_count": 77,
   "metadata": {},
   "outputs": [
    {
     "data": {
      "text/html": [
       "<div>\n",
       "<style scoped>\n",
       "    .dataframe tbody tr th:only-of-type {\n",
       "        vertical-align: middle;\n",
       "    }\n",
       "\n",
       "    .dataframe tbody tr th {\n",
       "        vertical-align: top;\n",
       "    }\n",
       "\n",
       "    .dataframe thead th {\n",
       "        text-align: right;\n",
       "    }\n",
       "</style>\n",
       "<table border=\"1\" class=\"dataframe\">\n",
       "  <thead>\n",
       "    <tr style=\"text-align: right;\">\n",
       "      <th></th>\n",
       "      <th>first_name</th>\n",
       "      <th>last_name</th>\n",
       "      <th>win_percent</th>\n",
       "    </tr>\n",
       "  </thead>\n",
       "  <tbody>\n",
       "    <tr>\n",
       "      <th>0</th>\n",
       "      <td>Knute</td>\n",
       "      <td>Rockne</td>\n",
       "      <td>0.881</td>\n",
       "    </tr>\n",
       "    <tr>\n",
       "      <th>2</th>\n",
       "      <td>Ara</td>\n",
       "      <td>Parseghian</td>\n",
       "      <td>0.836</td>\n",
       "    </tr>\n",
       "  </tbody>\n",
       "</table>\n",
       "</div>"
      ],
      "text/plain": [
       "  first_name   last_name  win_percent\n",
       "0      Knute      Rockne        0.881\n",
       "2        Ara  Parseghian        0.836"
      ]
     },
     "execution_count": 77,
     "metadata": {},
     "output_type": "execute_result"
    }
   ],
   "source": [
    "df[df[\"last_name\"].str.contains(\"n\") & (df[\"win_percent\"] > 0.8)]"
   ]
  },
  {
   "cell_type": "markdown",
   "metadata": {},
   "source": [
    "**Exercise 6.** Extract the subset of rows from `df` corresponding to the coaches who's last name contains an `\"n\"` or has a winning percentage greater than 0.8."
   ]
  },
  {
   "cell_type": "code",
   "execution_count": null,
   "metadata": {},
   "outputs": [],
   "source": []
  },
  {
   "cell_type": "markdown",
   "metadata": {},
   "source": [
    "### Setting/Removing"
   ]
  },
  {
   "cell_type": "markdown",
   "metadata": {},
   "source": [
    "To set a new column in the DataFrame, you can use the following syntax:"
   ]
  },
  {
   "cell_type": "code",
   "execution_count": 78,
   "metadata": {},
   "outputs": [
    {
     "data": {
      "text/html": [
       "<div>\n",
       "<style scoped>\n",
       "    .dataframe tbody tr th:only-of-type {\n",
       "        vertical-align: middle;\n",
       "    }\n",
       "\n",
       "    .dataframe tbody tr th {\n",
       "        vertical-align: top;\n",
       "    }\n",
       "\n",
       "    .dataframe thead th {\n",
       "        text-align: right;\n",
       "    }\n",
       "</style>\n",
       "<table border=\"1\" class=\"dataframe\">\n",
       "  <thead>\n",
       "    <tr style=\"text-align: right;\">\n",
       "      <th></th>\n",
       "      <th>first_name</th>\n",
       "      <th>last_name</th>\n",
       "      <th>win_percent</th>\n",
       "      <th>n_championships</th>\n",
       "    </tr>\n",
       "  </thead>\n",
       "  <tbody>\n",
       "    <tr>\n",
       "      <th>0</th>\n",
       "      <td>Knute</td>\n",
       "      <td>Rockne</td>\n",
       "      <td>0.881</td>\n",
       "      <td>3</td>\n",
       "    </tr>\n",
       "    <tr>\n",
       "      <th>1</th>\n",
       "      <td>Frank</td>\n",
       "      <td>Leahy</td>\n",
       "      <td>0.855</td>\n",
       "      <td>4</td>\n",
       "    </tr>\n",
       "    <tr>\n",
       "      <th>2</th>\n",
       "      <td>Ara</td>\n",
       "      <td>Parseghian</td>\n",
       "      <td>0.836</td>\n",
       "      <td>2</td>\n",
       "    </tr>\n",
       "    <tr>\n",
       "      <th>3</th>\n",
       "      <td>Dan</td>\n",
       "      <td>Devine</td>\n",
       "      <td>0.764</td>\n",
       "      <td>1</td>\n",
       "    </tr>\n",
       "    <tr>\n",
       "      <th>4</th>\n",
       "      <td>Lou</td>\n",
       "      <td>Holtz</td>\n",
       "      <td>0.765</td>\n",
       "      <td>1</td>\n",
       "    </tr>\n",
       "    <tr>\n",
       "      <th>5</th>\n",
       "      <td>Marcus</td>\n",
       "      <td>Freeman</td>\n",
       "      <td>0.786</td>\n",
       "      <td>1?</td>\n",
       "    </tr>\n",
       "  </tbody>\n",
       "</table>\n",
       "</div>"
      ],
      "text/plain": [
       "  first_name   last_name  win_percent n_championships\n",
       "0      Knute      Rockne        0.881               3\n",
       "1      Frank       Leahy        0.855               4\n",
       "2        Ara  Parseghian        0.836               2\n",
       "3        Dan      Devine        0.764               1\n",
       "4        Lou       Holtz        0.765               1\n",
       "5     Marcus     Freeman        0.786              1?"
      ]
     },
     "execution_count": 78,
     "metadata": {},
     "output_type": "execute_result"
    }
   ],
   "source": [
    "df[\"n_championships\"] = [\"3\", \"4\", \"2\", \"1\", \"1\", \"1?\"]\n",
    "df"
   ]
  },
  {
   "cell_type": "markdown",
   "metadata": {},
   "source": [
    "It is also possible to create a new column using a Series object:"
   ]
  },
  {
   "cell_type": "code",
   "execution_count": 79,
   "metadata": {},
   "outputs": [],
   "source": [
    "df[\"n_championships\"] = pd.Series([\"3\", \"4\", \"2\", \"1\", \"1\", \"1?\"])"
   ]
  },
  {
   "cell_type": "markdown",
   "metadata": {},
   "source": [
    "However, it is important to note that setting a new column automatically aligns the data by the indexes. In the extreme case, when the indexes do not match like below, the resulting new column will be all NAs."
   ]
  },
  {
   "cell_type": "code",
   "execution_count": 80,
   "metadata": {},
   "outputs": [
    {
     "data": {
      "text/html": [
       "<div>\n",
       "<style scoped>\n",
       "    .dataframe tbody tr th:only-of-type {\n",
       "        vertical-align: middle;\n",
       "    }\n",
       "\n",
       "    .dataframe tbody tr th {\n",
       "        vertical-align: top;\n",
       "    }\n",
       "\n",
       "    .dataframe thead th {\n",
       "        text-align: right;\n",
       "    }\n",
       "</style>\n",
       "<table border=\"1\" class=\"dataframe\">\n",
       "  <thead>\n",
       "    <tr style=\"text-align: right;\">\n",
       "      <th></th>\n",
       "      <th>first_name</th>\n",
       "      <th>last_name</th>\n",
       "      <th>win_percent</th>\n",
       "      <th>n_championships</th>\n",
       "    </tr>\n",
       "  </thead>\n",
       "  <tbody>\n",
       "    <tr>\n",
       "      <th>0</th>\n",
       "      <td>Knute</td>\n",
       "      <td>Rockne</td>\n",
       "      <td>0.881</td>\n",
       "      <td>NaN</td>\n",
       "    </tr>\n",
       "    <tr>\n",
       "      <th>1</th>\n",
       "      <td>Frank</td>\n",
       "      <td>Leahy</td>\n",
       "      <td>0.855</td>\n",
       "      <td>NaN</td>\n",
       "    </tr>\n",
       "    <tr>\n",
       "      <th>2</th>\n",
       "      <td>Ara</td>\n",
       "      <td>Parseghian</td>\n",
       "      <td>0.836</td>\n",
       "      <td>NaN</td>\n",
       "    </tr>\n",
       "    <tr>\n",
       "      <th>3</th>\n",
       "      <td>Dan</td>\n",
       "      <td>Devine</td>\n",
       "      <td>0.764</td>\n",
       "      <td>NaN</td>\n",
       "    </tr>\n",
       "    <tr>\n",
       "      <th>4</th>\n",
       "      <td>Lou</td>\n",
       "      <td>Holtz</td>\n",
       "      <td>0.765</td>\n",
       "      <td>NaN</td>\n",
       "    </tr>\n",
       "    <tr>\n",
       "      <th>5</th>\n",
       "      <td>Marcus</td>\n",
       "      <td>Freeman</td>\n",
       "      <td>0.786</td>\n",
       "      <td>NaN</td>\n",
       "    </tr>\n",
       "  </tbody>\n",
       "</table>\n",
       "</div>"
      ],
      "text/plain": [
       "  first_name   last_name  win_percent n_championships\n",
       "0      Knute      Rockne        0.881             NaN\n",
       "1      Frank       Leahy        0.855             NaN\n",
       "2        Ara  Parseghian        0.836             NaN\n",
       "3        Dan      Devine        0.764             NaN\n",
       "4        Lou       Holtz        0.765             NaN\n",
       "5     Marcus     Freeman        0.786             NaN"
      ]
     },
     "execution_count": 80,
     "metadata": {},
     "output_type": "execute_result"
    }
   ],
   "source": [
    "champs = pd.Series(\n",
    "    [\"3\", \"4\", \"2\", \"1\", \"1\", \"1?\"], \n",
    "    index=[\"Knute\", \"Frank\", \"Ara\", \"Dan\", \"Lou\", \"Marcus\"]\n",
    ")\n",
    "df[\"n_championships\"] = champs\n",
    "df"
   ]
  },
  {
   "cell_type": "markdown",
   "metadata": {},
   "source": [
    "**Exercise 7.** Fix the above code chunk so that the number of championships for each coach is correct."
   ]
  },
  {
   "cell_type": "code",
   "execution_count": null,
   "metadata": {},
   "outputs": [],
   "source": []
  },
  {
   "cell_type": "markdown",
   "metadata": {},
   "source": [
    "To change a particular entry in the DataFrame, we can combine methods for selection discussed previously and `=`, e.g., "
   ]
  },
  {
   "cell_type": "code",
   "execution_count": 81,
   "metadata": {},
   "outputs": [
    {
     "data": {
      "text/html": [
       "<div>\n",
       "<style scoped>\n",
       "    .dataframe tbody tr th:only-of-type {\n",
       "        vertical-align: middle;\n",
       "    }\n",
       "\n",
       "    .dataframe tbody tr th {\n",
       "        vertical-align: top;\n",
       "    }\n",
       "\n",
       "    .dataframe thead th {\n",
       "        text-align: right;\n",
       "    }\n",
       "</style>\n",
       "<table border=\"1\" class=\"dataframe\">\n",
       "  <thead>\n",
       "    <tr style=\"text-align: right;\">\n",
       "      <th></th>\n",
       "      <th>first_name</th>\n",
       "      <th>last_name</th>\n",
       "      <th>win_percent</th>\n",
       "      <th>n_championships</th>\n",
       "    </tr>\n",
       "  </thead>\n",
       "  <tbody>\n",
       "    <tr>\n",
       "      <th>0</th>\n",
       "      <td>Knute</td>\n",
       "      <td>Rockne</td>\n",
       "      <td>0.881</td>\n",
       "      <td>NaN</td>\n",
       "    </tr>\n",
       "    <tr>\n",
       "      <th>1</th>\n",
       "      <td>Frank</td>\n",
       "      <td>Leahy</td>\n",
       "      <td>0.855</td>\n",
       "      <td>NaN</td>\n",
       "    </tr>\n",
       "    <tr>\n",
       "      <th>2</th>\n",
       "      <td>Ara</td>\n",
       "      <td>Parseghian</td>\n",
       "      <td>0.836</td>\n",
       "      <td>NaN</td>\n",
       "    </tr>\n",
       "    <tr>\n",
       "      <th>3</th>\n",
       "      <td>Daniel</td>\n",
       "      <td>Devine</td>\n",
       "      <td>0.764</td>\n",
       "      <td>NaN</td>\n",
       "    </tr>\n",
       "    <tr>\n",
       "      <th>4</th>\n",
       "      <td>Lou</td>\n",
       "      <td>Holtz</td>\n",
       "      <td>0.765</td>\n",
       "      <td>NaN</td>\n",
       "    </tr>\n",
       "    <tr>\n",
       "      <th>5</th>\n",
       "      <td>Marcus</td>\n",
       "      <td>Freeman</td>\n",
       "      <td>0.786</td>\n",
       "      <td>NaN</td>\n",
       "    </tr>\n",
       "  </tbody>\n",
       "</table>\n",
       "</div>"
      ],
      "text/plain": [
       "  first_name   last_name  win_percent n_championships\n",
       "0      Knute      Rockne        0.881             NaN\n",
       "1      Frank       Leahy        0.855             NaN\n",
       "2        Ara  Parseghian        0.836             NaN\n",
       "3     Daniel      Devine        0.764             NaN\n",
       "4        Lou       Holtz        0.765             NaN\n",
       "5     Marcus     Freeman        0.786             NaN"
      ]
     },
     "execution_count": 81,
     "metadata": {},
     "output_type": "execute_result"
    }
   ],
   "source": [
    "df.loc[df[\"first_name\"] == \"Dan\", \"first_name\"] = \"Daniel\"\n",
    "df"
   ]
  },
  {
   "cell_type": "markdown",
   "metadata": {},
   "source": [
    "**Exercise 8.** Change the number of championships won by Marcus Freeman to `\"1\"`. Then change the `\"n_championships\"` column from a string to an integer."
   ]
  },
  {
   "cell_type": "code",
   "execution_count": null,
   "metadata": {},
   "outputs": [],
   "source": []
  },
  {
   "cell_type": "markdown",
   "metadata": {},
   "source": [
    "To remove a column, use the drop method:"
   ]
  },
  {
   "cell_type": "code",
   "execution_count": 82,
   "metadata": {},
   "outputs": [
    {
     "data": {
      "text/html": [
       "<div>\n",
       "<style scoped>\n",
       "    .dataframe tbody tr th:only-of-type {\n",
       "        vertical-align: middle;\n",
       "    }\n",
       "\n",
       "    .dataframe tbody tr th {\n",
       "        vertical-align: top;\n",
       "    }\n",
       "\n",
       "    .dataframe thead th {\n",
       "        text-align: right;\n",
       "    }\n",
       "</style>\n",
       "<table border=\"1\" class=\"dataframe\">\n",
       "  <thead>\n",
       "    <tr style=\"text-align: right;\">\n",
       "      <th></th>\n",
       "      <th>first_name</th>\n",
       "      <th>last_name</th>\n",
       "      <th>win_percent</th>\n",
       "    </tr>\n",
       "  </thead>\n",
       "  <tbody>\n",
       "    <tr>\n",
       "      <th>0</th>\n",
       "      <td>Knute</td>\n",
       "      <td>Rockne</td>\n",
       "      <td>0.881</td>\n",
       "    </tr>\n",
       "    <tr>\n",
       "      <th>1</th>\n",
       "      <td>Frank</td>\n",
       "      <td>Leahy</td>\n",
       "      <td>0.855</td>\n",
       "    </tr>\n",
       "    <tr>\n",
       "      <th>2</th>\n",
       "      <td>Ara</td>\n",
       "      <td>Parseghian</td>\n",
       "      <td>0.836</td>\n",
       "    </tr>\n",
       "    <tr>\n",
       "      <th>3</th>\n",
       "      <td>Daniel</td>\n",
       "      <td>Devine</td>\n",
       "      <td>0.764</td>\n",
       "    </tr>\n",
       "    <tr>\n",
       "      <th>4</th>\n",
       "      <td>Lou</td>\n",
       "      <td>Holtz</td>\n",
       "      <td>0.765</td>\n",
       "    </tr>\n",
       "    <tr>\n",
       "      <th>5</th>\n",
       "      <td>Marcus</td>\n",
       "      <td>Freeman</td>\n",
       "      <td>0.786</td>\n",
       "    </tr>\n",
       "  </tbody>\n",
       "</table>\n",
       "</div>"
      ],
      "text/plain": [
       "  first_name   last_name  win_percent\n",
       "0      Knute      Rockne        0.881\n",
       "1      Frank       Leahy        0.855\n",
       "2        Ara  Parseghian        0.836\n",
       "3     Daniel      Devine        0.764\n",
       "4        Lou       Holtz        0.765\n",
       "5     Marcus     Freeman        0.786"
      ]
     },
     "execution_count": 82,
     "metadata": {},
     "output_type": "execute_result"
    }
   ],
   "source": [
    "df.drop(\"n_championships\", axis=1)"
   ]
  },
  {
   "cell_type": "markdown",
   "metadata": {},
   "source": [
    "**Exercise 9.** Remove both the `\"win_percent\"` and the `\"n_championships\"` columns from `df`."
   ]
  },
  {
   "cell_type": "code",
   "execution_count": null,
   "metadata": {},
   "outputs": [],
   "source": []
  },
  {
   "cell_type": "markdown",
   "metadata": {},
   "source": [
    "## Rename"
   ]
  },
  {
   "cell_type": "markdown",
   "metadata": {},
   "source": [
    "To rename columns, DataFrames have a `.rename()` method:"
   ]
  },
  {
   "cell_type": "code",
   "execution_count": 83,
   "metadata": {},
   "outputs": [
    {
     "data": {
      "text/html": [
       "<div>\n",
       "<style scoped>\n",
       "    .dataframe tbody tr th:only-of-type {\n",
       "        vertical-align: middle;\n",
       "    }\n",
       "\n",
       "    .dataframe tbody tr th {\n",
       "        vertical-align: top;\n",
       "    }\n",
       "\n",
       "    .dataframe thead th {\n",
       "        text-align: right;\n",
       "    }\n",
       "</style>\n",
       "<table border=\"1\" class=\"dataframe\">\n",
       "  <thead>\n",
       "    <tr style=\"text-align: right;\">\n",
       "      <th></th>\n",
       "      <th>first</th>\n",
       "      <th>last</th>\n",
       "      <th>win_percent</th>\n",
       "      <th>n_championships</th>\n",
       "    </tr>\n",
       "  </thead>\n",
       "  <tbody>\n",
       "    <tr>\n",
       "      <th>0</th>\n",
       "      <td>Knute</td>\n",
       "      <td>Rockne</td>\n",
       "      <td>0.881</td>\n",
       "      <td>NaN</td>\n",
       "    </tr>\n",
       "    <tr>\n",
       "      <th>1</th>\n",
       "      <td>Frank</td>\n",
       "      <td>Leahy</td>\n",
       "      <td>0.855</td>\n",
       "      <td>NaN</td>\n",
       "    </tr>\n",
       "    <tr>\n",
       "      <th>2</th>\n",
       "      <td>Ara</td>\n",
       "      <td>Parseghian</td>\n",
       "      <td>0.836</td>\n",
       "      <td>NaN</td>\n",
       "    </tr>\n",
       "    <tr>\n",
       "      <th>3</th>\n",
       "      <td>Daniel</td>\n",
       "      <td>Devine</td>\n",
       "      <td>0.764</td>\n",
       "      <td>NaN</td>\n",
       "    </tr>\n",
       "    <tr>\n",
       "      <th>4</th>\n",
       "      <td>Lou</td>\n",
       "      <td>Holtz</td>\n",
       "      <td>0.765</td>\n",
       "      <td>NaN</td>\n",
       "    </tr>\n",
       "    <tr>\n",
       "      <th>5</th>\n",
       "      <td>Marcus</td>\n",
       "      <td>Freeman</td>\n",
       "      <td>0.786</td>\n",
       "      <td>NaN</td>\n",
       "    </tr>\n",
       "  </tbody>\n",
       "</table>\n",
       "</div>"
      ],
      "text/plain": [
       "    first        last  win_percent n_championships\n",
       "0   Knute      Rockne        0.881             NaN\n",
       "1   Frank       Leahy        0.855             NaN\n",
       "2     Ara  Parseghian        0.836             NaN\n",
       "3  Daniel      Devine        0.764             NaN\n",
       "4     Lou       Holtz        0.765             NaN\n",
       "5  Marcus     Freeman        0.786             NaN"
      ]
     },
     "execution_count": 83,
     "metadata": {},
     "output_type": "execute_result"
    }
   ],
   "source": [
    "df.rename(columns={\"first_name\": \"first\", \"last_name\": \"last\"}, inplace=True)\n",
    "df"
   ]
  },
  {
   "cell_type": "markdown",
   "metadata": {},
   "source": [
    "**Exercise 10.** Notice that dropping the columns earlier does not remove the columns in place (i.e., you must set `df = df.drop(...)` in order to store the result with the specified columns removed). Does renaming using `df.rename()` rename the columns in place?"
   ]
  },
  {
   "cell_type": "code",
   "execution_count": null,
   "metadata": {},
   "outputs": [],
   "source": []
  },
  {
   "cell_type": "markdown",
   "metadata": {},
   "source": [
    "## Sorting"
   ]
  },
  {
   "cell_type": "markdown",
   "metadata": {},
   "source": [
    "To sort rows/columns, we can sort either by the DataFrame's index/column names or by values in particular column(s)."
   ]
  },
  {
   "cell_type": "code",
   "execution_count": 84,
   "metadata": {},
   "outputs": [
    {
     "data": {
      "text/html": [
       "<div>\n",
       "<style scoped>\n",
       "    .dataframe tbody tr th:only-of-type {\n",
       "        vertical-align: middle;\n",
       "    }\n",
       "\n",
       "    .dataframe tbody tr th {\n",
       "        vertical-align: top;\n",
       "    }\n",
       "\n",
       "    .dataframe thead th {\n",
       "        text-align: right;\n",
       "    }\n",
       "</style>\n",
       "<table border=\"1\" class=\"dataframe\">\n",
       "  <thead>\n",
       "    <tr style=\"text-align: right;\">\n",
       "      <th></th>\n",
       "      <th>first</th>\n",
       "      <th>last</th>\n",
       "      <th>n_championships</th>\n",
       "      <th>win_percent</th>\n",
       "    </tr>\n",
       "  </thead>\n",
       "  <tbody>\n",
       "    <tr>\n",
       "      <th>0</th>\n",
       "      <td>Knute</td>\n",
       "      <td>Rockne</td>\n",
       "      <td>NaN</td>\n",
       "      <td>0.881</td>\n",
       "    </tr>\n",
       "    <tr>\n",
       "      <th>1</th>\n",
       "      <td>Frank</td>\n",
       "      <td>Leahy</td>\n",
       "      <td>NaN</td>\n",
       "      <td>0.855</td>\n",
       "    </tr>\n",
       "    <tr>\n",
       "      <th>2</th>\n",
       "      <td>Ara</td>\n",
       "      <td>Parseghian</td>\n",
       "      <td>NaN</td>\n",
       "      <td>0.836</td>\n",
       "    </tr>\n",
       "    <tr>\n",
       "      <th>3</th>\n",
       "      <td>Daniel</td>\n",
       "      <td>Devine</td>\n",
       "      <td>NaN</td>\n",
       "      <td>0.764</td>\n",
       "    </tr>\n",
       "    <tr>\n",
       "      <th>4</th>\n",
       "      <td>Lou</td>\n",
       "      <td>Holtz</td>\n",
       "      <td>NaN</td>\n",
       "      <td>0.765</td>\n",
       "    </tr>\n",
       "    <tr>\n",
       "      <th>5</th>\n",
       "      <td>Marcus</td>\n",
       "      <td>Freeman</td>\n",
       "      <td>NaN</td>\n",
       "      <td>0.786</td>\n",
       "    </tr>\n",
       "  </tbody>\n",
       "</table>\n",
       "</div>"
      ],
      "text/plain": [
       "    first        last n_championships  win_percent\n",
       "0   Knute      Rockne             NaN        0.881\n",
       "1   Frank       Leahy             NaN        0.855\n",
       "2     Ara  Parseghian             NaN        0.836\n",
       "3  Daniel      Devine             NaN        0.764\n",
       "4     Lou       Holtz             NaN        0.765\n",
       "5  Marcus     Freeman             NaN        0.786"
      ]
     },
     "execution_count": 84,
     "metadata": {},
     "output_type": "execute_result"
    }
   ],
   "source": [
    "# sorting columns by column name\n",
    "df.sort_index(axis=1, ascending=True)"
   ]
  },
  {
   "cell_type": "code",
   "execution_count": 85,
   "metadata": {},
   "outputs": [
    {
     "data": {
      "text/html": [
       "<div>\n",
       "<style scoped>\n",
       "    .dataframe tbody tr th:only-of-type {\n",
       "        vertical-align: middle;\n",
       "    }\n",
       "\n",
       "    .dataframe tbody tr th {\n",
       "        vertical-align: top;\n",
       "    }\n",
       "\n",
       "    .dataframe thead th {\n",
       "        text-align: right;\n",
       "    }\n",
       "</style>\n",
       "<table border=\"1\" class=\"dataframe\">\n",
       "  <thead>\n",
       "    <tr style=\"text-align: right;\">\n",
       "      <th></th>\n",
       "      <th>first</th>\n",
       "      <th>last</th>\n",
       "      <th>win_percent</th>\n",
       "      <th>n_championships</th>\n",
       "    </tr>\n",
       "  </thead>\n",
       "  <tbody>\n",
       "    <tr>\n",
       "      <th>0</th>\n",
       "      <td>Knute</td>\n",
       "      <td>Rockne</td>\n",
       "      <td>0.881</td>\n",
       "      <td>NaN</td>\n",
       "    </tr>\n",
       "    <tr>\n",
       "      <th>1</th>\n",
       "      <td>Frank</td>\n",
       "      <td>Leahy</td>\n",
       "      <td>0.855</td>\n",
       "      <td>NaN</td>\n",
       "    </tr>\n",
       "    <tr>\n",
       "      <th>2</th>\n",
       "      <td>Ara</td>\n",
       "      <td>Parseghian</td>\n",
       "      <td>0.836</td>\n",
       "      <td>NaN</td>\n",
       "    </tr>\n",
       "    <tr>\n",
       "      <th>5</th>\n",
       "      <td>Marcus</td>\n",
       "      <td>Freeman</td>\n",
       "      <td>0.786</td>\n",
       "      <td>NaN</td>\n",
       "    </tr>\n",
       "    <tr>\n",
       "      <th>4</th>\n",
       "      <td>Lou</td>\n",
       "      <td>Holtz</td>\n",
       "      <td>0.765</td>\n",
       "      <td>NaN</td>\n",
       "    </tr>\n",
       "    <tr>\n",
       "      <th>3</th>\n",
       "      <td>Daniel</td>\n",
       "      <td>Devine</td>\n",
       "      <td>0.764</td>\n",
       "      <td>NaN</td>\n",
       "    </tr>\n",
       "  </tbody>\n",
       "</table>\n",
       "</div>"
      ],
      "text/plain": [
       "    first        last  win_percent n_championships\n",
       "0   Knute      Rockne        0.881             NaN\n",
       "1   Frank       Leahy        0.855             NaN\n",
       "2     Ara  Parseghian        0.836             NaN\n",
       "5  Marcus     Freeman        0.786             NaN\n",
       "4     Lou       Holtz        0.765             NaN\n",
       "3  Daniel      Devine        0.764             NaN"
      ]
     },
     "execution_count": 85,
     "metadata": {},
     "output_type": "execute_result"
    }
   ],
   "source": [
    "# sort first by winning percentage\n",
    "df.sort_values(by=[\"win_percent\"], ascending=False)"
   ]
  },
  {
   "cell_type": "markdown",
   "metadata": {},
   "source": [
    "**Exercise 11.** Sort the coaches first by number of championships and then by winning percentage to break any ties in the number of championships."
   ]
  },
  {
   "cell_type": "code",
   "execution_count": null,
   "metadata": {},
   "outputs": [],
   "source": []
  },
  {
   "cell_type": "markdown",
   "metadata": {},
   "source": [
    "## Grouping and Aggregation"
   ]
  },
  {
   "cell_type": "markdown",
   "metadata": {},
   "source": [
    "In `pandas`, we can \"group\" DataFrames by particular column(s), so that subsequent operations are applied to each group independently. What does this mean? This is best illustrated with an example.\n"
   ]
  },
  {
   "cell_type": "code",
   "execution_count": 86,
   "metadata": {},
   "outputs": [
    {
     "data": {
      "text/html": [
       "<div>\n",
       "<style scoped>\n",
       "    .dataframe tbody tr th:only-of-type {\n",
       "        vertical-align: middle;\n",
       "    }\n",
       "\n",
       "    .dataframe tbody tr th {\n",
       "        vertical-align: top;\n",
       "    }\n",
       "\n",
       "    .dataframe thead th {\n",
       "        text-align: right;\n",
       "    }\n",
       "</style>\n",
       "<table border=\"1\" class=\"dataframe\">\n",
       "  <thead>\n",
       "    <tr style=\"text-align: right;\">\n",
       "      <th></th>\n",
       "      <th>A</th>\n",
       "      <th>B</th>\n",
       "      <th>C</th>\n",
       "      <th>D</th>\n",
       "    </tr>\n",
       "  </thead>\n",
       "  <tbody>\n",
       "    <tr>\n",
       "      <th>0</th>\n",
       "      <td>foo</td>\n",
       "      <td>one</td>\n",
       "      <td>1.908598</td>\n",
       "      <td>-0.389463</td>\n",
       "    </tr>\n",
       "    <tr>\n",
       "      <th>1</th>\n",
       "      <td>bar</td>\n",
       "      <td>one</td>\n",
       "      <td>0.901462</td>\n",
       "      <td>-0.028992</td>\n",
       "    </tr>\n",
       "    <tr>\n",
       "      <th>2</th>\n",
       "      <td>foo</td>\n",
       "      <td>two</td>\n",
       "      <td>0.747136</td>\n",
       "      <td>0.418656</td>\n",
       "    </tr>\n",
       "    <tr>\n",
       "      <th>3</th>\n",
       "      <td>bar</td>\n",
       "      <td>three</td>\n",
       "      <td>0.347632</td>\n",
       "      <td>-0.840421</td>\n",
       "    </tr>\n",
       "    <tr>\n",
       "      <th>4</th>\n",
       "      <td>foo</td>\n",
       "      <td>two</td>\n",
       "      <td>-0.776869</td>\n",
       "      <td>-0.501924</td>\n",
       "    </tr>\n",
       "    <tr>\n",
       "      <th>5</th>\n",
       "      <td>bar</td>\n",
       "      <td>two</td>\n",
       "      <td>-0.867582</td>\n",
       "      <td>0.322883</td>\n",
       "    </tr>\n",
       "    <tr>\n",
       "      <th>6</th>\n",
       "      <td>foo</td>\n",
       "      <td>one</td>\n",
       "      <td>-0.877622</td>\n",
       "      <td>-0.290854</td>\n",
       "    </tr>\n",
       "    <tr>\n",
       "      <th>7</th>\n",
       "      <td>foo</td>\n",
       "      <td>three</td>\n",
       "      <td>0.554732</td>\n",
       "      <td>-0.197451</td>\n",
       "    </tr>\n",
       "  </tbody>\n",
       "</table>\n",
       "</div>"
      ],
      "text/plain": [
       "     A      B         C         D\n",
       "0  foo    one  1.908598 -0.389463\n",
       "1  bar    one  0.901462 -0.028992\n",
       "2  foo    two  0.747136  0.418656\n",
       "3  bar  three  0.347632 -0.840421\n",
       "4  foo    two -0.776869 -0.501924\n",
       "5  bar    two -0.867582  0.322883\n",
       "6  foo    one -0.877622 -0.290854\n",
       "7  foo  three  0.554732 -0.197451"
      ]
     },
     "execution_count": 86,
     "metadata": {},
     "output_type": "execute_result"
    }
   ],
   "source": [
    "df = pd.DataFrame({\n",
    "    \"A\": [\"foo\", \"bar\", \"foo\", \"bar\", \"foo\", \"bar\", \"foo\", \"foo\"],\n",
    "    \"B\": [\"one\", \"one\", \"two\", \"three\", \"two\", \"two\", \"one\", \"three\"],\n",
    "    \"C\": np.random.randn(8),\n",
    "    \"D\": np.random.randn(8),\n",
    "})\n",
    "df"
   ]
  },
  {
   "cell_type": "markdown",
   "metadata": {},
   "source": [
    "Given this dataset, suppose we want to compute the mean for each unique combination of `(\"A\", \"B\")` values. Rather than manually subsetting the DataFrame to the relevant rows, we can simply \"group\" the DataFrame by columns `\"A\"` and `\"B\"` and apply the mean function as follows:"
   ]
  },
  {
   "cell_type": "code",
   "execution_count": 87,
   "metadata": {},
   "outputs": [
    {
     "data": {
      "text/html": [
       "<div>\n",
       "<style scoped>\n",
       "    .dataframe tbody tr th:only-of-type {\n",
       "        vertical-align: middle;\n",
       "    }\n",
       "\n",
       "    .dataframe tbody tr th {\n",
       "        vertical-align: top;\n",
       "    }\n",
       "\n",
       "    .dataframe thead th {\n",
       "        text-align: right;\n",
       "    }\n",
       "</style>\n",
       "<table border=\"1\" class=\"dataframe\">\n",
       "  <thead>\n",
       "    <tr style=\"text-align: right;\">\n",
       "      <th></th>\n",
       "      <th></th>\n",
       "      <th>C</th>\n",
       "      <th>D</th>\n",
       "    </tr>\n",
       "    <tr>\n",
       "      <th>A</th>\n",
       "      <th>B</th>\n",
       "      <th></th>\n",
       "      <th></th>\n",
       "    </tr>\n",
       "  </thead>\n",
       "  <tbody>\n",
       "    <tr>\n",
       "      <th rowspan=\"3\" valign=\"top\">bar</th>\n",
       "      <th>one</th>\n",
       "      <td>0.901462</td>\n",
       "      <td>-0.028992</td>\n",
       "    </tr>\n",
       "    <tr>\n",
       "      <th>three</th>\n",
       "      <td>0.347632</td>\n",
       "      <td>-0.840421</td>\n",
       "    </tr>\n",
       "    <tr>\n",
       "      <th>two</th>\n",
       "      <td>-0.867582</td>\n",
       "      <td>0.322883</td>\n",
       "    </tr>\n",
       "    <tr>\n",
       "      <th rowspan=\"3\" valign=\"top\">foo</th>\n",
       "      <th>one</th>\n",
       "      <td>0.515488</td>\n",
       "      <td>-0.340158</td>\n",
       "    </tr>\n",
       "    <tr>\n",
       "      <th>three</th>\n",
       "      <td>0.554732</td>\n",
       "      <td>-0.197451</td>\n",
       "    </tr>\n",
       "    <tr>\n",
       "      <th>two</th>\n",
       "      <td>-0.014867</td>\n",
       "      <td>-0.041634</td>\n",
       "    </tr>\n",
       "  </tbody>\n",
       "</table>\n",
       "</div>"
      ],
      "text/plain": [
       "                  C         D\n",
       "A   B                        \n",
       "bar one    0.901462 -0.028992\n",
       "    three  0.347632 -0.840421\n",
       "    two   -0.867582  0.322883\n",
       "foo one    0.515488 -0.340158\n",
       "    three  0.554732 -0.197451\n",
       "    two   -0.014867 -0.041634"
      ]
     },
     "execution_count": 87,
     "metadata": {},
     "output_type": "execute_result"
    }
   ],
   "source": [
    "df.groupby([\"A\", \"B\"]).mean()"
   ]
  },
  {
   "cell_type": "markdown",
   "metadata": {},
   "source": [
    "**Exercise 12.** What if we wanted to compute the mean of columns `\"C\"` and `\"D\"` within each group, defined by only column `\"A\"` (not columns `\"A\"` and `\"B\"`)?"
   ]
  },
  {
   "cell_type": "code",
   "execution_count": null,
   "metadata": {},
   "outputs": [],
   "source": []
  },
  {
   "cell_type": "markdown",
   "metadata": {},
   "source": [
    "## Concatenating"
   ]
  },
  {
   "cell_type": "markdown",
   "metadata": {},
   "source": [
    "To combine two DataFrames by concatenating columns or rows, we can use `pd.concat()`. Setting `axis=1` concatenates the two DataFrames by column while `axis=0` concatenates by row."
   ]
  },
  {
   "cell_type": "code",
   "execution_count": 88,
   "metadata": {},
   "outputs": [
    {
     "data": {
      "text/html": [
       "<div>\n",
       "<style scoped>\n",
       "    .dataframe tbody tr th:only-of-type {\n",
       "        vertical-align: middle;\n",
       "    }\n",
       "\n",
       "    .dataframe tbody tr th {\n",
       "        vertical-align: top;\n",
       "    }\n",
       "\n",
       "    .dataframe thead th {\n",
       "        text-align: right;\n",
       "    }\n",
       "</style>\n",
       "<table border=\"1\" class=\"dataframe\">\n",
       "  <thead>\n",
       "    <tr style=\"text-align: right;\">\n",
       "      <th></th>\n",
       "      <th>uppercase</th>\n",
       "      <th>lowercase</th>\n",
       "    </tr>\n",
       "  </thead>\n",
       "  <tbody>\n",
       "    <tr>\n",
       "      <th>0</th>\n",
       "      <td>A</td>\n",
       "      <td>a</td>\n",
       "    </tr>\n",
       "    <tr>\n",
       "      <th>1</th>\n",
       "      <td>B</td>\n",
       "      <td>b</td>\n",
       "    </tr>\n",
       "    <tr>\n",
       "      <th>2</th>\n",
       "      <td>C</td>\n",
       "      <td>c</td>\n",
       "    </tr>\n",
       "  </tbody>\n",
       "</table>\n",
       "</div>"
      ],
      "text/plain": [
       "  uppercase lowercase\n",
       "0         A         a\n",
       "1         B         b\n",
       "2         C         c"
      ]
     },
     "execution_count": 88,
     "metadata": {},
     "output_type": "execute_result"
    }
   ],
   "source": [
    "df1  = pd.DataFrame({\n",
    "    \"uppercase\": [\"A\", \"B\", \"C\"]\n",
    "})\n",
    "df2 = pd.DataFrame({\n",
    "    \"lowercase\": [\"a\", \"b\", \"c\"]\n",
    "})\n",
    "# concatenate along the columns\n",
    "pd.concat([df1, df2], axis=1)"
   ]
  },
  {
   "cell_type": "code",
   "execution_count": 89,
   "metadata": {},
   "outputs": [
    {
     "data": {
      "text/html": [
       "<div>\n",
       "<style scoped>\n",
       "    .dataframe tbody tr th:only-of-type {\n",
       "        vertical-align: middle;\n",
       "    }\n",
       "\n",
       "    .dataframe tbody tr th {\n",
       "        vertical-align: top;\n",
       "    }\n",
       "\n",
       "    .dataframe thead th {\n",
       "        text-align: right;\n",
       "    }\n",
       "</style>\n",
       "<table border=\"1\" class=\"dataframe\">\n",
       "  <thead>\n",
       "    <tr style=\"text-align: right;\">\n",
       "      <th></th>\n",
       "      <th>a</th>\n",
       "      <th>b</th>\n",
       "      <th>c</th>\n",
       "    </tr>\n",
       "  </thead>\n",
       "  <tbody>\n",
       "    <tr>\n",
       "      <th>0</th>\n",
       "      <td>1</td>\n",
       "      <td>2</td>\n",
       "      <td>3</td>\n",
       "    </tr>\n",
       "    <tr>\n",
       "      <th>1</th>\n",
       "      <td>2</td>\n",
       "      <td>3</td>\n",
       "      <td>4</td>\n",
       "    </tr>\n",
       "    <tr>\n",
       "      <th>2</th>\n",
       "      <td>3</td>\n",
       "      <td>4</td>\n",
       "      <td>5</td>\n",
       "    </tr>\n",
       "    <tr>\n",
       "      <th>0</th>\n",
       "      <td>4</td>\n",
       "      <td>5</td>\n",
       "      <td>6</td>\n",
       "    </tr>\n",
       "    <tr>\n",
       "      <th>1</th>\n",
       "      <td>5</td>\n",
       "      <td>6</td>\n",
       "      <td>7</td>\n",
       "    </tr>\n",
       "    <tr>\n",
       "      <th>2</th>\n",
       "      <td>6</td>\n",
       "      <td>7</td>\n",
       "      <td>8</td>\n",
       "    </tr>\n",
       "  </tbody>\n",
       "</table>\n",
       "</div>"
      ],
      "text/plain": [
       "   a  b  c\n",
       "0  1  2  3\n",
       "1  2  3  4\n",
       "2  3  4  5\n",
       "0  4  5  6\n",
       "1  5  6  7\n",
       "2  6  7  8"
      ]
     },
     "execution_count": 89,
     "metadata": {},
     "output_type": "execute_result"
    }
   ],
   "source": [
    "df1 = pd.DataFrame({\n",
    "    \"a\": [1, 2, 3],\n",
    "    \"b\": [2, 3, 4],\n",
    "    \"c\": [3, 4, 5]\n",
    "})\n",
    "df2 = pd.DataFrame({\n",
    "    \"a\": [4, 5, 6],\n",
    "    \"b\": [5, 6, 7],\n",
    "    \"c\": [6, 7, 8]\n",
    "})\n",
    "# concatenate along the rows\n",
    "pd.concat([df1, df2], axis=0)"
   ]
  },
  {
   "cell_type": "markdown",
   "metadata": {},
   "source": [
    "Note that concatenation uses the indexes to \"match\" rows or columns."
   ]
  },
  {
   "cell_type": "code",
   "execution_count": 90,
   "metadata": {},
   "outputs": [
    {
     "data": {
      "text/html": [
       "<div>\n",
       "<style scoped>\n",
       "    .dataframe tbody tr th:only-of-type {\n",
       "        vertical-align: middle;\n",
       "    }\n",
       "\n",
       "    .dataframe tbody tr th {\n",
       "        vertical-align: top;\n",
       "    }\n",
       "\n",
       "    .dataframe thead th {\n",
       "        text-align: right;\n",
       "    }\n",
       "</style>\n",
       "<table border=\"1\" class=\"dataframe\">\n",
       "  <thead>\n",
       "    <tr style=\"text-align: right;\">\n",
       "      <th></th>\n",
       "      <th>uppercase</th>\n",
       "      <th>lowercase</th>\n",
       "    </tr>\n",
       "  </thead>\n",
       "  <tbody>\n",
       "    <tr>\n",
       "      <th>one</th>\n",
       "      <td>A</td>\n",
       "      <td>NaN</td>\n",
       "    </tr>\n",
       "    <tr>\n",
       "      <th>two</th>\n",
       "      <td>B</td>\n",
       "      <td>NaN</td>\n",
       "    </tr>\n",
       "    <tr>\n",
       "      <th>three</th>\n",
       "      <td>C</td>\n",
       "      <td>NaN</td>\n",
       "    </tr>\n",
       "    <tr>\n",
       "      <th>0</th>\n",
       "      <td>NaN</td>\n",
       "      <td>a</td>\n",
       "    </tr>\n",
       "    <tr>\n",
       "      <th>1</th>\n",
       "      <td>NaN</td>\n",
       "      <td>b</td>\n",
       "    </tr>\n",
       "    <tr>\n",
       "      <th>2</th>\n",
       "      <td>NaN</td>\n",
       "      <td>c</td>\n",
       "    </tr>\n",
       "  </tbody>\n",
       "</table>\n",
       "</div>"
      ],
      "text/plain": [
       "      uppercase lowercase\n",
       "one           A       NaN\n",
       "two           B       NaN\n",
       "three         C       NaN\n",
       "0           NaN         a\n",
       "1           NaN         b\n",
       "2           NaN         c"
      ]
     },
     "execution_count": 90,
     "metadata": {},
     "output_type": "execute_result"
    }
   ],
   "source": [
    "df1  = pd.DataFrame({\n",
    "    \"uppercase\": [\"A\", \"B\", \"C\"],\n",
    "},\n",
    "index=[\"one\", \"two\", \"three\"])\n",
    "df2 = pd.DataFrame({\n",
    "    \"lowercase\": [\"a\", \"b\", \"c\"]\n",
    "})\n",
    "# concatenate along the columns, but indexes do not line up so NaNs are filled in\n",
    "pd.concat([df1, df2], axis=1)"
   ]
  },
  {
   "cell_type": "code",
   "execution_count": 91,
   "metadata": {},
   "outputs": [
    {
     "data": {
      "text/html": [
       "<div>\n",
       "<style scoped>\n",
       "    .dataframe tbody tr th:only-of-type {\n",
       "        vertical-align: middle;\n",
       "    }\n",
       "\n",
       "    .dataframe tbody tr th {\n",
       "        vertical-align: top;\n",
       "    }\n",
       "\n",
       "    .dataframe thead th {\n",
       "        text-align: right;\n",
       "    }\n",
       "</style>\n",
       "<table border=\"1\" class=\"dataframe\">\n",
       "  <thead>\n",
       "    <tr style=\"text-align: right;\">\n",
       "      <th></th>\n",
       "      <th>a</th>\n",
       "      <th>b</th>\n",
       "      <th>c</th>\n",
       "    </tr>\n",
       "  </thead>\n",
       "  <tbody>\n",
       "    <tr>\n",
       "      <th>0</th>\n",
       "      <td>1</td>\n",
       "      <td>2</td>\n",
       "      <td>3.0</td>\n",
       "    </tr>\n",
       "    <tr>\n",
       "      <th>1</th>\n",
       "      <td>2</td>\n",
       "      <td>3</td>\n",
       "      <td>4.0</td>\n",
       "    </tr>\n",
       "    <tr>\n",
       "      <th>2</th>\n",
       "      <td>3</td>\n",
       "      <td>4</td>\n",
       "      <td>5.0</td>\n",
       "    </tr>\n",
       "    <tr>\n",
       "      <th>0</th>\n",
       "      <td>4</td>\n",
       "      <td>5</td>\n",
       "      <td>NaN</td>\n",
       "    </tr>\n",
       "    <tr>\n",
       "      <th>1</th>\n",
       "      <td>5</td>\n",
       "      <td>6</td>\n",
       "      <td>NaN</td>\n",
       "    </tr>\n",
       "    <tr>\n",
       "      <th>2</th>\n",
       "      <td>6</td>\n",
       "      <td>7</td>\n",
       "      <td>NaN</td>\n",
       "    </tr>\n",
       "  </tbody>\n",
       "</table>\n",
       "</div>"
      ],
      "text/plain": [
       "   a  b    c\n",
       "0  1  2  3.0\n",
       "1  2  3  4.0\n",
       "2  3  4  5.0\n",
       "0  4  5  NaN\n",
       "1  5  6  NaN\n",
       "2  6  7  NaN"
      ]
     },
     "execution_count": 91,
     "metadata": {},
     "output_type": "execute_result"
    }
   ],
   "source": [
    "df1 = pd.DataFrame({\n",
    "    \"a\": [1, 2, 3],\n",
    "    \"b\": [2, 3, 4],\n",
    "    \"c\": [3, 4, 5]\n",
    "})\n",
    "df2 = pd.DataFrame({\n",
    "    \"b\": [5, 6, 7],\n",
    "    \"a\": [4, 5, 6]\n",
    "})\n",
    "# concatenate along the rows\n",
    "pd.concat([df1, df2], axis=0)"
   ]
  },
  {
   "cell_type": "markdown",
   "metadata": {},
   "source": [
    "**Exercise 13.** Without modifying `champs_df` below, please concatenate the following two DataFrames so that each coach has the correct number of championships assigned to them."
   ]
  },
  {
   "cell_type": "code",
   "execution_count": 92,
   "metadata": {},
   "outputs": [
    {
     "data": {
      "text/plain": [
       "(  first_name   last_name  win_percent\n",
       " 0      Knute      Rockne        0.881\n",
       " 1      Frank       Leahy        0.855\n",
       " 2        Ara  Parseghian        0.836\n",
       " 3        Dan      Devine        0.764\n",
       " 4        Lou       Holtz        0.765\n",
       " 5     Marcus     Freeman        0.786,\n",
       "               last n_championships\n",
       " Knute       Rockne               3\n",
       " Frank        Leahy               4\n",
       " Ara     Parseghian               2\n",
       " Dan         Devine               1\n",
       " Lou          Holtz               1\n",
       " Marcus     Freeman              1?)"
      ]
     },
     "execution_count": 92,
     "metadata": {},
     "output_type": "execute_result"
    }
   ],
   "source": [
    "win_df = pd.DataFrame({\n",
    "    \"first_name\": [\"Knute\", \"Frank\", \"Ara\", \"Dan\", \"Lou\", \"Marcus\"],\n",
    "    \"last_name\": [\"Rockne\", \"Leahy\", \"Parseghian\", \"Devine\", \"Holtz\", \"Freeman\"],\n",
    "    \"win_percent\": [0.881, 0.855, 0.836, 0.764, 0.765, 0.786]\n",
    "})\n",
    "champs_df = pd.DataFrame({\n",
    "    \"last\": [\"Rockne\", \"Leahy\", \"Parseghian\", \"Devine\", \"Holtz\", \"Freeman\"],\n",
    "    \"n_championships\": [\"3\", \"4\", \"2\", \"1\", \"1\", \"1?\"]\n",
    "}, index=[\"Knute\", \"Frank\", \"Ara\", \"Dan\", \"Lou\", \"Marcus\"])\n",
    "win_df, champs_df"
   ]
  },
  {
   "cell_type": "code",
   "execution_count": null,
   "metadata": {},
   "outputs": [],
   "source": []
  },
  {
   "cell_type": "markdown",
   "metadata": {},
   "source": [
    "Sometimes, it can be helpful to reset the indexes back to the usual \"position\" indexes. This can be done using `.reset_index()`. For example,"
   ]
  },
  {
   "cell_type": "code",
   "execution_count": 93,
   "metadata": {},
   "outputs": [
    {
     "data": {
      "text/html": [
       "<div>\n",
       "<style scoped>\n",
       "    .dataframe tbody tr th:only-of-type {\n",
       "        vertical-align: middle;\n",
       "    }\n",
       "\n",
       "    .dataframe tbody tr th {\n",
       "        vertical-align: top;\n",
       "    }\n",
       "\n",
       "    .dataframe thead th {\n",
       "        text-align: right;\n",
       "    }\n",
       "</style>\n",
       "<table border=\"1\" class=\"dataframe\">\n",
       "  <thead>\n",
       "    <tr style=\"text-align: right;\">\n",
       "      <th></th>\n",
       "      <th>index</th>\n",
       "      <th>last</th>\n",
       "      <th>n_championships</th>\n",
       "    </tr>\n",
       "  </thead>\n",
       "  <tbody>\n",
       "    <tr>\n",
       "      <th>0</th>\n",
       "      <td>Knute</td>\n",
       "      <td>Rockne</td>\n",
       "      <td>3</td>\n",
       "    </tr>\n",
       "    <tr>\n",
       "      <th>1</th>\n",
       "      <td>Frank</td>\n",
       "      <td>Leahy</td>\n",
       "      <td>4</td>\n",
       "    </tr>\n",
       "    <tr>\n",
       "      <th>2</th>\n",
       "      <td>Ara</td>\n",
       "      <td>Parseghian</td>\n",
       "      <td>2</td>\n",
       "    </tr>\n",
       "    <tr>\n",
       "      <th>3</th>\n",
       "      <td>Dan</td>\n",
       "      <td>Devine</td>\n",
       "      <td>1</td>\n",
       "    </tr>\n",
       "    <tr>\n",
       "      <th>4</th>\n",
       "      <td>Lou</td>\n",
       "      <td>Holtz</td>\n",
       "      <td>1</td>\n",
       "    </tr>\n",
       "    <tr>\n",
       "      <th>5</th>\n",
       "      <td>Marcus</td>\n",
       "      <td>Freeman</td>\n",
       "      <td>1?</td>\n",
       "    </tr>\n",
       "  </tbody>\n",
       "</table>\n",
       "</div>"
      ],
      "text/plain": [
       "    index        last n_championships\n",
       "0   Knute      Rockne               3\n",
       "1   Frank       Leahy               4\n",
       "2     Ara  Parseghian               2\n",
       "3     Dan      Devine               1\n",
       "4     Lou       Holtz               1\n",
       "5  Marcus     Freeman              1?"
      ]
     },
     "execution_count": 93,
     "metadata": {},
     "output_type": "execute_result"
    }
   ],
   "source": [
    "champs_df.reset_index()"
   ]
  },
  {
   "cell_type": "markdown",
   "metadata": {},
   "source": [
    "**Exercise 14.** Compare `champs_df.reset_index(drop=False)` versus `champs_df.reset_index(drop=True)`. What is the difference?"
   ]
  },
  {
   "cell_type": "code",
   "execution_count": null,
   "metadata": {},
   "outputs": [],
   "source": []
  },
  {
   "cell_type": "markdown",
   "metadata": {},
   "source": [
    "**Exercise 15.** Use `.reset_index()` to modify `champs_df` in order to concatenate `champs_df` and `win_df`"
   ]
  },
  {
   "cell_type": "code",
   "execution_count": 94,
   "metadata": {},
   "outputs": [],
   "source": [
    "win_df = pd.DataFrame({\n",
    "    \"first_name\": [\"Knute\", \"Frank\", \"Ara\", \"Dan\", \"Lou\", \"Marcus\"],\n",
    "    \"last_name\": [\"Rockne\", \"Leahy\", \"Parseghian\", \"Devine\", \"Holtz\", \"Freeman\"],\n",
    "    \"win_percent\": [0.881, 0.855, 0.836, 0.764, 0.765, 0.786]\n",
    "})\n",
    "champs_df = pd.DataFrame({\n",
    "    \"last\": [\"Rockne\", \"Leahy\", \"Parseghian\", \"Devine\", \"Holtz\", \"Freeman\"],\n",
    "    \"n_championships\": [\"3\", \"4\", \"2\", \"1\", \"1\", \"1?\"]\n",
    "}, index=[\"Knute\", \"Frank\", \"Ara\", \"Dan\", \"Lou\", \"Marcus\"])"
   ]
  },
  {
   "cell_type": "code",
   "execution_count": null,
   "metadata": {},
   "outputs": [],
   "source": []
  },
  {
   "cell_type": "markdown",
   "metadata": {},
   "source": [
    "## Joining"
   ]
  },
  {
   "cell_type": "markdown",
   "metadata": {},
   "source": [
    "Now, rather than simply concatenating datasets by rows or columns, we often want to merge datasets based upon common IDs (or columns(s)). This data manipulation is often called \"joining\" two datasets, and there are different types of \"joins\":\n",
    "\n",
    "-   \"inner join\": keep only rows that have matching IDs in both datasets\n",
    "-   \"full (or outer) join\": keep all rows from both datasets (don't need to have matching IDs)\n",
    "-   \"left join\": keep all rows from the first (i.e., left) dataset and only matching rows from the second dataset\n",
    "-   \"right join\": keep all rows from the second (i.e., right) dataset and only matching rows from the first dataset\n",
    "\n",
    "![](https://data-lessons.github.io/gapminder-R/fig/dplyr-joins.png)\n"
   ]
  },
  {
   "cell_type": "markdown",
   "metadata": {},
   "source": [
    "To illustrate the differences between these joins, let's try joining the following two datasets: `band_members` and `band_instruments`. Both datasets have column named `name` which we will use as the \"ID\" to join the datasets."
   ]
  },
  {
   "cell_type": "code",
   "execution_count": 95,
   "metadata": {},
   "outputs": [
    {
     "data": {
      "text/html": [
       "<div>\n",
       "<style scoped>\n",
       "    .dataframe tbody tr th:only-of-type {\n",
       "        vertical-align: middle;\n",
       "    }\n",
       "\n",
       "    .dataframe tbody tr th {\n",
       "        vertical-align: top;\n",
       "    }\n",
       "\n",
       "    .dataframe thead th {\n",
       "        text-align: right;\n",
       "    }\n",
       "</style>\n",
       "<table border=\"1\" class=\"dataframe\">\n",
       "  <thead>\n",
       "    <tr style=\"text-align: right;\">\n",
       "      <th></th>\n",
       "      <th>name</th>\n",
       "      <th>band</th>\n",
       "    </tr>\n",
       "  </thead>\n",
       "  <tbody>\n",
       "    <tr>\n",
       "      <th>0</th>\n",
       "      <td>Mick</td>\n",
       "      <td>Stones</td>\n",
       "    </tr>\n",
       "    <tr>\n",
       "      <th>1</th>\n",
       "      <td>John</td>\n",
       "      <td>Beatles</td>\n",
       "    </tr>\n",
       "    <tr>\n",
       "      <th>2</th>\n",
       "      <td>Paul</td>\n",
       "      <td>Beatles</td>\n",
       "    </tr>\n",
       "  </tbody>\n",
       "</table>\n",
       "</div>"
      ],
      "text/plain": [
       "   name     band\n",
       "0  Mick   Stones\n",
       "1  John  Beatles\n",
       "2  Paul  Beatles"
      ]
     },
     "execution_count": 95,
     "metadata": {},
     "output_type": "execute_result"
    }
   ],
   "source": [
    "band_members = pd.DataFrame({\n",
    "    \"name\": [\"Mick\", \"John\", \"Paul\"],\n",
    "    \"band\": [\"Stones\", \"Beatles\", \"Beatles\"]\n",
    "})\n",
    "band_members"
   ]
  },
  {
   "cell_type": "code",
   "execution_count": 96,
   "metadata": {},
   "outputs": [
    {
     "data": {
      "text/html": [
       "<div>\n",
       "<style scoped>\n",
       "    .dataframe tbody tr th:only-of-type {\n",
       "        vertical-align: middle;\n",
       "    }\n",
       "\n",
       "    .dataframe tbody tr th {\n",
       "        vertical-align: top;\n",
       "    }\n",
       "\n",
       "    .dataframe thead th {\n",
       "        text-align: right;\n",
       "    }\n",
       "</style>\n",
       "<table border=\"1\" class=\"dataframe\">\n",
       "  <thead>\n",
       "    <tr style=\"text-align: right;\">\n",
       "      <th></th>\n",
       "      <th>name</th>\n",
       "      <th>instrument</th>\n",
       "    </tr>\n",
       "  </thead>\n",
       "  <tbody>\n",
       "    <tr>\n",
       "      <th>0</th>\n",
       "      <td>John</td>\n",
       "      <td>guitar</td>\n",
       "    </tr>\n",
       "    <tr>\n",
       "      <th>1</th>\n",
       "      <td>Paul</td>\n",
       "      <td>bass</td>\n",
       "    </tr>\n",
       "    <tr>\n",
       "      <th>2</th>\n",
       "      <td>Keith</td>\n",
       "      <td>guitar</td>\n",
       "    </tr>\n",
       "  </tbody>\n",
       "</table>\n",
       "</div>"
      ],
      "text/plain": [
       "    name instrument\n",
       "0   John     guitar\n",
       "1   Paul       bass\n",
       "2  Keith     guitar"
      ]
     },
     "execution_count": 96,
     "metadata": {},
     "output_type": "execute_result"
    }
   ],
   "source": [
    "band_instruments = pd.DataFrame({\n",
    "    \"name\": [\"John\", \"Paul\", \"Keith\"],\n",
    "    \"instrument\": [\"guitar\", \"bass\", \"guitar\"],\n",
    "})\n",
    "band_instruments"
   ]
  },
  {
   "cell_type": "code",
   "execution_count": 97,
   "metadata": {},
   "outputs": [
    {
     "data": {
      "text/html": [
       "<div>\n",
       "<style scoped>\n",
       "    .dataframe tbody tr th:only-of-type {\n",
       "        vertical-align: middle;\n",
       "    }\n",
       "\n",
       "    .dataframe tbody tr th {\n",
       "        vertical-align: top;\n",
       "    }\n",
       "\n",
       "    .dataframe thead th {\n",
       "        text-align: right;\n",
       "    }\n",
       "</style>\n",
       "<table border=\"1\" class=\"dataframe\">\n",
       "  <thead>\n",
       "    <tr style=\"text-align: right;\">\n",
       "      <th></th>\n",
       "      <th>name</th>\n",
       "      <th>band</th>\n",
       "      <th>instrument</th>\n",
       "    </tr>\n",
       "  </thead>\n",
       "  <tbody>\n",
       "    <tr>\n",
       "      <th>0</th>\n",
       "      <td>John</td>\n",
       "      <td>Beatles</td>\n",
       "      <td>guitar</td>\n",
       "    </tr>\n",
       "    <tr>\n",
       "      <th>1</th>\n",
       "      <td>Paul</td>\n",
       "      <td>Beatles</td>\n",
       "      <td>bass</td>\n",
       "    </tr>\n",
       "  </tbody>\n",
       "</table>\n",
       "</div>"
      ],
      "text/plain": [
       "   name     band instrument\n",
       "0  John  Beatles     guitar\n",
       "1  Paul  Beatles       bass"
      ]
     },
     "execution_count": 97,
     "metadata": {},
     "output_type": "execute_result"
    }
   ],
   "source": [
    "# keeps people who are in both datasets\n",
    "pd.merge(band_members, band_instruments, on=\"name\", how=\"inner\")"
   ]
  },
  {
   "cell_type": "code",
   "execution_count": 98,
   "metadata": {},
   "outputs": [
    {
     "data": {
      "text/html": [
       "<div>\n",
       "<style scoped>\n",
       "    .dataframe tbody tr th:only-of-type {\n",
       "        vertical-align: middle;\n",
       "    }\n",
       "\n",
       "    .dataframe tbody tr th {\n",
       "        vertical-align: top;\n",
       "    }\n",
       "\n",
       "    .dataframe thead th {\n",
       "        text-align: right;\n",
       "    }\n",
       "</style>\n",
       "<table border=\"1\" class=\"dataframe\">\n",
       "  <thead>\n",
       "    <tr style=\"text-align: right;\">\n",
       "      <th></th>\n",
       "      <th>name</th>\n",
       "      <th>band</th>\n",
       "      <th>instrument</th>\n",
       "    </tr>\n",
       "  </thead>\n",
       "  <tbody>\n",
       "    <tr>\n",
       "      <th>0</th>\n",
       "      <td>John</td>\n",
       "      <td>Beatles</td>\n",
       "      <td>guitar</td>\n",
       "    </tr>\n",
       "    <tr>\n",
       "      <th>1</th>\n",
       "      <td>Keith</td>\n",
       "      <td>NaN</td>\n",
       "      <td>guitar</td>\n",
       "    </tr>\n",
       "    <tr>\n",
       "      <th>2</th>\n",
       "      <td>Mick</td>\n",
       "      <td>Stones</td>\n",
       "      <td>NaN</td>\n",
       "    </tr>\n",
       "    <tr>\n",
       "      <th>3</th>\n",
       "      <td>Paul</td>\n",
       "      <td>Beatles</td>\n",
       "      <td>bass</td>\n",
       "    </tr>\n",
       "  </tbody>\n",
       "</table>\n",
       "</div>"
      ],
      "text/plain": [
       "    name     band instrument\n",
       "0   John  Beatles     guitar\n",
       "1  Keith      NaN     guitar\n",
       "2   Mick   Stones        NaN\n",
       "3   Paul  Beatles       bass"
      ]
     },
     "execution_count": 98,
     "metadata": {},
     "output_type": "execute_result"
    }
   ],
   "source": [
    "# keeps all people from both datasets\n",
    "pd.merge(band_members, band_instruments, on=\"name\", how=\"outer\")"
   ]
  },
  {
   "cell_type": "code",
   "execution_count": 99,
   "metadata": {},
   "outputs": [
    {
     "data": {
      "text/html": [
       "<div>\n",
       "<style scoped>\n",
       "    .dataframe tbody tr th:only-of-type {\n",
       "        vertical-align: middle;\n",
       "    }\n",
       "\n",
       "    .dataframe tbody tr th {\n",
       "        vertical-align: top;\n",
       "    }\n",
       "\n",
       "    .dataframe thead th {\n",
       "        text-align: right;\n",
       "    }\n",
       "</style>\n",
       "<table border=\"1\" class=\"dataframe\">\n",
       "  <thead>\n",
       "    <tr style=\"text-align: right;\">\n",
       "      <th></th>\n",
       "      <th>name</th>\n",
       "      <th>band</th>\n",
       "      <th>instrument</th>\n",
       "    </tr>\n",
       "  </thead>\n",
       "  <tbody>\n",
       "    <tr>\n",
       "      <th>0</th>\n",
       "      <td>Mick</td>\n",
       "      <td>Stones</td>\n",
       "      <td>NaN</td>\n",
       "    </tr>\n",
       "    <tr>\n",
       "      <th>1</th>\n",
       "      <td>John</td>\n",
       "      <td>Beatles</td>\n",
       "      <td>guitar</td>\n",
       "    </tr>\n",
       "    <tr>\n",
       "      <th>2</th>\n",
       "      <td>Paul</td>\n",
       "      <td>Beatles</td>\n",
       "      <td>bass</td>\n",
       "    </tr>\n",
       "  </tbody>\n",
       "</table>\n",
       "</div>"
      ],
      "text/plain": [
       "   name     band instrument\n",
       "0  Mick   Stones        NaN\n",
       "1  John  Beatles     guitar\n",
       "2  Paul  Beatles       bass"
      ]
     },
     "execution_count": 99,
     "metadata": {},
     "output_type": "execute_result"
    }
   ],
   "source": [
    "# keeps all people in the left (band_members) dataset\n",
    "pd.merge(band_members, band_instruments, on=\"name\", how=\"left\")"
   ]
  },
  {
   "cell_type": "code",
   "execution_count": 100,
   "metadata": {},
   "outputs": [
    {
     "data": {
      "text/html": [
       "<div>\n",
       "<style scoped>\n",
       "    .dataframe tbody tr th:only-of-type {\n",
       "        vertical-align: middle;\n",
       "    }\n",
       "\n",
       "    .dataframe tbody tr th {\n",
       "        vertical-align: top;\n",
       "    }\n",
       "\n",
       "    .dataframe thead th {\n",
       "        text-align: right;\n",
       "    }\n",
       "</style>\n",
       "<table border=\"1\" class=\"dataframe\">\n",
       "  <thead>\n",
       "    <tr style=\"text-align: right;\">\n",
       "      <th></th>\n",
       "      <th>name</th>\n",
       "      <th>band</th>\n",
       "      <th>instrument</th>\n",
       "    </tr>\n",
       "  </thead>\n",
       "  <tbody>\n",
       "    <tr>\n",
       "      <th>0</th>\n",
       "      <td>John</td>\n",
       "      <td>Beatles</td>\n",
       "      <td>guitar</td>\n",
       "    </tr>\n",
       "    <tr>\n",
       "      <th>1</th>\n",
       "      <td>Paul</td>\n",
       "      <td>Beatles</td>\n",
       "      <td>bass</td>\n",
       "    </tr>\n",
       "    <tr>\n",
       "      <th>2</th>\n",
       "      <td>Keith</td>\n",
       "      <td>NaN</td>\n",
       "      <td>guitar</td>\n",
       "    </tr>\n",
       "  </tbody>\n",
       "</table>\n",
       "</div>"
      ],
      "text/plain": [
       "    name     band instrument\n",
       "0   John  Beatles     guitar\n",
       "1   Paul  Beatles       bass\n",
       "2  Keith      NaN     guitar"
      ]
     },
     "execution_count": 100,
     "metadata": {},
     "output_type": "execute_result"
    }
   ],
   "source": [
    "# keeps all people in the right (band_members) dataset\n",
    "pd.merge(band_members, band_instruments, on=\"name\", how=\"right\")"
   ]
  },
  {
   "cell_type": "markdown",
   "metadata": {},
   "source": [
    "If the \"ID\" column(s) have different names in the two datasets, you can specify the columns to join on using the `left_on` and `right_on` arguments. For example,"
   ]
  },
  {
   "cell_type": "code",
   "execution_count": 101,
   "metadata": {},
   "outputs": [
    {
     "data": {
      "text/html": [
       "<div>\n",
       "<style scoped>\n",
       "    .dataframe tbody tr th:only-of-type {\n",
       "        vertical-align: middle;\n",
       "    }\n",
       "\n",
       "    .dataframe tbody tr th {\n",
       "        vertical-align: top;\n",
       "    }\n",
       "\n",
       "    .dataframe thead th {\n",
       "        text-align: right;\n",
       "    }\n",
       "</style>\n",
       "<table border=\"1\" class=\"dataframe\">\n",
       "  <thead>\n",
       "    <tr style=\"text-align: right;\">\n",
       "      <th></th>\n",
       "      <th>first_name</th>\n",
       "      <th>last_name</th>\n",
       "      <th>win_percent</th>\n",
       "      <th>first</th>\n",
       "      <th>last</th>\n",
       "      <th>n_championships</th>\n",
       "    </tr>\n",
       "  </thead>\n",
       "  <tbody>\n",
       "    <tr>\n",
       "      <th>0</th>\n",
       "      <td>Knute</td>\n",
       "      <td>Rockne</td>\n",
       "      <td>0.881</td>\n",
       "      <td>Knute</td>\n",
       "      <td>Rockne</td>\n",
       "      <td>3</td>\n",
       "    </tr>\n",
       "    <tr>\n",
       "      <th>1</th>\n",
       "      <td>Frank</td>\n",
       "      <td>Leahy</td>\n",
       "      <td>0.855</td>\n",
       "      <td>Frank</td>\n",
       "      <td>Leahy</td>\n",
       "      <td>4</td>\n",
       "    </tr>\n",
       "    <tr>\n",
       "      <th>2</th>\n",
       "      <td>Ara</td>\n",
       "      <td>Parseghian</td>\n",
       "      <td>0.836</td>\n",
       "      <td>Ara</td>\n",
       "      <td>Parseghian</td>\n",
       "      <td>2</td>\n",
       "    </tr>\n",
       "    <tr>\n",
       "      <th>3</th>\n",
       "      <td>Dan</td>\n",
       "      <td>Devine</td>\n",
       "      <td>0.764</td>\n",
       "      <td>Dan</td>\n",
       "      <td>Devine</td>\n",
       "      <td>1</td>\n",
       "    </tr>\n",
       "    <tr>\n",
       "      <th>4</th>\n",
       "      <td>Lou</td>\n",
       "      <td>Holtz</td>\n",
       "      <td>0.765</td>\n",
       "      <td>Lou</td>\n",
       "      <td>Holtz</td>\n",
       "      <td>1</td>\n",
       "    </tr>\n",
       "    <tr>\n",
       "      <th>5</th>\n",
       "      <td>Marcus</td>\n",
       "      <td>Freeman</td>\n",
       "      <td>0.786</td>\n",
       "      <td>Marcus</td>\n",
       "      <td>Freeman</td>\n",
       "      <td>1?</td>\n",
       "    </tr>\n",
       "  </tbody>\n",
       "</table>\n",
       "</div>"
      ],
      "text/plain": [
       "  first_name   last_name  win_percent   first        last n_championships\n",
       "0      Knute      Rockne        0.881   Knute      Rockne               3\n",
       "1      Frank       Leahy        0.855   Frank       Leahy               4\n",
       "2        Ara  Parseghian        0.836     Ara  Parseghian               2\n",
       "3        Dan      Devine        0.764     Dan      Devine               1\n",
       "4        Lou       Holtz        0.765     Lou       Holtz               1\n",
       "5     Marcus     Freeman        0.786  Marcus     Freeman              1?"
      ]
     },
     "execution_count": 101,
     "metadata": {},
     "output_type": "execute_result"
    }
   ],
   "source": [
    "win_df = pd.DataFrame({\n",
    "    \"first_name\": [\"Knute\", \"Frank\", \"Ara\", \"Dan\", \"Lou\", \"Marcus\"],\n",
    "    \"last_name\": [\"Rockne\", \"Leahy\", \"Parseghian\", \"Devine\", \"Holtz\", \"Freeman\"],\n",
    "    \"win_percent\": [0.881, 0.855, 0.836, 0.764, 0.765, 0.786]\n",
    "})\n",
    "champs_df = pd.DataFrame({\n",
    "    \"first\": [\"Knute\", \"Frank\", \"Ara\", \"Dan\", \"Lou\", \"Marcus\"],\n",
    "    \"last\": [\"Rockne\", \"Leahy\", \"Parseghian\", \"Devine\", \"Holtz\", \"Freeman\"],\n",
    "    \"n_championships\": [\"3\", \"4\", \"2\", \"1\", \"1\", \"1?\"]\n",
    "})\n",
    "pd.merge(win_df, champs_df, \n",
    "         left_on=[\"first_name\", \"last_name\"], \n",
    "         right_on=[\"first\", \"last\"], \n",
    "         how=\"inner\")"
   ]
  },
  {
   "cell_type": "markdown",
   "metadata": {},
   "source": [
    "**Exercise 16.** Merge the `band_members` and `band_instruments2` datasets such that all band members in the `band_members` dataset are kept."
   ]
  },
  {
   "cell_type": "code",
   "execution_count": 102,
   "metadata": {},
   "outputs": [
    {
     "data": {
      "text/html": [
       "<div>\n",
       "<style scoped>\n",
       "    .dataframe tbody tr th:only-of-type {\n",
       "        vertical-align: middle;\n",
       "    }\n",
       "\n",
       "    .dataframe tbody tr th {\n",
       "        vertical-align: top;\n",
       "    }\n",
       "\n",
       "    .dataframe thead th {\n",
       "        text-align: right;\n",
       "    }\n",
       "</style>\n",
       "<table border=\"1\" class=\"dataframe\">\n",
       "  <thead>\n",
       "    <tr style=\"text-align: right;\">\n",
       "      <th></th>\n",
       "      <th>artist</th>\n",
       "      <th>instrument</th>\n",
       "    </tr>\n",
       "  </thead>\n",
       "  <tbody>\n",
       "    <tr>\n",
       "      <th>0</th>\n",
       "      <td>John</td>\n",
       "      <td>guitar</td>\n",
       "    </tr>\n",
       "    <tr>\n",
       "      <th>1</th>\n",
       "      <td>Paul</td>\n",
       "      <td>bass</td>\n",
       "    </tr>\n",
       "    <tr>\n",
       "      <th>2</th>\n",
       "      <td>Keith</td>\n",
       "      <td>guitar</td>\n",
       "    </tr>\n",
       "  </tbody>\n",
       "</table>\n",
       "</div>"
      ],
      "text/plain": [
       "  artist instrument\n",
       "0   John     guitar\n",
       "1   Paul       bass\n",
       "2  Keith     guitar"
      ]
     },
     "execution_count": 102,
     "metadata": {},
     "output_type": "execute_result"
    }
   ],
   "source": [
    "band_instruments2 = pd.DataFrame({\n",
    "    \"artist\": [\"John\", \"Paul\", \"Keith\"],\n",
    "    \"instrument\": [\"guitar\", \"bass\", \"guitar\"],\n",
    "})\n",
    "band_instruments2"
   ]
  },
  {
   "cell_type": "code",
   "execution_count": null,
   "metadata": {},
   "outputs": [],
   "source": []
  },
  {
   "cell_type": "markdown",
   "metadata": {},
   "source": [
    "## Plotting"
   ]
  },
  {
   "cell_type": "markdown",
   "metadata": {},
   "source": [
    "There will be plenty of opportunities to hone your plotting abilities throughout the semester. Because of this, we won't dwell on plotting too much here, except to check your familiarity with the very basics of matplotlib and seaborn."
   ]
  },
  {
   "cell_type": "markdown",
   "metadata": {},
   "source": [
    "**Exercise 17.** Using `win_df`, make a bar plot with the coach on the x-axis and their winning percentage on the y-axis. In addition, can you sort the coaches so that their winning percentages are decreasing from left to right in the plot?"
   ]
  },
  {
   "cell_type": "code",
   "execution_count": 103,
   "metadata": {},
   "outputs": [],
   "source": [
    "win_df = pd.DataFrame({\n",
    "    \"first_name\": [\"Knute\", \"Frank\", \"Ara\", \"Dan\", \"Lou\", \"Marcus\"],\n",
    "    \"last_name\": [\"Rockne\", \"Leahy\", \"Parseghian\", \"Devine\", \"Holtz\", \"Freeman\"],\n",
    "    \"win_percent\": [0.881, 0.855, 0.836, 0.764, 0.765, 0.786]\n",
    "})"
   ]
  },
  {
   "cell_type": "markdown",
   "metadata": {},
   "source": [
    "**Exercise 18.** Below, I've computed a correlation matrix with the pairwise correlations between every two pair of columns in `data`. Please use [`seaborn`](https://seaborn.pydata.org/) to plot this correlation matrix as a heatmap (often called a correlation heatmap)."
   ]
  },
  {
   "cell_type": "code",
   "execution_count": 104,
   "metadata": {},
   "outputs": [],
   "source": [
    "np.random.seed(42)\n",
    "data = pd.DataFrame({\n",
    "    'A': np.random.rand(100),\n",
    "    'B': np.random.rand(100),\n",
    "    'C': np.random.rand(100),\n",
    "    'D': np.random.rand(100)\n",
    "})\n",
    "\n",
    "# Compute the correlation matrix\n",
    "correlation_matrix = data.corr()"
   ]
  },
  {
   "cell_type": "code",
   "execution_count": null,
   "metadata": {},
   "outputs": [],
   "source": []
  }
 ],
 "metadata": {
  "kernelspec": {
   "display_name": "base",
   "language": "python",
   "name": "python3"
  },
  "language_info": {
   "codemirror_mode": {
    "name": "ipython",
    "version": 3
   },
   "file_extension": ".py",
   "mimetype": "text/x-python",
   "name": "python",
   "nbconvert_exporter": "python",
   "pygments_lexer": "ipython3",
   "version": "3.12.4"
  }
 },
 "nbformat": 4,
 "nbformat_minor": 2
}
