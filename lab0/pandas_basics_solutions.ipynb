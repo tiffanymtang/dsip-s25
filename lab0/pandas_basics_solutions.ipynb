{
 "cells": [
  {
   "cell_type": "markdown",
   "metadata": {},
   "source": [
    "# Introduction to pandas"
   ]
  },
  {
   "cell_type": "code",
   "execution_count": 1,
   "metadata": {},
   "outputs": [],
   "source": [
    "import pandas as pd\n",
    "import numpy as np\n",
    "import matplotlib.pyplot as plt\n",
    "import seaborn as sns"
   ]
  },
  {
   "cell_type": "markdown",
   "metadata": {},
   "source": [
    "[`Pandas`](https://pandas.pydata.org/docs/index.html) is a powerful and widely-used open-source Python library designed for data manipulation and analysis. At the heart of pandas are two primary data structures: **series** and **data frames**. These data structures serve as the foundational building blocks for everything that is nice about `pandas`.\n",
    "\n",
    "- [`Series`](https://pandas.pydata.org/docs/reference/api/pandas.Series.html#pandas.Series):  a one-dimensional labeled array holding data of any type\n",
    "such as integers, strings, Python objects etc.\n",
    "- [`DataFrame`](https://pandas.pydata.org/docs/reference/api/pandas.DataFrame.html#pandas.DataFrame): a two-dimensional data structure that holds data like a two-dimension array or a table with rows and columns.\n",
    "\n"
   ]
  },
  {
   "cell_type": "markdown",
   "metadata": {},
   "source": [
    "## Creating Series and DataFrame Objects"
   ]
  },
  {
   "cell_type": "markdown",
   "metadata": {},
   "source": [
    "Let's start by manually creating a simple series object:"
   ]
  },
  {
   "cell_type": "code",
   "execution_count": 2,
   "metadata": {},
   "outputs": [
    {
     "data": {
      "text/plain": [
       "0    1\n",
       "1    3\n",
       "2    5\n",
       "3    7\n",
       "dtype: int64"
      ]
     },
     "execution_count": 2,
     "metadata": {},
     "output_type": "execute_result"
    }
   ],
   "source": [
    "s = pd.Series([1, 3, 5, 7])\n",
    "s"
   ]
  },
  {
   "cell_type": "markdown",
   "metadata": {},
   "source": [
    "To manually create a DataFrame, we can do so from a dictionary like follows:"
   ]
  },
  {
   "cell_type": "code",
   "execution_count": 3,
   "metadata": {},
   "outputs": [
    {
     "data": {
      "text/html": [
       "<div>\n",
       "<style scoped>\n",
       "    .dataframe tbody tr th:only-of-type {\n",
       "        vertical-align: middle;\n",
       "    }\n",
       "\n",
       "    .dataframe tbody tr th {\n",
       "        vertical-align: top;\n",
       "    }\n",
       "\n",
       "    .dataframe thead th {\n",
       "        text-align: right;\n",
       "    }\n",
       "</style>\n",
       "<table border=\"1\" class=\"dataframe\">\n",
       "  <thead>\n",
       "    <tr style=\"text-align: right;\">\n",
       "      <th></th>\n",
       "      <th>first_name</th>\n",
       "      <th>last_name</th>\n",
       "      <th>win_percent</th>\n",
       "    </tr>\n",
       "  </thead>\n",
       "  <tbody>\n",
       "    <tr>\n",
       "      <th>0</th>\n",
       "      <td>Knute</td>\n",
       "      <td>Rockne</td>\n",
       "      <td>0.881</td>\n",
       "    </tr>\n",
       "    <tr>\n",
       "      <th>1</th>\n",
       "      <td>Frank</td>\n",
       "      <td>Leahy</td>\n",
       "      <td>0.855</td>\n",
       "    </tr>\n",
       "    <tr>\n",
       "      <th>2</th>\n",
       "      <td>Ara</td>\n",
       "      <td>Parseghian</td>\n",
       "      <td>0.836</td>\n",
       "    </tr>\n",
       "    <tr>\n",
       "      <th>3</th>\n",
       "      <td>Dan</td>\n",
       "      <td>Devine</td>\n",
       "      <td>0.764</td>\n",
       "    </tr>\n",
       "    <tr>\n",
       "      <th>4</th>\n",
       "      <td>Lou</td>\n",
       "      <td>Holtz</td>\n",
       "      <td>0.765</td>\n",
       "    </tr>\n",
       "    <tr>\n",
       "      <th>5</th>\n",
       "      <td>Marcus</td>\n",
       "      <td>Freeman</td>\n",
       "      <td>0.786</td>\n",
       "    </tr>\n",
       "  </tbody>\n",
       "</table>\n",
       "</div>"
      ],
      "text/plain": [
       "  first_name   last_name  win_percent\n",
       "0      Knute      Rockne        0.881\n",
       "1      Frank       Leahy        0.855\n",
       "2        Ara  Parseghian        0.836\n",
       "3        Dan      Devine        0.764\n",
       "4        Lou       Holtz        0.765\n",
       "5     Marcus     Freeman        0.786"
      ]
     },
     "execution_count": 3,
     "metadata": {},
     "output_type": "execute_result"
    }
   ],
   "source": [
    "df = pd.DataFrame({\n",
    "    \"first_name\": [\"Knute\", \"Frank\", \"Ara\", \"Dan\", \"Lou\", \"Marcus\"],\n",
    "    \"last_name\": [\"Rockne\", \"Leahy\", \"Parseghian\", \"Devine\", \"Holtz\", \"Freeman\"],\n",
    "    \"win_percent\": [0.881, 0.855, 0.836, 0.764, 0.765, 0.786]\n",
    "})\n",
    "df"
   ]
  },
  {
   "cell_type": "markdown",
   "metadata": {},
   "source": [
    "It is also possible to create a DataFrame from a numpy array:"
   ]
  },
  {
   "cell_type": "code",
   "execution_count": 4,
   "metadata": {},
   "outputs": [
    {
     "data": {
      "text/html": [
       "<div>\n",
       "<style scoped>\n",
       "    .dataframe tbody tr th:only-of-type {\n",
       "        vertical-align: middle;\n",
       "    }\n",
       "\n",
       "    .dataframe tbody tr th {\n",
       "        vertical-align: top;\n",
       "    }\n",
       "\n",
       "    .dataframe thead th {\n",
       "        text-align: right;\n",
       "    }\n",
       "</style>\n",
       "<table border=\"1\" class=\"dataframe\">\n",
       "  <thead>\n",
       "    <tr style=\"text-align: right;\">\n",
       "      <th></th>\n",
       "      <th>A</th>\n",
       "      <th>B</th>\n",
       "      <th>C</th>\n",
       "      <th>D</th>\n",
       "    </tr>\n",
       "  </thead>\n",
       "  <tbody>\n",
       "    <tr>\n",
       "      <th>0</th>\n",
       "      <td>-1.070594</td>\n",
       "      <td>0.376570</td>\n",
       "      <td>0.274615</td>\n",
       "      <td>0.019533</td>\n",
       "    </tr>\n",
       "    <tr>\n",
       "      <th>1</th>\n",
       "      <td>0.587511</td>\n",
       "      <td>-1.209149</td>\n",
       "      <td>-0.841527</td>\n",
       "      <td>0.689402</td>\n",
       "    </tr>\n",
       "    <tr>\n",
       "      <th>2</th>\n",
       "      <td>-0.067650</td>\n",
       "      <td>-0.510960</td>\n",
       "      <td>0.734652</td>\n",
       "      <td>-0.284406</td>\n",
       "    </tr>\n",
       "    <tr>\n",
       "      <th>3</th>\n",
       "      <td>-1.040383</td>\n",
       "      <td>-0.513105</td>\n",
       "      <td>1.122596</td>\n",
       "      <td>-1.197059</td>\n",
       "    </tr>\n",
       "    <tr>\n",
       "      <th>4</th>\n",
       "      <td>0.631201</td>\n",
       "      <td>-1.544154</td>\n",
       "      <td>-1.124264</td>\n",
       "      <td>-0.030905</td>\n",
       "    </tr>\n",
       "    <tr>\n",
       "      <th>5</th>\n",
       "      <td>-0.804015</td>\n",
       "      <td>0.286021</td>\n",
       "      <td>1.255864</td>\n",
       "      <td>0.901653</td>\n",
       "    </tr>\n",
       "  </tbody>\n",
       "</table>\n",
       "</div>"
      ],
      "text/plain": [
       "          A         B         C         D\n",
       "0 -1.070594  0.376570  0.274615  0.019533\n",
       "1  0.587511 -1.209149 -0.841527  0.689402\n",
       "2 -0.067650 -0.510960  0.734652 -0.284406\n",
       "3 -1.040383 -0.513105  1.122596 -1.197059\n",
       "4  0.631201 -1.544154 -1.124264 -0.030905\n",
       "5 -0.804015  0.286021  1.255864  0.901653"
      ]
     },
     "execution_count": 4,
     "metadata": {},
     "output_type": "execute_result"
    }
   ],
   "source": [
    "pd.DataFrame(np.random.randn(6, 4), columns=list(\"ABCD\"))"
   ]
  },
  {
   "cell_type": "markdown",
   "metadata": {},
   "source": [
    "## Exploring DataFrames"
   ]
  },
  {
   "cell_type": "markdown",
   "metadata": {},
   "source": [
    "The data above are quite small in comparison to datasets that we might see in practice. For larger datasets, it is crucial to be able to obtain a quick overview or glimpse of the overall data structure. \n",
    "\n",
    "- `.info()`: provides a concise summary of the DataFrame\n",
    "- `.describe()`: provides a quick statistical summary of numeric columns in the DataFrame\n",
    "- `.head()`: prints the top five rows of the DataFrame\n",
    "- `.tail()`: prints the bottom five rows of the DataFrame\n",
    "- `.shape`: outputs the dimensions of the DataFrame (# rows, # columns)\n",
    "- `.dtypes`: lists the data type of each column in the DataFrame\n",
    "- `.columns`: lists the column names in the DataFrame\n",
    "- `.index`: lists the indexes or row names in the DataFrame"
   ]
  },
  {
   "cell_type": "code",
   "execution_count": 5,
   "metadata": {},
   "outputs": [
    {
     "name": "stdout",
     "output_type": "stream",
     "text": [
      "<class 'pandas.core.frame.DataFrame'>\n",
      "RangeIndex: 6 entries, 0 to 5\n",
      "Data columns (total 3 columns):\n",
      " #   Column       Non-Null Count  Dtype  \n",
      "---  ------       --------------  -----  \n",
      " 0   first_name   6 non-null      object \n",
      " 1   last_name    6 non-null      object \n",
      " 2   win_percent  6 non-null      float64\n",
      "dtypes: float64(1), object(2)\n",
      "memory usage: 276.0+ bytes\n"
     ]
    }
   ],
   "source": [
    "df.info()  # general info/summary"
   ]
  },
  {
   "cell_type": "code",
   "execution_count": 6,
   "metadata": {},
   "outputs": [
    {
     "data": {
      "text/html": [
       "<div>\n",
       "<style scoped>\n",
       "    .dataframe tbody tr th:only-of-type {\n",
       "        vertical-align: middle;\n",
       "    }\n",
       "\n",
       "    .dataframe tbody tr th {\n",
       "        vertical-align: top;\n",
       "    }\n",
       "\n",
       "    .dataframe thead th {\n",
       "        text-align: right;\n",
       "    }\n",
       "</style>\n",
       "<table border=\"1\" class=\"dataframe\">\n",
       "  <thead>\n",
       "    <tr style=\"text-align: right;\">\n",
       "      <th></th>\n",
       "      <th>win_percent</th>\n",
       "    </tr>\n",
       "  </thead>\n",
       "  <tbody>\n",
       "    <tr>\n",
       "      <th>count</th>\n",
       "      <td>6.000000</td>\n",
       "    </tr>\n",
       "    <tr>\n",
       "      <th>mean</th>\n",
       "      <td>0.814500</td>\n",
       "    </tr>\n",
       "    <tr>\n",
       "      <th>std</th>\n",
       "      <td>0.049674</td>\n",
       "    </tr>\n",
       "    <tr>\n",
       "      <th>min</th>\n",
       "      <td>0.764000</td>\n",
       "    </tr>\n",
       "    <tr>\n",
       "      <th>25%</th>\n",
       "      <td>0.770250</td>\n",
       "    </tr>\n",
       "    <tr>\n",
       "      <th>50%</th>\n",
       "      <td>0.811000</td>\n",
       "    </tr>\n",
       "    <tr>\n",
       "      <th>75%</th>\n",
       "      <td>0.850250</td>\n",
       "    </tr>\n",
       "    <tr>\n",
       "      <th>max</th>\n",
       "      <td>0.881000</td>\n",
       "    </tr>\n",
       "  </tbody>\n",
       "</table>\n",
       "</div>"
      ],
      "text/plain": [
       "       win_percent\n",
       "count     6.000000\n",
       "mean      0.814500\n",
       "std       0.049674\n",
       "min       0.764000\n",
       "25%       0.770250\n",
       "50%       0.811000\n",
       "75%       0.850250\n",
       "max       0.881000"
      ]
     },
     "execution_count": 6,
     "metadata": {},
     "output_type": "execute_result"
    }
   ],
   "source": [
    "df.describe()  # statistical summary of numeric columns"
   ]
  },
  {
   "cell_type": "code",
   "execution_count": 7,
   "metadata": {},
   "outputs": [
    {
     "data": {
      "text/html": [
       "<div>\n",
       "<style scoped>\n",
       "    .dataframe tbody tr th:only-of-type {\n",
       "        vertical-align: middle;\n",
       "    }\n",
       "\n",
       "    .dataframe tbody tr th {\n",
       "        vertical-align: top;\n",
       "    }\n",
       "\n",
       "    .dataframe thead th {\n",
       "        text-align: right;\n",
       "    }\n",
       "</style>\n",
       "<table border=\"1\" class=\"dataframe\">\n",
       "  <thead>\n",
       "    <tr style=\"text-align: right;\">\n",
       "      <th></th>\n",
       "      <th>first_name</th>\n",
       "      <th>last_name</th>\n",
       "      <th>win_percent</th>\n",
       "    </tr>\n",
       "  </thead>\n",
       "  <tbody>\n",
       "    <tr>\n",
       "      <th>0</th>\n",
       "      <td>Knute</td>\n",
       "      <td>Rockne</td>\n",
       "      <td>0.881</td>\n",
       "    </tr>\n",
       "    <tr>\n",
       "      <th>1</th>\n",
       "      <td>Frank</td>\n",
       "      <td>Leahy</td>\n",
       "      <td>0.855</td>\n",
       "    </tr>\n",
       "    <tr>\n",
       "      <th>2</th>\n",
       "      <td>Ara</td>\n",
       "      <td>Parseghian</td>\n",
       "      <td>0.836</td>\n",
       "    </tr>\n",
       "    <tr>\n",
       "      <th>3</th>\n",
       "      <td>Dan</td>\n",
       "      <td>Devine</td>\n",
       "      <td>0.764</td>\n",
       "    </tr>\n",
       "    <tr>\n",
       "      <th>4</th>\n",
       "      <td>Lou</td>\n",
       "      <td>Holtz</td>\n",
       "      <td>0.765</td>\n",
       "    </tr>\n",
       "  </tbody>\n",
       "</table>\n",
       "</div>"
      ],
      "text/plain": [
       "  first_name   last_name  win_percent\n",
       "0      Knute      Rockne        0.881\n",
       "1      Frank       Leahy        0.855\n",
       "2        Ara  Parseghian        0.836\n",
       "3        Dan      Devine        0.764\n",
       "4        Lou       Holtz        0.765"
      ]
     },
     "execution_count": 7,
     "metadata": {},
     "output_type": "execute_result"
    }
   ],
   "source": [
    "df.head()  # first five rows"
   ]
  },
  {
   "cell_type": "code",
   "execution_count": 8,
   "metadata": {},
   "outputs": [
    {
     "data": {
      "text/html": [
       "<div>\n",
       "<style scoped>\n",
       "    .dataframe tbody tr th:only-of-type {\n",
       "        vertical-align: middle;\n",
       "    }\n",
       "\n",
       "    .dataframe tbody tr th {\n",
       "        vertical-align: top;\n",
       "    }\n",
       "\n",
       "    .dataframe thead th {\n",
       "        text-align: right;\n",
       "    }\n",
       "</style>\n",
       "<table border=\"1\" class=\"dataframe\">\n",
       "  <thead>\n",
       "    <tr style=\"text-align: right;\">\n",
       "      <th></th>\n",
       "      <th>first_name</th>\n",
       "      <th>last_name</th>\n",
       "      <th>win_percent</th>\n",
       "    </tr>\n",
       "  </thead>\n",
       "  <tbody>\n",
       "    <tr>\n",
       "      <th>1</th>\n",
       "      <td>Frank</td>\n",
       "      <td>Leahy</td>\n",
       "      <td>0.855</td>\n",
       "    </tr>\n",
       "    <tr>\n",
       "      <th>2</th>\n",
       "      <td>Ara</td>\n",
       "      <td>Parseghian</td>\n",
       "      <td>0.836</td>\n",
       "    </tr>\n",
       "    <tr>\n",
       "      <th>3</th>\n",
       "      <td>Dan</td>\n",
       "      <td>Devine</td>\n",
       "      <td>0.764</td>\n",
       "    </tr>\n",
       "    <tr>\n",
       "      <th>4</th>\n",
       "      <td>Lou</td>\n",
       "      <td>Holtz</td>\n",
       "      <td>0.765</td>\n",
       "    </tr>\n",
       "    <tr>\n",
       "      <th>5</th>\n",
       "      <td>Marcus</td>\n",
       "      <td>Freeman</td>\n",
       "      <td>0.786</td>\n",
       "    </tr>\n",
       "  </tbody>\n",
       "</table>\n",
       "</div>"
      ],
      "text/plain": [
       "  first_name   last_name  win_percent\n",
       "1      Frank       Leahy        0.855\n",
       "2        Ara  Parseghian        0.836\n",
       "3        Dan      Devine        0.764\n",
       "4        Lou       Holtz        0.765\n",
       "5     Marcus     Freeman        0.786"
      ]
     },
     "execution_count": 8,
     "metadata": {},
     "output_type": "execute_result"
    }
   ],
   "source": [
    "df.tail()  # bottom five rows"
   ]
  },
  {
   "cell_type": "code",
   "execution_count": 9,
   "metadata": {},
   "outputs": [
    {
     "data": {
      "text/plain": [
       "(6, 3)"
      ]
     },
     "execution_count": 9,
     "metadata": {},
     "output_type": "execute_result"
    }
   ],
   "source": [
    "df.shape  # dimensions"
   ]
  },
  {
   "cell_type": "code",
   "execution_count": 10,
   "metadata": {},
   "outputs": [
    {
     "data": {
      "text/plain": [
       "first_name      object\n",
       "last_name       object\n",
       "win_percent    float64\n",
       "dtype: object"
      ]
     },
     "execution_count": 10,
     "metadata": {},
     "output_type": "execute_result"
    }
   ],
   "source": [
    "df.dtypes  # data types of each column"
   ]
  },
  {
   "cell_type": "code",
   "execution_count": 11,
   "metadata": {},
   "outputs": [
    {
     "data": {
      "text/plain": [
       "Index(['first_name', 'last_name', 'win_percent'], dtype='object')"
      ]
     },
     "execution_count": 11,
     "metadata": {},
     "output_type": "execute_result"
    }
   ],
   "source": [
    "df.columns  # column names"
   ]
  },
  {
   "cell_type": "code",
   "execution_count": 12,
   "metadata": {},
   "outputs": [
    {
     "data": {
      "text/plain": [
       "RangeIndex(start=0, stop=6, step=1)"
      ]
     },
     "execution_count": 12,
     "metadata": {},
     "output_type": "execute_result"
    }
   ],
   "source": [
    "df.index  # row names"
   ]
  },
  {
   "cell_type": "markdown",
   "metadata": {},
   "source": [
    "**Exercise 1.** Print the number of rows in `df`."
   ]
  },
  {
   "cell_type": "code",
   "execution_count": 13,
   "metadata": {},
   "outputs": [
    {
     "data": {
      "text/plain": [
       "6"
      ]
     },
     "execution_count": 13,
     "metadata": {},
     "output_type": "execute_result"
    }
   ],
   "source": [
    "df.shape[0]"
   ]
  },
  {
   "cell_type": "markdown",
   "metadata": {},
   "source": [
    "## Selection"
   ]
  },
  {
   "cell_type": "markdown",
   "metadata": {},
   "source": [
    "Once we have a DataFrame object, there are many ways to select/filter columns and rows. In this section, we will review the different ways to perform this selection."
   ]
  },
  {
   "cell_type": "markdown",
   "metadata": {},
   "source": [
    "### Get Item (`[]`)"
   ]
  },
  {
   "cell_type": "markdown",
   "metadata": {},
   "source": [
    "If we pass a single label to a DataFrame using `[]`, this selects a column in the DataFrame and yields a Series object."
   ]
  },
  {
   "cell_type": "code",
   "execution_count": 14,
   "metadata": {},
   "outputs": [
    {
     "data": {
      "text/plain": [
       "0     Knute\n",
       "1     Frank\n",
       "2       Ara\n",
       "3       Dan\n",
       "4       Lou\n",
       "5    Marcus\n",
       "Name: first_name, dtype: object"
      ]
     },
     "execution_count": 14,
     "metadata": {},
     "output_type": "execute_result"
    }
   ],
   "source": [
    "df[\"first_name\"]"
   ]
  },
  {
   "cell_type": "markdown",
   "metadata": {},
   "source": [
    "This is equivalent to:"
   ]
  },
  {
   "cell_type": "code",
   "execution_count": 15,
   "metadata": {},
   "outputs": [
    {
     "data": {
      "text/plain": [
       "0     Knute\n",
       "1     Frank\n",
       "2       Ara\n",
       "3       Dan\n",
       "4       Lou\n",
       "5    Marcus\n",
       "Name: first_name, dtype: object"
      ]
     },
     "execution_count": 15,
     "metadata": {},
     "output_type": "execute_result"
    }
   ],
   "source": [
    "df.first_name"
   ]
  },
  {
   "cell_type": "markdown",
   "metadata": {},
   "source": [
    "If we want to select multiple columns in the DataFrame, we can instead pass a list of column names such as:"
   ]
  },
  {
   "cell_type": "code",
   "execution_count": 16,
   "metadata": {},
   "outputs": [
    {
     "data": {
      "text/html": [
       "<div>\n",
       "<style scoped>\n",
       "    .dataframe tbody tr th:only-of-type {\n",
       "        vertical-align: middle;\n",
       "    }\n",
       "\n",
       "    .dataframe tbody tr th {\n",
       "        vertical-align: top;\n",
       "    }\n",
       "\n",
       "    .dataframe thead th {\n",
       "        text-align: right;\n",
       "    }\n",
       "</style>\n",
       "<table border=\"1\" class=\"dataframe\">\n",
       "  <thead>\n",
       "    <tr style=\"text-align: right;\">\n",
       "      <th></th>\n",
       "      <th>first_name</th>\n",
       "      <th>last_name</th>\n",
       "    </tr>\n",
       "  </thead>\n",
       "  <tbody>\n",
       "    <tr>\n",
       "      <th>0</th>\n",
       "      <td>Knute</td>\n",
       "      <td>Rockne</td>\n",
       "    </tr>\n",
       "    <tr>\n",
       "      <th>1</th>\n",
       "      <td>Frank</td>\n",
       "      <td>Leahy</td>\n",
       "    </tr>\n",
       "    <tr>\n",
       "      <th>2</th>\n",
       "      <td>Ara</td>\n",
       "      <td>Parseghian</td>\n",
       "    </tr>\n",
       "    <tr>\n",
       "      <th>3</th>\n",
       "      <td>Dan</td>\n",
       "      <td>Devine</td>\n",
       "    </tr>\n",
       "    <tr>\n",
       "      <th>4</th>\n",
       "      <td>Lou</td>\n",
       "      <td>Holtz</td>\n",
       "    </tr>\n",
       "    <tr>\n",
       "      <th>5</th>\n",
       "      <td>Marcus</td>\n",
       "      <td>Freeman</td>\n",
       "    </tr>\n",
       "  </tbody>\n",
       "</table>\n",
       "</div>"
      ],
      "text/plain": [
       "  first_name   last_name\n",
       "0      Knute      Rockne\n",
       "1      Frank       Leahy\n",
       "2        Ara  Parseghian\n",
       "3        Dan      Devine\n",
       "4        Lou       Holtz\n",
       "5     Marcus     Freeman"
      ]
     },
     "execution_count": 16,
     "metadata": {},
     "output_type": "execute_result"
    }
   ],
   "source": [
    "df[[\"first_name\", \"last_name\"]]"
   ]
  },
  {
   "cell_type": "markdown",
   "metadata": {},
   "source": [
    "On the other hand, passing a slice using `:` selects matching rows:\n",
    "\n"
   ]
  },
  {
   "cell_type": "code",
   "execution_count": 17,
   "metadata": {},
   "outputs": [
    {
     "data": {
      "text/html": [
       "<div>\n",
       "<style scoped>\n",
       "    .dataframe tbody tr th:only-of-type {\n",
       "        vertical-align: middle;\n",
       "    }\n",
       "\n",
       "    .dataframe tbody tr th {\n",
       "        vertical-align: top;\n",
       "    }\n",
       "\n",
       "    .dataframe thead th {\n",
       "        text-align: right;\n",
       "    }\n",
       "</style>\n",
       "<table border=\"1\" class=\"dataframe\">\n",
       "  <thead>\n",
       "    <tr style=\"text-align: right;\">\n",
       "      <th></th>\n",
       "      <th>first_name</th>\n",
       "      <th>last_name</th>\n",
       "      <th>win_percent</th>\n",
       "    </tr>\n",
       "  </thead>\n",
       "  <tbody>\n",
       "    <tr>\n",
       "      <th>0</th>\n",
       "      <td>Knute</td>\n",
       "      <td>Rockne</td>\n",
       "      <td>0.881</td>\n",
       "    </tr>\n",
       "    <tr>\n",
       "      <th>1</th>\n",
       "      <td>Frank</td>\n",
       "      <td>Leahy</td>\n",
       "      <td>0.855</td>\n",
       "    </tr>\n",
       "    <tr>\n",
       "      <th>2</th>\n",
       "      <td>Ara</td>\n",
       "      <td>Parseghian</td>\n",
       "      <td>0.836</td>\n",
       "    </tr>\n",
       "  </tbody>\n",
       "</table>\n",
       "</div>"
      ],
      "text/plain": [
       "  first_name   last_name  win_percent\n",
       "0      Knute      Rockne        0.881\n",
       "1      Frank       Leahy        0.855\n",
       "2        Ara  Parseghian        0.836"
      ]
     },
     "execution_count": 17,
     "metadata": {},
     "output_type": "execute_result"
    }
   ],
   "source": [
    "df[0:3]"
   ]
  },
  {
   "cell_type": "markdown",
   "metadata": {},
   "source": [
    "**Exercise 2.** Subset the DataFrame `df` to get the last 4 rows. Then, print out the dimensions of this resulting DataFrame."
   ]
  },
  {
   "cell_type": "code",
   "execution_count": 18,
   "metadata": {},
   "outputs": [
    {
     "data": {
      "text/html": [
       "<div>\n",
       "<style scoped>\n",
       "    .dataframe tbody tr th:only-of-type {\n",
       "        vertical-align: middle;\n",
       "    }\n",
       "\n",
       "    .dataframe tbody tr th {\n",
       "        vertical-align: top;\n",
       "    }\n",
       "\n",
       "    .dataframe thead th {\n",
       "        text-align: right;\n",
       "    }\n",
       "</style>\n",
       "<table border=\"1\" class=\"dataframe\">\n",
       "  <thead>\n",
       "    <tr style=\"text-align: right;\">\n",
       "      <th></th>\n",
       "      <th>first_name</th>\n",
       "      <th>last_name</th>\n",
       "      <th>win_percent</th>\n",
       "    </tr>\n",
       "  </thead>\n",
       "  <tbody>\n",
       "    <tr>\n",
       "      <th>2</th>\n",
       "      <td>Ara</td>\n",
       "      <td>Parseghian</td>\n",
       "      <td>0.836</td>\n",
       "    </tr>\n",
       "    <tr>\n",
       "      <th>3</th>\n",
       "      <td>Dan</td>\n",
       "      <td>Devine</td>\n",
       "      <td>0.764</td>\n",
       "    </tr>\n",
       "    <tr>\n",
       "      <th>4</th>\n",
       "      <td>Lou</td>\n",
       "      <td>Holtz</td>\n",
       "      <td>0.765</td>\n",
       "    </tr>\n",
       "    <tr>\n",
       "      <th>5</th>\n",
       "      <td>Marcus</td>\n",
       "      <td>Freeman</td>\n",
       "      <td>0.786</td>\n",
       "    </tr>\n",
       "  </tbody>\n",
       "</table>\n",
       "</div>"
      ],
      "text/plain": [
       "  first_name   last_name  win_percent\n",
       "2        Ara  Parseghian        0.836\n",
       "3        Dan      Devine        0.764\n",
       "4        Lou       Holtz        0.765\n",
       "5     Marcus     Freeman        0.786"
      ]
     },
     "execution_count": 18,
     "metadata": {},
     "output_type": "execute_result"
    }
   ],
   "source": [
    "# get last four rows of df\n",
    "df[(df.shape[0]-4):]"
   ]
  },
  {
   "cell_type": "code",
   "execution_count": 19,
   "metadata": {},
   "outputs": [
    {
     "data": {
      "text/plain": [
       "(4, 3)"
      ]
     },
     "execution_count": 19,
     "metadata": {},
     "output_type": "execute_result"
    }
   ],
   "source": [
    "# print out the dimensions\n",
    "df[(df.shape[0]-4):].shape"
   ]
  },
  {
   "cell_type": "markdown",
   "metadata": {},
   "source": [
    "### Selection by Label vs Position"
   ]
  },
  {
   "cell_type": "markdown",
   "metadata": {},
   "source": [
    "As an alternative to using `[]`, there are two methods `.loc()` and `.iloc()` that provide a more flexible alternative for subsetting a DataFrame by label (`.loc()`) or by position (`.iloc()`). In particular, `.loc()` and `.iloc()` allow us to subset both rows and columns in a DataFrame in a single call."
   ]
  },
  {
   "cell_type": "markdown",
   "metadata": {},
   "source": [
    "For example, suppose we want to extract the first two columns (i.e., the `first_name` and `last_name`) from `df`. The following two code chunks are equivalent approaches to achieve this. Note the `:` in the first component of `[]` means to select all rows."
   ]
  },
  {
   "cell_type": "code",
   "execution_count": 20,
   "metadata": {},
   "outputs": [
    {
     "data": {
      "text/html": [
       "<div>\n",
       "<style scoped>\n",
       "    .dataframe tbody tr th:only-of-type {\n",
       "        vertical-align: middle;\n",
       "    }\n",
       "\n",
       "    .dataframe tbody tr th {\n",
       "        vertical-align: top;\n",
       "    }\n",
       "\n",
       "    .dataframe thead th {\n",
       "        text-align: right;\n",
       "    }\n",
       "</style>\n",
       "<table border=\"1\" class=\"dataframe\">\n",
       "  <thead>\n",
       "    <tr style=\"text-align: right;\">\n",
       "      <th></th>\n",
       "      <th>first_name</th>\n",
       "      <th>last_name</th>\n",
       "    </tr>\n",
       "  </thead>\n",
       "  <tbody>\n",
       "    <tr>\n",
       "      <th>0</th>\n",
       "      <td>Knute</td>\n",
       "      <td>Rockne</td>\n",
       "    </tr>\n",
       "    <tr>\n",
       "      <th>1</th>\n",
       "      <td>Frank</td>\n",
       "      <td>Leahy</td>\n",
       "    </tr>\n",
       "    <tr>\n",
       "      <th>2</th>\n",
       "      <td>Ara</td>\n",
       "      <td>Parseghian</td>\n",
       "    </tr>\n",
       "    <tr>\n",
       "      <th>3</th>\n",
       "      <td>Dan</td>\n",
       "      <td>Devine</td>\n",
       "    </tr>\n",
       "    <tr>\n",
       "      <th>4</th>\n",
       "      <td>Lou</td>\n",
       "      <td>Holtz</td>\n",
       "    </tr>\n",
       "    <tr>\n",
       "      <th>5</th>\n",
       "      <td>Marcus</td>\n",
       "      <td>Freeman</td>\n",
       "    </tr>\n",
       "  </tbody>\n",
       "</table>\n",
       "</div>"
      ],
      "text/plain": [
       "  first_name   last_name\n",
       "0      Knute      Rockne\n",
       "1      Frank       Leahy\n",
       "2        Ara  Parseghian\n",
       "3        Dan      Devine\n",
       "4        Lou       Holtz\n",
       "5     Marcus     Freeman"
      ]
     },
     "execution_count": 20,
     "metadata": {},
     "output_type": "execute_result"
    }
   ],
   "source": [
    "df.loc[:, [\"first_name\", \"last_name\"]]"
   ]
  },
  {
   "cell_type": "code",
   "execution_count": 21,
   "metadata": {},
   "outputs": [
    {
     "data": {
      "text/html": [
       "<div>\n",
       "<style scoped>\n",
       "    .dataframe tbody tr th:only-of-type {\n",
       "        vertical-align: middle;\n",
       "    }\n",
       "\n",
       "    .dataframe tbody tr th {\n",
       "        vertical-align: top;\n",
       "    }\n",
       "\n",
       "    .dataframe thead th {\n",
       "        text-align: right;\n",
       "    }\n",
       "</style>\n",
       "<table border=\"1\" class=\"dataframe\">\n",
       "  <thead>\n",
       "    <tr style=\"text-align: right;\">\n",
       "      <th></th>\n",
       "      <th>first_name</th>\n",
       "      <th>last_name</th>\n",
       "    </tr>\n",
       "  </thead>\n",
       "  <tbody>\n",
       "    <tr>\n",
       "      <th>0</th>\n",
       "      <td>Knute</td>\n",
       "      <td>Rockne</td>\n",
       "    </tr>\n",
       "    <tr>\n",
       "      <th>1</th>\n",
       "      <td>Frank</td>\n",
       "      <td>Leahy</td>\n",
       "    </tr>\n",
       "    <tr>\n",
       "      <th>2</th>\n",
       "      <td>Ara</td>\n",
       "      <td>Parseghian</td>\n",
       "    </tr>\n",
       "    <tr>\n",
       "      <th>3</th>\n",
       "      <td>Dan</td>\n",
       "      <td>Devine</td>\n",
       "    </tr>\n",
       "    <tr>\n",
       "      <th>4</th>\n",
       "      <td>Lou</td>\n",
       "      <td>Holtz</td>\n",
       "    </tr>\n",
       "    <tr>\n",
       "      <th>5</th>\n",
       "      <td>Marcus</td>\n",
       "      <td>Freeman</td>\n",
       "    </tr>\n",
       "  </tbody>\n",
       "</table>\n",
       "</div>"
      ],
      "text/plain": [
       "  first_name   last_name\n",
       "0      Knute      Rockne\n",
       "1      Frank       Leahy\n",
       "2        Ara  Parseghian\n",
       "3        Dan      Devine\n",
       "4        Lou       Holtz\n",
       "5     Marcus     Freeman"
      ]
     },
     "execution_count": 21,
     "metadata": {},
     "output_type": "execute_result"
    }
   ],
   "source": [
    "# this would return an IndexError if uncommented\n",
    "# df.iloc[:, [\"first_name\", \"last_name\"]]\n",
    "df.iloc[:, 0:2]"
   ]
  },
  {
   "cell_type": "markdown",
   "metadata": {},
   "source": [
    "**Exercise 3.** As seen above, `df.iloc[:, 0:2]` returns the first two columns of `df`. If you try to run `df.loc[:, 0:2]` instead, this will return an Index Error. However, both `df.iloc[0:2, :]` and `df.loc[0:2, :]` run without error (you can try this out for yourself). Do these two commands (i.e., `df.iloc[0:2, :]` and `df.loc[0:2, :]`) give the same results? Can you explain this phenomenon?"
   ]
  },
  {
   "cell_type": "code",
   "execution_count": 22,
   "metadata": {},
   "outputs": [
    {
     "data": {
      "text/html": [
       "<div>\n",
       "<style scoped>\n",
       "    .dataframe tbody tr th:only-of-type {\n",
       "        vertical-align: middle;\n",
       "    }\n",
       "\n",
       "    .dataframe tbody tr th {\n",
       "        vertical-align: top;\n",
       "    }\n",
       "\n",
       "    .dataframe thead th {\n",
       "        text-align: right;\n",
       "    }\n",
       "</style>\n",
       "<table border=\"1\" class=\"dataframe\">\n",
       "  <thead>\n",
       "    <tr style=\"text-align: right;\">\n",
       "      <th></th>\n",
       "      <th>first_name</th>\n",
       "      <th>last_name</th>\n",
       "      <th>win_percent</th>\n",
       "    </tr>\n",
       "  </thead>\n",
       "  <tbody>\n",
       "    <tr>\n",
       "      <th>0</th>\n",
       "      <td>Knute</td>\n",
       "      <td>Rockne</td>\n",
       "      <td>0.881</td>\n",
       "    </tr>\n",
       "    <tr>\n",
       "      <th>1</th>\n",
       "      <td>Frank</td>\n",
       "      <td>Leahy</td>\n",
       "      <td>0.855</td>\n",
       "    </tr>\n",
       "    <tr>\n",
       "      <th>2</th>\n",
       "      <td>Ara</td>\n",
       "      <td>Parseghian</td>\n",
       "      <td>0.836</td>\n",
       "    </tr>\n",
       "  </tbody>\n",
       "</table>\n",
       "</div>"
      ],
      "text/plain": [
       "  first_name   last_name  win_percent\n",
       "0      Knute      Rockne        0.881\n",
       "1      Frank       Leahy        0.855\n",
       "2        Ara  Parseghian        0.836"
      ]
     },
     "execution_count": 22,
     "metadata": {},
     "output_type": "execute_result"
    }
   ],
   "source": [
    "df.loc[0:2, :]"
   ]
  },
  {
   "cell_type": "code",
   "execution_count": 23,
   "metadata": {},
   "outputs": [
    {
     "data": {
      "text/html": [
       "<div>\n",
       "<style scoped>\n",
       "    .dataframe tbody tr th:only-of-type {\n",
       "        vertical-align: middle;\n",
       "    }\n",
       "\n",
       "    .dataframe tbody tr th {\n",
       "        vertical-align: top;\n",
       "    }\n",
       "\n",
       "    .dataframe thead th {\n",
       "        text-align: right;\n",
       "    }\n",
       "</style>\n",
       "<table border=\"1\" class=\"dataframe\">\n",
       "  <thead>\n",
       "    <tr style=\"text-align: right;\">\n",
       "      <th></th>\n",
       "      <th>first_name</th>\n",
       "      <th>last_name</th>\n",
       "      <th>win_percent</th>\n",
       "    </tr>\n",
       "  </thead>\n",
       "  <tbody>\n",
       "    <tr>\n",
       "      <th>0</th>\n",
       "      <td>Knute</td>\n",
       "      <td>Rockne</td>\n",
       "      <td>0.881</td>\n",
       "    </tr>\n",
       "    <tr>\n",
       "      <th>1</th>\n",
       "      <td>Frank</td>\n",
       "      <td>Leahy</td>\n",
       "      <td>0.855</td>\n",
       "    </tr>\n",
       "  </tbody>\n",
       "</table>\n",
       "</div>"
      ],
      "text/plain": [
       "  first_name last_name  win_percent\n",
       "0      Knute    Rockne        0.881\n",
       "1      Frank     Leahy        0.855"
      ]
     },
     "execution_count": 23,
     "metadata": {},
     "output_type": "execute_result"
    }
   ],
   "source": [
    "df.iloc[0:2, :]"
   ]
  },
  {
   "cell_type": "markdown",
   "metadata": {},
   "source": [
    "Answer: Since `.loc()` is selecting/indexing by label, then it is return all rows with indexes that match `0:2` (i.e., row 0, row 1, and row 2). On the other hand, `.iloc()` is selecting/indexing by position (rows 0 through 2, but not including 2 because of the way python indexing works)."
   ]
  },
  {
   "cell_type": "markdown",
   "metadata": {},
   "source": [
    "**Exercise 4.** Try running `df.loc[:, [\"first_name\"]]` amd `df.loc[:, \"first_name\"]`. Do they give the same result?"
   ]
  },
  {
   "cell_type": "code",
   "execution_count": 24,
   "metadata": {},
   "outputs": [
    {
     "data": {
      "text/html": [
       "<div>\n",
       "<style scoped>\n",
       "    .dataframe tbody tr th:only-of-type {\n",
       "        vertical-align: middle;\n",
       "    }\n",
       "\n",
       "    .dataframe tbody tr th {\n",
       "        vertical-align: top;\n",
       "    }\n",
       "\n",
       "    .dataframe thead th {\n",
       "        text-align: right;\n",
       "    }\n",
       "</style>\n",
       "<table border=\"1\" class=\"dataframe\">\n",
       "  <thead>\n",
       "    <tr style=\"text-align: right;\">\n",
       "      <th></th>\n",
       "      <th>first_name</th>\n",
       "    </tr>\n",
       "  </thead>\n",
       "  <tbody>\n",
       "    <tr>\n",
       "      <th>0</th>\n",
       "      <td>Knute</td>\n",
       "    </tr>\n",
       "    <tr>\n",
       "      <th>1</th>\n",
       "      <td>Frank</td>\n",
       "    </tr>\n",
       "    <tr>\n",
       "      <th>2</th>\n",
       "      <td>Ara</td>\n",
       "    </tr>\n",
       "    <tr>\n",
       "      <th>3</th>\n",
       "      <td>Dan</td>\n",
       "    </tr>\n",
       "    <tr>\n",
       "      <th>4</th>\n",
       "      <td>Lou</td>\n",
       "    </tr>\n",
       "    <tr>\n",
       "      <th>5</th>\n",
       "      <td>Marcus</td>\n",
       "    </tr>\n",
       "  </tbody>\n",
       "</table>\n",
       "</div>"
      ],
      "text/plain": [
       "  first_name\n",
       "0      Knute\n",
       "1      Frank\n",
       "2        Ara\n",
       "3        Dan\n",
       "4        Lou\n",
       "5     Marcus"
      ]
     },
     "execution_count": 24,
     "metadata": {},
     "output_type": "execute_result"
    }
   ],
   "source": [
    "df.loc[:, [\"first_name\"]]"
   ]
  },
  {
   "cell_type": "code",
   "execution_count": 25,
   "metadata": {},
   "outputs": [
    {
     "data": {
      "text/plain": [
       "0     Knute\n",
       "1     Frank\n",
       "2       Ara\n",
       "3       Dan\n",
       "4       Lou\n",
       "5    Marcus\n",
       "Name: first_name, dtype: object"
      ]
     },
     "execution_count": 25,
     "metadata": {},
     "output_type": "execute_result"
    }
   ],
   "source": [
    "df.loc[:, \"first_name\"]"
   ]
  },
  {
   "cell_type": "markdown",
   "metadata": {},
   "source": [
    "Answer: No, they do not give the same result. The former returns a DataFrame object while the latter returns a Series object."
   ]
  },
  {
   "cell_type": "markdown",
   "metadata": {},
   "source": [
    "As alluded to previously, it is possible to select both a subset of rows and columns using either `.iloc()` or `loc()`."
   ]
  },
  {
   "cell_type": "markdown",
   "metadata": {},
   "source": [
    "For example, the code below selects the rows labeled 0, 2, and 5 and columns \"first_name\" and \"win_percent\"."
   ]
  },
  {
   "cell_type": "code",
   "execution_count": 26,
   "metadata": {},
   "outputs": [
    {
     "data": {
      "text/html": [
       "<div>\n",
       "<style scoped>\n",
       "    .dataframe tbody tr th:only-of-type {\n",
       "        vertical-align: middle;\n",
       "    }\n",
       "\n",
       "    .dataframe tbody tr th {\n",
       "        vertical-align: top;\n",
       "    }\n",
       "\n",
       "    .dataframe thead th {\n",
       "        text-align: right;\n",
       "    }\n",
       "</style>\n",
       "<table border=\"1\" class=\"dataframe\">\n",
       "  <thead>\n",
       "    <tr style=\"text-align: right;\">\n",
       "      <th></th>\n",
       "      <th>first_name</th>\n",
       "      <th>win_percent</th>\n",
       "    </tr>\n",
       "  </thead>\n",
       "  <tbody>\n",
       "    <tr>\n",
       "      <th>0</th>\n",
       "      <td>Knute</td>\n",
       "      <td>0.881</td>\n",
       "    </tr>\n",
       "    <tr>\n",
       "      <th>2</th>\n",
       "      <td>Ara</td>\n",
       "      <td>0.836</td>\n",
       "    </tr>\n",
       "    <tr>\n",
       "      <th>5</th>\n",
       "      <td>Marcus</td>\n",
       "      <td>0.786</td>\n",
       "    </tr>\n",
       "  </tbody>\n",
       "</table>\n",
       "</div>"
      ],
      "text/plain": [
       "  first_name  win_percent\n",
       "0      Knute        0.881\n",
       "2        Ara        0.836\n",
       "5     Marcus        0.786"
      ]
     },
     "execution_count": 26,
     "metadata": {},
     "output_type": "execute_result"
    }
   ],
   "source": [
    "df.loc[[0, 2, 5], [\"first_name\", \"win_percent\"]]"
   ]
  },
  {
   "cell_type": "markdown",
   "metadata": {},
   "source": [
    "Since the indexes match the row positions, we could have equivalently subsetted the DataFrame using `.iloc()` as follows:"
   ]
  },
  {
   "cell_type": "code",
   "execution_count": 27,
   "metadata": {},
   "outputs": [
    {
     "data": {
      "text/html": [
       "<div>\n",
       "<style scoped>\n",
       "    .dataframe tbody tr th:only-of-type {\n",
       "        vertical-align: middle;\n",
       "    }\n",
       "\n",
       "    .dataframe tbody tr th {\n",
       "        vertical-align: top;\n",
       "    }\n",
       "\n",
       "    .dataframe thead th {\n",
       "        text-align: right;\n",
       "    }\n",
       "</style>\n",
       "<table border=\"1\" class=\"dataframe\">\n",
       "  <thead>\n",
       "    <tr style=\"text-align: right;\">\n",
       "      <th></th>\n",
       "      <th>first_name</th>\n",
       "      <th>win_percent</th>\n",
       "    </tr>\n",
       "  </thead>\n",
       "  <tbody>\n",
       "    <tr>\n",
       "      <th>0</th>\n",
       "      <td>Knute</td>\n",
       "      <td>0.881</td>\n",
       "    </tr>\n",
       "    <tr>\n",
       "      <th>2</th>\n",
       "      <td>Ara</td>\n",
       "      <td>0.836</td>\n",
       "    </tr>\n",
       "    <tr>\n",
       "      <th>5</th>\n",
       "      <td>Marcus</td>\n",
       "      <td>0.786</td>\n",
       "    </tr>\n",
       "  </tbody>\n",
       "</table>\n",
       "</div>"
      ],
      "text/plain": [
       "  first_name  win_percent\n",
       "0      Knute        0.881\n",
       "2        Ara        0.836\n",
       "5     Marcus        0.786"
      ]
     },
     "execution_count": 27,
     "metadata": {},
     "output_type": "execute_result"
    }
   ],
   "source": [
    "df.iloc[[0, 2, 5], [0, 2]]"
   ]
  },
  {
   "cell_type": "markdown",
   "metadata": {},
   "source": [
    "**Exercise 5.** Extract the first 3 rows of the columns named `\"col1\"` and `\"col50\"` in `df2` below."
   ]
  },
  {
   "cell_type": "code",
   "execution_count": 28,
   "metadata": {},
   "outputs": [
    {
     "data": {
      "text/html": [
       "<div>\n",
       "<style scoped>\n",
       "    .dataframe tbody tr th:only-of-type {\n",
       "        vertical-align: middle;\n",
       "    }\n",
       "\n",
       "    .dataframe tbody tr th {\n",
       "        vertical-align: top;\n",
       "    }\n",
       "\n",
       "    .dataframe thead th {\n",
       "        text-align: right;\n",
       "    }\n",
       "</style>\n",
       "<table border=\"1\" class=\"dataframe\">\n",
       "  <thead>\n",
       "    <tr style=\"text-align: right;\">\n",
       "      <th></th>\n",
       "      <th>col36</th>\n",
       "      <th>col3</th>\n",
       "      <th>col61</th>\n",
       "      <th>col2</th>\n",
       "      <th>col59</th>\n",
       "      <th>col90</th>\n",
       "      <th>col9</th>\n",
       "      <th>col82</th>\n",
       "      <th>col54</th>\n",
       "      <th>col97</th>\n",
       "      <th>...</th>\n",
       "      <th>col20</th>\n",
       "      <th>col51</th>\n",
       "      <th>col43</th>\n",
       "      <th>col56</th>\n",
       "      <th>col32</th>\n",
       "      <th>col40</th>\n",
       "      <th>col10</th>\n",
       "      <th>col23</th>\n",
       "      <th>col89</th>\n",
       "      <th>col65</th>\n",
       "    </tr>\n",
       "  </thead>\n",
       "  <tbody>\n",
       "    <tr>\n",
       "      <th>row17</th>\n",
       "      <td>0.584318</td>\n",
       "      <td>-0.219791</td>\n",
       "      <td>1.485059</td>\n",
       "      <td>-0.827602</td>\n",
       "      <td>0.894362</td>\n",
       "      <td>-1.660643</td>\n",
       "      <td>0.165909</td>\n",
       "      <td>0.450284</td>\n",
       "      <td>1.510259</td>\n",
       "      <td>1.101514</td>\n",
       "      <td>...</td>\n",
       "      <td>1.046540</td>\n",
       "      <td>0.000864</td>\n",
       "      <td>-0.417787</td>\n",
       "      <td>-0.029252</td>\n",
       "      <td>0.308071</td>\n",
       "      <td>-1.247307</td>\n",
       "      <td>-0.029459</td>\n",
       "      <td>-0.329847</td>\n",
       "      <td>2.468405</td>\n",
       "      <td>-0.323730</td>\n",
       "    </tr>\n",
       "    <tr>\n",
       "      <th>row99</th>\n",
       "      <td>1.164971</td>\n",
       "      <td>1.039113</td>\n",
       "      <td>-1.032399</td>\n",
       "      <td>0.256415</td>\n",
       "      <td>0.390484</td>\n",
       "      <td>0.058015</td>\n",
       "      <td>-0.605807</td>\n",
       "      <td>-0.888435</td>\n",
       "      <td>-0.345702</td>\n",
       "      <td>0.747063</td>\n",
       "      <td>...</td>\n",
       "      <td>-0.180298</td>\n",
       "      <td>-1.275194</td>\n",
       "      <td>1.233701</td>\n",
       "      <td>0.734840</td>\n",
       "      <td>1.404143</td>\n",
       "      <td>0.217802</td>\n",
       "      <td>0.186414</td>\n",
       "      <td>-0.535995</td>\n",
       "      <td>1.024044</td>\n",
       "      <td>-0.363374</td>\n",
       "    </tr>\n",
       "    <tr>\n",
       "      <th>row3</th>\n",
       "      <td>0.601511</td>\n",
       "      <td>-1.368739</td>\n",
       "      <td>-2.031997</td>\n",
       "      <td>1.140358</td>\n",
       "      <td>1.385523</td>\n",
       "      <td>1.140277</td>\n",
       "      <td>0.483886</td>\n",
       "      <td>-0.903175</td>\n",
       "      <td>0.140057</td>\n",
       "      <td>0.542738</td>\n",
       "      <td>...</td>\n",
       "      <td>1.144106</td>\n",
       "      <td>-0.523354</td>\n",
       "      <td>0.151187</td>\n",
       "      <td>2.131118</td>\n",
       "      <td>-2.160769</td>\n",
       "      <td>1.323550</td>\n",
       "      <td>-1.386804</td>\n",
       "      <td>-0.231472</td>\n",
       "      <td>-0.722318</td>\n",
       "      <td>2.500955</td>\n",
       "    </tr>\n",
       "    <tr>\n",
       "      <th>row52</th>\n",
       "      <td>0.740266</td>\n",
       "      <td>0.073417</td>\n",
       "      <td>0.713261</td>\n",
       "      <td>0.982280</td>\n",
       "      <td>1.370222</td>\n",
       "      <td>-1.146971</td>\n",
       "      <td>0.389453</td>\n",
       "      <td>0.178059</td>\n",
       "      <td>-1.921903</td>\n",
       "      <td>-0.588527</td>\n",
       "      <td>...</td>\n",
       "      <td>-1.279635</td>\n",
       "      <td>-0.771207</td>\n",
       "      <td>0.114402</td>\n",
       "      <td>-0.190249</td>\n",
       "      <td>1.892584</td>\n",
       "      <td>0.657008</td>\n",
       "      <td>-0.330954</td>\n",
       "      <td>0.874144</td>\n",
       "      <td>0.236365</td>\n",
       "      <td>0.258217</td>\n",
       "    </tr>\n",
       "    <tr>\n",
       "      <th>row89</th>\n",
       "      <td>-0.036420</td>\n",
       "      <td>-1.587461</td>\n",
       "      <td>0.041373</td>\n",
       "      <td>0.922737</td>\n",
       "      <td>-0.299385</td>\n",
       "      <td>-0.247627</td>\n",
       "      <td>-0.836477</td>\n",
       "      <td>0.394478</td>\n",
       "      <td>0.693818</td>\n",
       "      <td>2.524129</td>\n",
       "      <td>...</td>\n",
       "      <td>0.613622</td>\n",
       "      <td>-0.199606</td>\n",
       "      <td>-0.568440</td>\n",
       "      <td>-0.862043</td>\n",
       "      <td>0.197066</td>\n",
       "      <td>-1.076879</td>\n",
       "      <td>-0.702433</td>\n",
       "      <td>-0.212521</td>\n",
       "      <td>-0.864773</td>\n",
       "      <td>-0.477881</td>\n",
       "    </tr>\n",
       "    <tr>\n",
       "      <th>...</th>\n",
       "      <td>...</td>\n",
       "      <td>...</td>\n",
       "      <td>...</td>\n",
       "      <td>...</td>\n",
       "      <td>...</td>\n",
       "      <td>...</td>\n",
       "      <td>...</td>\n",
       "      <td>...</td>\n",
       "      <td>...</td>\n",
       "      <td>...</td>\n",
       "      <td>...</td>\n",
       "      <td>...</td>\n",
       "      <td>...</td>\n",
       "      <td>...</td>\n",
       "      <td>...</td>\n",
       "      <td>...</td>\n",
       "      <td>...</td>\n",
       "      <td>...</td>\n",
       "      <td>...</td>\n",
       "      <td>...</td>\n",
       "      <td>...</td>\n",
       "    </tr>\n",
       "    <tr>\n",
       "      <th>row75</th>\n",
       "      <td>-1.121960</td>\n",
       "      <td>0.005236</td>\n",
       "      <td>-0.011845</td>\n",
       "      <td>-0.265218</td>\n",
       "      <td>-0.141280</td>\n",
       "      <td>-0.384589</td>\n",
       "      <td>0.139483</td>\n",
       "      <td>0.329474</td>\n",
       "      <td>0.319615</td>\n",
       "      <td>-0.954480</td>\n",
       "      <td>...</td>\n",
       "      <td>1.861119</td>\n",
       "      <td>0.072179</td>\n",
       "      <td>-0.397451</td>\n",
       "      <td>-0.057183</td>\n",
       "      <td>0.597972</td>\n",
       "      <td>-0.433469</td>\n",
       "      <td>-0.706084</td>\n",
       "      <td>-0.473021</td>\n",
       "      <td>0.025516</td>\n",
       "      <td>1.818586</td>\n",
       "    </tr>\n",
       "    <tr>\n",
       "      <th>row49</th>\n",
       "      <td>-0.624777</td>\n",
       "      <td>1.362186</td>\n",
       "      <td>-1.197076</td>\n",
       "      <td>-0.746901</td>\n",
       "      <td>-1.148833</td>\n",
       "      <td>1.135315</td>\n",
       "      <td>1.033452</td>\n",
       "      <td>-0.002069</td>\n",
       "      <td>0.162849</td>\n",
       "      <td>-1.056395</td>\n",
       "      <td>...</td>\n",
       "      <td>0.621666</td>\n",
       "      <td>0.252784</td>\n",
       "      <td>0.573227</td>\n",
       "      <td>-0.744504</td>\n",
       "      <td>-0.520527</td>\n",
       "      <td>0.558231</td>\n",
       "      <td>1.623286</td>\n",
       "      <td>-1.990039</td>\n",
       "      <td>1.701951</td>\n",
       "      <td>0.912360</td>\n",
       "    </tr>\n",
       "    <tr>\n",
       "      <th>row54</th>\n",
       "      <td>0.165238</td>\n",
       "      <td>-0.250954</td>\n",
       "      <td>1.245841</td>\n",
       "      <td>-2.135712</td>\n",
       "      <td>-0.398022</td>\n",
       "      <td>-0.101758</td>\n",
       "      <td>-0.509595</td>\n",
       "      <td>-2.395979</td>\n",
       "      <td>1.101139</td>\n",
       "      <td>-0.757403</td>\n",
       "      <td>...</td>\n",
       "      <td>0.610066</td>\n",
       "      <td>-0.931216</td>\n",
       "      <td>-1.560403</td>\n",
       "      <td>2.089829</td>\n",
       "      <td>0.300496</td>\n",
       "      <td>-0.723008</td>\n",
       "      <td>-0.102496</td>\n",
       "      <td>0.080746</td>\n",
       "      <td>1.167159</td>\n",
       "      <td>0.307130</td>\n",
       "    </tr>\n",
       "    <tr>\n",
       "      <th>row69</th>\n",
       "      <td>1.169044</td>\n",
       "      <td>0.289731</td>\n",
       "      <td>0.031618</td>\n",
       "      <td>0.455689</td>\n",
       "      <td>0.695489</td>\n",
       "      <td>1.283627</td>\n",
       "      <td>0.324346</td>\n",
       "      <td>0.006919</td>\n",
       "      <td>-0.140314</td>\n",
       "      <td>-0.346853</td>\n",
       "      <td>...</td>\n",
       "      <td>0.065154</td>\n",
       "      <td>-0.803844</td>\n",
       "      <td>0.319083</td>\n",
       "      <td>-0.800348</td>\n",
       "      <td>-1.728861</td>\n",
       "      <td>-0.086756</td>\n",
       "      <td>-1.136081</td>\n",
       "      <td>0.271421</td>\n",
       "      <td>-1.332199</td>\n",
       "      <td>2.435175</td>\n",
       "    </tr>\n",
       "    <tr>\n",
       "      <th>row22</th>\n",
       "      <td>0.326715</td>\n",
       "      <td>0.541182</td>\n",
       "      <td>-0.394263</td>\n",
       "      <td>-1.004513</td>\n",
       "      <td>0.186483</td>\n",
       "      <td>-0.738268</td>\n",
       "      <td>1.629433</td>\n",
       "      <td>0.112276</td>\n",
       "      <td>0.348244</td>\n",
       "      <td>-0.274323</td>\n",
       "      <td>...</td>\n",
       "      <td>0.708923</td>\n",
       "      <td>-0.243500</td>\n",
       "      <td>1.876715</td>\n",
       "      <td>1.008719</td>\n",
       "      <td>-1.313311</td>\n",
       "      <td>0.316867</td>\n",
       "      <td>-0.245434</td>\n",
       "      <td>0.893162</td>\n",
       "      <td>-1.343545</td>\n",
       "      <td>-0.660149</td>\n",
       "    </tr>\n",
       "  </tbody>\n",
       "</table>\n",
       "<p>100 rows × 100 columns</p>\n",
       "</div>"
      ],
      "text/plain": [
       "          col36      col3     col61      col2     col59     col90      col9  \\\n",
       "row17  0.584318 -0.219791  1.485059 -0.827602  0.894362 -1.660643  0.165909   \n",
       "row99  1.164971  1.039113 -1.032399  0.256415  0.390484  0.058015 -0.605807   \n",
       "row3   0.601511 -1.368739 -2.031997  1.140358  1.385523  1.140277  0.483886   \n",
       "row52  0.740266  0.073417  0.713261  0.982280  1.370222 -1.146971  0.389453   \n",
       "row89 -0.036420 -1.587461  0.041373  0.922737 -0.299385 -0.247627 -0.836477   \n",
       "...         ...       ...       ...       ...       ...       ...       ...   \n",
       "row75 -1.121960  0.005236 -0.011845 -0.265218 -0.141280 -0.384589  0.139483   \n",
       "row49 -0.624777  1.362186 -1.197076 -0.746901 -1.148833  1.135315  1.033452   \n",
       "row54  0.165238 -0.250954  1.245841 -2.135712 -0.398022 -0.101758 -0.509595   \n",
       "row69  1.169044  0.289731  0.031618  0.455689  0.695489  1.283627  0.324346   \n",
       "row22  0.326715  0.541182 -0.394263 -1.004513  0.186483 -0.738268  1.629433   \n",
       "\n",
       "          col82     col54     col97  ...     col20     col51     col43  \\\n",
       "row17  0.450284  1.510259  1.101514  ...  1.046540  0.000864 -0.417787   \n",
       "row99 -0.888435 -0.345702  0.747063  ... -0.180298 -1.275194  1.233701   \n",
       "row3  -0.903175  0.140057  0.542738  ...  1.144106 -0.523354  0.151187   \n",
       "row52  0.178059 -1.921903 -0.588527  ... -1.279635 -0.771207  0.114402   \n",
       "row89  0.394478  0.693818  2.524129  ...  0.613622 -0.199606 -0.568440   \n",
       "...         ...       ...       ...  ...       ...       ...       ...   \n",
       "row75  0.329474  0.319615 -0.954480  ...  1.861119  0.072179 -0.397451   \n",
       "row49 -0.002069  0.162849 -1.056395  ...  0.621666  0.252784  0.573227   \n",
       "row54 -2.395979  1.101139 -0.757403  ...  0.610066 -0.931216 -1.560403   \n",
       "row69  0.006919 -0.140314 -0.346853  ...  0.065154 -0.803844  0.319083   \n",
       "row22  0.112276  0.348244 -0.274323  ...  0.708923 -0.243500  1.876715   \n",
       "\n",
       "          col56     col32     col40     col10     col23     col89     col65  \n",
       "row17 -0.029252  0.308071 -1.247307 -0.029459 -0.329847  2.468405 -0.323730  \n",
       "row99  0.734840  1.404143  0.217802  0.186414 -0.535995  1.024044 -0.363374  \n",
       "row3   2.131118 -2.160769  1.323550 -1.386804 -0.231472 -0.722318  2.500955  \n",
       "row52 -0.190249  1.892584  0.657008 -0.330954  0.874144  0.236365  0.258217  \n",
       "row89 -0.862043  0.197066 -1.076879 -0.702433 -0.212521 -0.864773 -0.477881  \n",
       "...         ...       ...       ...       ...       ...       ...       ...  \n",
       "row75 -0.057183  0.597972 -0.433469 -0.706084 -0.473021  0.025516  1.818586  \n",
       "row49 -0.744504 -0.520527  0.558231  1.623286 -1.990039  1.701951  0.912360  \n",
       "row54  2.089829  0.300496 -0.723008 -0.102496  0.080746  1.167159  0.307130  \n",
       "row69 -0.800348 -1.728861 -0.086756 -1.136081  0.271421 -1.332199  2.435175  \n",
       "row22  1.008719 -1.313311  0.316867 -0.245434  0.893162 -1.343545 -0.660149  \n",
       "\n",
       "[100 rows x 100 columns]"
      ]
     },
     "execution_count": 28,
     "metadata": {},
     "output_type": "execute_result"
    }
   ],
   "source": [
    "col_names = np.random.choice([\"col\" + str(i) for i in range(100)], 100, replace=False)\n",
    "row_names = np.random.choice([\"row\" + str(i) for i in range(100)], 100, replace=False)\n",
    "df2 = pd.DataFrame(np.random.randn(100, 100), columns=col_names, index=row_names)\n",
    "df2"
   ]
  },
  {
   "cell_type": "code",
   "execution_count": 29,
   "metadata": {},
   "outputs": [
    {
     "data": {
      "text/html": [
       "<div>\n",
       "<style scoped>\n",
       "    .dataframe tbody tr th:only-of-type {\n",
       "        vertical-align: middle;\n",
       "    }\n",
       "\n",
       "    .dataframe tbody tr th {\n",
       "        vertical-align: top;\n",
       "    }\n",
       "\n",
       "    .dataframe thead th {\n",
       "        text-align: right;\n",
       "    }\n",
       "</style>\n",
       "<table border=\"1\" class=\"dataframe\">\n",
       "  <thead>\n",
       "    <tr style=\"text-align: right;\">\n",
       "      <th></th>\n",
       "      <th>col1</th>\n",
       "      <th>col50</th>\n",
       "    </tr>\n",
       "  </thead>\n",
       "  <tbody>\n",
       "    <tr>\n",
       "      <th>row17</th>\n",
       "      <td>0.138165</td>\n",
       "      <td>-0.432010</td>\n",
       "    </tr>\n",
       "    <tr>\n",
       "      <th>row99</th>\n",
       "      <td>-1.541859</td>\n",
       "      <td>-0.669293</td>\n",
       "    </tr>\n",
       "    <tr>\n",
       "      <th>row3</th>\n",
       "      <td>-0.163259</td>\n",
       "      <td>-1.319632</td>\n",
       "    </tr>\n",
       "  </tbody>\n",
       "</table>\n",
       "</div>"
      ],
      "text/plain": [
       "           col1     col50\n",
       "row17  0.138165 -0.432010\n",
       "row99 -1.541859 -0.669293\n",
       "row3  -0.163259 -1.319632"
      ]
     },
     "execution_count": 29,
     "metadata": {},
     "output_type": "execute_result"
    }
   ],
   "source": [
    "df2.iloc[0:3].loc[:, [\"col1\", \"col50\"]]"
   ]
  },
  {
   "cell_type": "markdown",
   "metadata": {},
   "source": [
    "### Boolean Indexing"
   ]
  },
  {
   "cell_type": "markdown",
   "metadata": {},
   "source": [
    "It is also possible to select or filter rows/columns using boolean indexes. For example, if we want to select all coaches with a winning percentage greater than 0.8, we can do:"
   ]
  },
  {
   "cell_type": "code",
   "execution_count": 30,
   "metadata": {},
   "outputs": [
    {
     "data": {
      "text/html": [
       "<div>\n",
       "<style scoped>\n",
       "    .dataframe tbody tr th:only-of-type {\n",
       "        vertical-align: middle;\n",
       "    }\n",
       "\n",
       "    .dataframe tbody tr th {\n",
       "        vertical-align: top;\n",
       "    }\n",
       "\n",
       "    .dataframe thead th {\n",
       "        text-align: right;\n",
       "    }\n",
       "</style>\n",
       "<table border=\"1\" class=\"dataframe\">\n",
       "  <thead>\n",
       "    <tr style=\"text-align: right;\">\n",
       "      <th></th>\n",
       "      <th>first_name</th>\n",
       "      <th>last_name</th>\n",
       "      <th>win_percent</th>\n",
       "    </tr>\n",
       "  </thead>\n",
       "  <tbody>\n",
       "    <tr>\n",
       "      <th>0</th>\n",
       "      <td>Knute</td>\n",
       "      <td>Rockne</td>\n",
       "      <td>0.881</td>\n",
       "    </tr>\n",
       "    <tr>\n",
       "      <th>1</th>\n",
       "      <td>Frank</td>\n",
       "      <td>Leahy</td>\n",
       "      <td>0.855</td>\n",
       "    </tr>\n",
       "    <tr>\n",
       "      <th>2</th>\n",
       "      <td>Ara</td>\n",
       "      <td>Parseghian</td>\n",
       "      <td>0.836</td>\n",
       "    </tr>\n",
       "  </tbody>\n",
       "</table>\n",
       "</div>"
      ],
      "text/plain": [
       "  first_name   last_name  win_percent\n",
       "0      Knute      Rockne        0.881\n",
       "1      Frank       Leahy        0.855\n",
       "2        Ara  Parseghian        0.836"
      ]
     },
     "execution_count": 30,
     "metadata": {},
     "output_type": "execute_result"
    }
   ],
   "source": [
    "df[df[\"win_percent\"] > 0.8]"
   ]
  },
  {
   "cell_type": "markdown",
   "metadata": {},
   "source": [
    "Or if we want to get the coaches who's first name is either `\"Marcus\"` or `\"Lou\"`,"
   ]
  },
  {
   "cell_type": "code",
   "execution_count": 31,
   "metadata": {},
   "outputs": [
    {
     "data": {
      "text/html": [
       "<div>\n",
       "<style scoped>\n",
       "    .dataframe tbody tr th:only-of-type {\n",
       "        vertical-align: middle;\n",
       "    }\n",
       "\n",
       "    .dataframe tbody tr th {\n",
       "        vertical-align: top;\n",
       "    }\n",
       "\n",
       "    .dataframe thead th {\n",
       "        text-align: right;\n",
       "    }\n",
       "</style>\n",
       "<table border=\"1\" class=\"dataframe\">\n",
       "  <thead>\n",
       "    <tr style=\"text-align: right;\">\n",
       "      <th></th>\n",
       "      <th>first_name</th>\n",
       "      <th>last_name</th>\n",
       "      <th>win_percent</th>\n",
       "    </tr>\n",
       "  </thead>\n",
       "  <tbody>\n",
       "    <tr>\n",
       "      <th>0</th>\n",
       "      <td>Knute</td>\n",
       "      <td>Rockne</td>\n",
       "      <td>0.881</td>\n",
       "    </tr>\n",
       "    <tr>\n",
       "      <th>4</th>\n",
       "      <td>Lou</td>\n",
       "      <td>Holtz</td>\n",
       "      <td>0.765</td>\n",
       "    </tr>\n",
       "  </tbody>\n",
       "</table>\n",
       "</div>"
      ],
      "text/plain": [
       "  first_name last_name  win_percent\n",
       "0      Knute    Rockne        0.881\n",
       "4        Lou     Holtz        0.765"
      ]
     },
     "execution_count": 31,
     "metadata": {},
     "output_type": "execute_result"
    }
   ],
   "source": [
    "df[df[\"first_name\"].isin([\"Knute\", \"Lou\"])]"
   ]
  },
  {
   "cell_type": "markdown",
   "metadata": {},
   "source": [
    "Or if we want to get the coaches who's last name contains an `\"n\"`"
   ]
  },
  {
   "cell_type": "code",
   "execution_count": 32,
   "metadata": {},
   "outputs": [
    {
     "data": {
      "text/html": [
       "<div>\n",
       "<style scoped>\n",
       "    .dataframe tbody tr th:only-of-type {\n",
       "        vertical-align: middle;\n",
       "    }\n",
       "\n",
       "    .dataframe tbody tr th {\n",
       "        vertical-align: top;\n",
       "    }\n",
       "\n",
       "    .dataframe thead th {\n",
       "        text-align: right;\n",
       "    }\n",
       "</style>\n",
       "<table border=\"1\" class=\"dataframe\">\n",
       "  <thead>\n",
       "    <tr style=\"text-align: right;\">\n",
       "      <th></th>\n",
       "      <th>first_name</th>\n",
       "      <th>last_name</th>\n",
       "      <th>win_percent</th>\n",
       "    </tr>\n",
       "  </thead>\n",
       "  <tbody>\n",
       "    <tr>\n",
       "      <th>0</th>\n",
       "      <td>Knute</td>\n",
       "      <td>Rockne</td>\n",
       "      <td>0.881</td>\n",
       "    </tr>\n",
       "    <tr>\n",
       "      <th>2</th>\n",
       "      <td>Ara</td>\n",
       "      <td>Parseghian</td>\n",
       "      <td>0.836</td>\n",
       "    </tr>\n",
       "    <tr>\n",
       "      <th>3</th>\n",
       "      <td>Dan</td>\n",
       "      <td>Devine</td>\n",
       "      <td>0.764</td>\n",
       "    </tr>\n",
       "    <tr>\n",
       "      <th>5</th>\n",
       "      <td>Marcus</td>\n",
       "      <td>Freeman</td>\n",
       "      <td>0.786</td>\n",
       "    </tr>\n",
       "  </tbody>\n",
       "</table>\n",
       "</div>"
      ],
      "text/plain": [
       "  first_name   last_name  win_percent\n",
       "0      Knute      Rockne        0.881\n",
       "2        Ara  Parseghian        0.836\n",
       "3        Dan      Devine        0.764\n",
       "5     Marcus     Freeman        0.786"
      ]
     },
     "execution_count": 32,
     "metadata": {},
     "output_type": "execute_result"
    }
   ],
   "source": [
    "df[df[\"last_name\"].str.contains(\"n\", case=False)]"
   ]
  },
  {
   "cell_type": "markdown",
   "metadata": {},
   "source": [
    "Or if we want to get the coaches who's last name contains an `\"n\"` and has a winning percentage greater than 0.8"
   ]
  },
  {
   "cell_type": "code",
   "execution_count": 33,
   "metadata": {},
   "outputs": [
    {
     "data": {
      "text/html": [
       "<div>\n",
       "<style scoped>\n",
       "    .dataframe tbody tr th:only-of-type {\n",
       "        vertical-align: middle;\n",
       "    }\n",
       "\n",
       "    .dataframe tbody tr th {\n",
       "        vertical-align: top;\n",
       "    }\n",
       "\n",
       "    .dataframe thead th {\n",
       "        text-align: right;\n",
       "    }\n",
       "</style>\n",
       "<table border=\"1\" class=\"dataframe\">\n",
       "  <thead>\n",
       "    <tr style=\"text-align: right;\">\n",
       "      <th></th>\n",
       "      <th>first_name</th>\n",
       "      <th>last_name</th>\n",
       "      <th>win_percent</th>\n",
       "    </tr>\n",
       "  </thead>\n",
       "  <tbody>\n",
       "    <tr>\n",
       "      <th>0</th>\n",
       "      <td>Knute</td>\n",
       "      <td>Rockne</td>\n",
       "      <td>0.881</td>\n",
       "    </tr>\n",
       "    <tr>\n",
       "      <th>2</th>\n",
       "      <td>Ara</td>\n",
       "      <td>Parseghian</td>\n",
       "      <td>0.836</td>\n",
       "    </tr>\n",
       "  </tbody>\n",
       "</table>\n",
       "</div>"
      ],
      "text/plain": [
       "  first_name   last_name  win_percent\n",
       "0      Knute      Rockne        0.881\n",
       "2        Ara  Parseghian        0.836"
      ]
     },
     "execution_count": 33,
     "metadata": {},
     "output_type": "execute_result"
    }
   ],
   "source": [
    "df[df[\"last_name\"].str.contains(\"n\") & (df[\"win_percent\"] > 0.8)]"
   ]
  },
  {
   "cell_type": "markdown",
   "metadata": {},
   "source": [
    "**Exercise 6.** Extract the subset of rows from `df` corresponding to the coaches who's last name contains an `\"n\"` or has a winning percentage greater than 0.8."
   ]
  },
  {
   "cell_type": "code",
   "execution_count": 34,
   "metadata": {},
   "outputs": [
    {
     "data": {
      "text/html": [
       "<div>\n",
       "<style scoped>\n",
       "    .dataframe tbody tr th:only-of-type {\n",
       "        vertical-align: middle;\n",
       "    }\n",
       "\n",
       "    .dataframe tbody tr th {\n",
       "        vertical-align: top;\n",
       "    }\n",
       "\n",
       "    .dataframe thead th {\n",
       "        text-align: right;\n",
       "    }\n",
       "</style>\n",
       "<table border=\"1\" class=\"dataframe\">\n",
       "  <thead>\n",
       "    <tr style=\"text-align: right;\">\n",
       "      <th></th>\n",
       "      <th>first_name</th>\n",
       "      <th>last_name</th>\n",
       "      <th>win_percent</th>\n",
       "    </tr>\n",
       "  </thead>\n",
       "  <tbody>\n",
       "    <tr>\n",
       "      <th>0</th>\n",
       "      <td>Knute</td>\n",
       "      <td>Rockne</td>\n",
       "      <td>0.881</td>\n",
       "    </tr>\n",
       "    <tr>\n",
       "      <th>1</th>\n",
       "      <td>Frank</td>\n",
       "      <td>Leahy</td>\n",
       "      <td>0.855</td>\n",
       "    </tr>\n",
       "    <tr>\n",
       "      <th>2</th>\n",
       "      <td>Ara</td>\n",
       "      <td>Parseghian</td>\n",
       "      <td>0.836</td>\n",
       "    </tr>\n",
       "    <tr>\n",
       "      <th>3</th>\n",
       "      <td>Dan</td>\n",
       "      <td>Devine</td>\n",
       "      <td>0.764</td>\n",
       "    </tr>\n",
       "    <tr>\n",
       "      <th>5</th>\n",
       "      <td>Marcus</td>\n",
       "      <td>Freeman</td>\n",
       "      <td>0.786</td>\n",
       "    </tr>\n",
       "  </tbody>\n",
       "</table>\n",
       "</div>"
      ],
      "text/plain": [
       "  first_name   last_name  win_percent\n",
       "0      Knute      Rockne        0.881\n",
       "1      Frank       Leahy        0.855\n",
       "2        Ara  Parseghian        0.836\n",
       "3        Dan      Devine        0.764\n",
       "5     Marcus     Freeman        0.786"
      ]
     },
     "execution_count": 34,
     "metadata": {},
     "output_type": "execute_result"
    }
   ],
   "source": [
    "df[df[\"last_name\"].str.contains(\"n\") | (df[\"win_percent\"] > 0.8)]"
   ]
  },
  {
   "cell_type": "markdown",
   "metadata": {},
   "source": [
    "### Setting/Removing"
   ]
  },
  {
   "cell_type": "markdown",
   "metadata": {},
   "source": [
    "To set a new column in the DataFrame, you can use the following syntax:"
   ]
  },
  {
   "cell_type": "code",
   "execution_count": 35,
   "metadata": {},
   "outputs": [
    {
     "data": {
      "text/html": [
       "<div>\n",
       "<style scoped>\n",
       "    .dataframe tbody tr th:only-of-type {\n",
       "        vertical-align: middle;\n",
       "    }\n",
       "\n",
       "    .dataframe tbody tr th {\n",
       "        vertical-align: top;\n",
       "    }\n",
       "\n",
       "    .dataframe thead th {\n",
       "        text-align: right;\n",
       "    }\n",
       "</style>\n",
       "<table border=\"1\" class=\"dataframe\">\n",
       "  <thead>\n",
       "    <tr style=\"text-align: right;\">\n",
       "      <th></th>\n",
       "      <th>first_name</th>\n",
       "      <th>last_name</th>\n",
       "      <th>win_percent</th>\n",
       "      <th>n_championships</th>\n",
       "    </tr>\n",
       "  </thead>\n",
       "  <tbody>\n",
       "    <tr>\n",
       "      <th>0</th>\n",
       "      <td>Knute</td>\n",
       "      <td>Rockne</td>\n",
       "      <td>0.881</td>\n",
       "      <td>3</td>\n",
       "    </tr>\n",
       "    <tr>\n",
       "      <th>1</th>\n",
       "      <td>Frank</td>\n",
       "      <td>Leahy</td>\n",
       "      <td>0.855</td>\n",
       "      <td>4</td>\n",
       "    </tr>\n",
       "    <tr>\n",
       "      <th>2</th>\n",
       "      <td>Ara</td>\n",
       "      <td>Parseghian</td>\n",
       "      <td>0.836</td>\n",
       "      <td>2</td>\n",
       "    </tr>\n",
       "    <tr>\n",
       "      <th>3</th>\n",
       "      <td>Dan</td>\n",
       "      <td>Devine</td>\n",
       "      <td>0.764</td>\n",
       "      <td>1</td>\n",
       "    </tr>\n",
       "    <tr>\n",
       "      <th>4</th>\n",
       "      <td>Lou</td>\n",
       "      <td>Holtz</td>\n",
       "      <td>0.765</td>\n",
       "      <td>1</td>\n",
       "    </tr>\n",
       "    <tr>\n",
       "      <th>5</th>\n",
       "      <td>Marcus</td>\n",
       "      <td>Freeman</td>\n",
       "      <td>0.786</td>\n",
       "      <td>1?</td>\n",
       "    </tr>\n",
       "  </tbody>\n",
       "</table>\n",
       "</div>"
      ],
      "text/plain": [
       "  first_name   last_name  win_percent n_championships\n",
       "0      Knute      Rockne        0.881               3\n",
       "1      Frank       Leahy        0.855               4\n",
       "2        Ara  Parseghian        0.836               2\n",
       "3        Dan      Devine        0.764               1\n",
       "4        Lou       Holtz        0.765               1\n",
       "5     Marcus     Freeman        0.786              1?"
      ]
     },
     "execution_count": 35,
     "metadata": {},
     "output_type": "execute_result"
    }
   ],
   "source": [
    "df[\"n_championships\"] = [\"3\", \"4\", \"2\", \"1\", \"1\", \"1?\"]\n",
    "df"
   ]
  },
  {
   "cell_type": "markdown",
   "metadata": {},
   "source": [
    "It is also possible to create a new column using a Series object:"
   ]
  },
  {
   "cell_type": "code",
   "execution_count": 36,
   "metadata": {},
   "outputs": [],
   "source": [
    "df[\"n_championships\"] = pd.Series([\"3\", \"4\", \"2\", \"1\", \"1\", \"1?\"])"
   ]
  },
  {
   "cell_type": "markdown",
   "metadata": {},
   "source": [
    "However, it is important to note that setting a new column automatically aligns the data by the indexes. In the extreme case, when the indexes do not match like below, the resulting new column will be all NAs."
   ]
  },
  {
   "cell_type": "code",
   "execution_count": 37,
   "metadata": {},
   "outputs": [
    {
     "data": {
      "text/html": [
       "<div>\n",
       "<style scoped>\n",
       "    .dataframe tbody tr th:only-of-type {\n",
       "        vertical-align: middle;\n",
       "    }\n",
       "\n",
       "    .dataframe tbody tr th {\n",
       "        vertical-align: top;\n",
       "    }\n",
       "\n",
       "    .dataframe thead th {\n",
       "        text-align: right;\n",
       "    }\n",
       "</style>\n",
       "<table border=\"1\" class=\"dataframe\">\n",
       "  <thead>\n",
       "    <tr style=\"text-align: right;\">\n",
       "      <th></th>\n",
       "      <th>first_name</th>\n",
       "      <th>last_name</th>\n",
       "      <th>win_percent</th>\n",
       "      <th>n_championships</th>\n",
       "    </tr>\n",
       "  </thead>\n",
       "  <tbody>\n",
       "    <tr>\n",
       "      <th>0</th>\n",
       "      <td>Knute</td>\n",
       "      <td>Rockne</td>\n",
       "      <td>0.881</td>\n",
       "      <td>NaN</td>\n",
       "    </tr>\n",
       "    <tr>\n",
       "      <th>1</th>\n",
       "      <td>Frank</td>\n",
       "      <td>Leahy</td>\n",
       "      <td>0.855</td>\n",
       "      <td>NaN</td>\n",
       "    </tr>\n",
       "    <tr>\n",
       "      <th>2</th>\n",
       "      <td>Ara</td>\n",
       "      <td>Parseghian</td>\n",
       "      <td>0.836</td>\n",
       "      <td>NaN</td>\n",
       "    </tr>\n",
       "    <tr>\n",
       "      <th>3</th>\n",
       "      <td>Dan</td>\n",
       "      <td>Devine</td>\n",
       "      <td>0.764</td>\n",
       "      <td>NaN</td>\n",
       "    </tr>\n",
       "    <tr>\n",
       "      <th>4</th>\n",
       "      <td>Lou</td>\n",
       "      <td>Holtz</td>\n",
       "      <td>0.765</td>\n",
       "      <td>NaN</td>\n",
       "    </tr>\n",
       "    <tr>\n",
       "      <th>5</th>\n",
       "      <td>Marcus</td>\n",
       "      <td>Freeman</td>\n",
       "      <td>0.786</td>\n",
       "      <td>NaN</td>\n",
       "    </tr>\n",
       "  </tbody>\n",
       "</table>\n",
       "</div>"
      ],
      "text/plain": [
       "  first_name   last_name  win_percent n_championships\n",
       "0      Knute      Rockne        0.881             NaN\n",
       "1      Frank       Leahy        0.855             NaN\n",
       "2        Ara  Parseghian        0.836             NaN\n",
       "3        Dan      Devine        0.764             NaN\n",
       "4        Lou       Holtz        0.765             NaN\n",
       "5     Marcus     Freeman        0.786             NaN"
      ]
     },
     "execution_count": 37,
     "metadata": {},
     "output_type": "execute_result"
    }
   ],
   "source": [
    "champs = pd.Series(\n",
    "    [\"3\", \"4\", \"2\", \"1\", \"1\", \"1?\"], \n",
    "    index=[\"Knute\", \"Frank\", \"Ara\", \"Dan\", \"Lou\", \"Marcus\"]\n",
    ")\n",
    "df[\"n_championships\"] = champs\n",
    "df"
   ]
  },
  {
   "cell_type": "markdown",
   "metadata": {},
   "source": [
    "**Exercise 7.** Fix the above code chunk so that the number of championships for each coach is correct."
   ]
  },
  {
   "cell_type": "code",
   "execution_count": 38,
   "metadata": {},
   "outputs": [
    {
     "data": {
      "text/html": [
       "<div>\n",
       "<style scoped>\n",
       "    .dataframe tbody tr th:only-of-type {\n",
       "        vertical-align: middle;\n",
       "    }\n",
       "\n",
       "    .dataframe tbody tr th {\n",
       "        vertical-align: top;\n",
       "    }\n",
       "\n",
       "    .dataframe thead th {\n",
       "        text-align: right;\n",
       "    }\n",
       "</style>\n",
       "<table border=\"1\" class=\"dataframe\">\n",
       "  <thead>\n",
       "    <tr style=\"text-align: right;\">\n",
       "      <th></th>\n",
       "      <th>first_name</th>\n",
       "      <th>last_name</th>\n",
       "      <th>win_percent</th>\n",
       "      <th>n_championships</th>\n",
       "    </tr>\n",
       "  </thead>\n",
       "  <tbody>\n",
       "    <tr>\n",
       "      <th>0</th>\n",
       "      <td>Knute</td>\n",
       "      <td>Rockne</td>\n",
       "      <td>0.881</td>\n",
       "      <td>3</td>\n",
       "    </tr>\n",
       "    <tr>\n",
       "      <th>1</th>\n",
       "      <td>Frank</td>\n",
       "      <td>Leahy</td>\n",
       "      <td>0.855</td>\n",
       "      <td>4</td>\n",
       "    </tr>\n",
       "    <tr>\n",
       "      <th>2</th>\n",
       "      <td>Ara</td>\n",
       "      <td>Parseghian</td>\n",
       "      <td>0.836</td>\n",
       "      <td>2</td>\n",
       "    </tr>\n",
       "    <tr>\n",
       "      <th>3</th>\n",
       "      <td>Dan</td>\n",
       "      <td>Devine</td>\n",
       "      <td>0.764</td>\n",
       "      <td>1</td>\n",
       "    </tr>\n",
       "    <tr>\n",
       "      <th>4</th>\n",
       "      <td>Lou</td>\n",
       "      <td>Holtz</td>\n",
       "      <td>0.765</td>\n",
       "      <td>1</td>\n",
       "    </tr>\n",
       "    <tr>\n",
       "      <th>5</th>\n",
       "      <td>Marcus</td>\n",
       "      <td>Freeman</td>\n",
       "      <td>0.786</td>\n",
       "      <td>1?</td>\n",
       "    </tr>\n",
       "  </tbody>\n",
       "</table>\n",
       "</div>"
      ],
      "text/plain": [
       "  first_name   last_name  win_percent n_championships\n",
       "0      Knute      Rockne        0.881               3\n",
       "1      Frank       Leahy        0.855               4\n",
       "2        Ara  Parseghian        0.836               2\n",
       "3        Dan      Devine        0.764               1\n",
       "4        Lou       Holtz        0.765               1\n",
       "5     Marcus     Freeman        0.786              1?"
      ]
     },
     "execution_count": 38,
     "metadata": {},
     "output_type": "execute_result"
    }
   ],
   "source": [
    "champs = pd.Series(\n",
    "    [\"3\", \"4\", \"2\", \"1\", \"1\", \"1?\"], \n",
    "    index=range(df.shape[0])\n",
    ")\n",
    "df[\"n_championships\"] = champs\n",
    "df"
   ]
  },
  {
   "cell_type": "markdown",
   "metadata": {},
   "source": [
    "To change a particular entry in the DataFrame, we can combine methods for selection discussed previously and `=`, e.g., "
   ]
  },
  {
   "cell_type": "code",
   "execution_count": 39,
   "metadata": {},
   "outputs": [
    {
     "data": {
      "text/html": [
       "<div>\n",
       "<style scoped>\n",
       "    .dataframe tbody tr th:only-of-type {\n",
       "        vertical-align: middle;\n",
       "    }\n",
       "\n",
       "    .dataframe tbody tr th {\n",
       "        vertical-align: top;\n",
       "    }\n",
       "\n",
       "    .dataframe thead th {\n",
       "        text-align: right;\n",
       "    }\n",
       "</style>\n",
       "<table border=\"1\" class=\"dataframe\">\n",
       "  <thead>\n",
       "    <tr style=\"text-align: right;\">\n",
       "      <th></th>\n",
       "      <th>first_name</th>\n",
       "      <th>last_name</th>\n",
       "      <th>win_percent</th>\n",
       "      <th>n_championships</th>\n",
       "    </tr>\n",
       "  </thead>\n",
       "  <tbody>\n",
       "    <tr>\n",
       "      <th>0</th>\n",
       "      <td>Knute</td>\n",
       "      <td>Rockne</td>\n",
       "      <td>0.881</td>\n",
       "      <td>3</td>\n",
       "    </tr>\n",
       "    <tr>\n",
       "      <th>1</th>\n",
       "      <td>Frank</td>\n",
       "      <td>Leahy</td>\n",
       "      <td>0.855</td>\n",
       "      <td>4</td>\n",
       "    </tr>\n",
       "    <tr>\n",
       "      <th>2</th>\n",
       "      <td>Ara</td>\n",
       "      <td>Parseghian</td>\n",
       "      <td>0.836</td>\n",
       "      <td>2</td>\n",
       "    </tr>\n",
       "    <tr>\n",
       "      <th>3</th>\n",
       "      <td>Daniel</td>\n",
       "      <td>Devine</td>\n",
       "      <td>0.764</td>\n",
       "      <td>1</td>\n",
       "    </tr>\n",
       "    <tr>\n",
       "      <th>4</th>\n",
       "      <td>Lou</td>\n",
       "      <td>Holtz</td>\n",
       "      <td>0.765</td>\n",
       "      <td>1</td>\n",
       "    </tr>\n",
       "    <tr>\n",
       "      <th>5</th>\n",
       "      <td>Marcus</td>\n",
       "      <td>Freeman</td>\n",
       "      <td>0.786</td>\n",
       "      <td>1?</td>\n",
       "    </tr>\n",
       "  </tbody>\n",
       "</table>\n",
       "</div>"
      ],
      "text/plain": [
       "  first_name   last_name  win_percent n_championships\n",
       "0      Knute      Rockne        0.881               3\n",
       "1      Frank       Leahy        0.855               4\n",
       "2        Ara  Parseghian        0.836               2\n",
       "3     Daniel      Devine        0.764               1\n",
       "4        Lou       Holtz        0.765               1\n",
       "5     Marcus     Freeman        0.786              1?"
      ]
     },
     "execution_count": 39,
     "metadata": {},
     "output_type": "execute_result"
    }
   ],
   "source": [
    "df.loc[df[\"first_name\"] == \"Dan\", \"first_name\"] = \"Daniel\"\n",
    "df"
   ]
  },
  {
   "cell_type": "markdown",
   "metadata": {},
   "source": [
    "**Exercise 8.** Change the number of championships won by Marcus Freeman to `\"1\"`. Then change the `\"n_championships\"` column from a string to an integer."
   ]
  },
  {
   "cell_type": "code",
   "execution_count": 40,
   "metadata": {},
   "outputs": [
    {
     "data": {
      "text/html": [
       "<div>\n",
       "<style scoped>\n",
       "    .dataframe tbody tr th:only-of-type {\n",
       "        vertical-align: middle;\n",
       "    }\n",
       "\n",
       "    .dataframe tbody tr th {\n",
       "        vertical-align: top;\n",
       "    }\n",
       "\n",
       "    .dataframe thead th {\n",
       "        text-align: right;\n",
       "    }\n",
       "</style>\n",
       "<table border=\"1\" class=\"dataframe\">\n",
       "  <thead>\n",
       "    <tr style=\"text-align: right;\">\n",
       "      <th></th>\n",
       "      <th>first_name</th>\n",
       "      <th>last_name</th>\n",
       "      <th>win_percent</th>\n",
       "      <th>n_championships</th>\n",
       "    </tr>\n",
       "  </thead>\n",
       "  <tbody>\n",
       "    <tr>\n",
       "      <th>0</th>\n",
       "      <td>Knute</td>\n",
       "      <td>Rockne</td>\n",
       "      <td>0.881</td>\n",
       "      <td>3</td>\n",
       "    </tr>\n",
       "    <tr>\n",
       "      <th>1</th>\n",
       "      <td>Frank</td>\n",
       "      <td>Leahy</td>\n",
       "      <td>0.855</td>\n",
       "      <td>4</td>\n",
       "    </tr>\n",
       "    <tr>\n",
       "      <th>2</th>\n",
       "      <td>Ara</td>\n",
       "      <td>Parseghian</td>\n",
       "      <td>0.836</td>\n",
       "      <td>2</td>\n",
       "    </tr>\n",
       "    <tr>\n",
       "      <th>3</th>\n",
       "      <td>Daniel</td>\n",
       "      <td>Devine</td>\n",
       "      <td>0.764</td>\n",
       "      <td>1</td>\n",
       "    </tr>\n",
       "    <tr>\n",
       "      <th>4</th>\n",
       "      <td>Lou</td>\n",
       "      <td>Holtz</td>\n",
       "      <td>0.765</td>\n",
       "      <td>1</td>\n",
       "    </tr>\n",
       "    <tr>\n",
       "      <th>5</th>\n",
       "      <td>Marcus</td>\n",
       "      <td>Freeman</td>\n",
       "      <td>0.786</td>\n",
       "      <td>1</td>\n",
       "    </tr>\n",
       "  </tbody>\n",
       "</table>\n",
       "</div>"
      ],
      "text/plain": [
       "  first_name   last_name  win_percent  n_championships\n",
       "0      Knute      Rockne        0.881                3\n",
       "1      Frank       Leahy        0.855                4\n",
       "2        Ara  Parseghian        0.836                2\n",
       "3     Daniel      Devine        0.764                1\n",
       "4        Lou       Holtz        0.765                1\n",
       "5     Marcus     Freeman        0.786                1"
      ]
     },
     "execution_count": 40,
     "metadata": {},
     "output_type": "execute_result"
    }
   ],
   "source": [
    "df.loc[df[\"first_name\"] == \"Marcus\", \"n_championships\"] = \"1\"\n",
    "df[\"n_championships\"] = df[\"n_championships\"].astype(int)\n",
    "df"
   ]
  },
  {
   "cell_type": "code",
   "execution_count": 41,
   "metadata": {},
   "outputs": [
    {
     "data": {
      "text/plain": [
       "first_name          object\n",
       "last_name           object\n",
       "win_percent        float64\n",
       "n_championships      int64\n",
       "dtype: object"
      ]
     },
     "execution_count": 41,
     "metadata": {},
     "output_type": "execute_result"
    }
   ],
   "source": [
    "df.dtypes"
   ]
  },
  {
   "cell_type": "markdown",
   "metadata": {},
   "source": [
    "To remove a column, use the drop method:"
   ]
  },
  {
   "cell_type": "code",
   "execution_count": 42,
   "metadata": {},
   "outputs": [
    {
     "data": {
      "text/html": [
       "<div>\n",
       "<style scoped>\n",
       "    .dataframe tbody tr th:only-of-type {\n",
       "        vertical-align: middle;\n",
       "    }\n",
       "\n",
       "    .dataframe tbody tr th {\n",
       "        vertical-align: top;\n",
       "    }\n",
       "\n",
       "    .dataframe thead th {\n",
       "        text-align: right;\n",
       "    }\n",
       "</style>\n",
       "<table border=\"1\" class=\"dataframe\">\n",
       "  <thead>\n",
       "    <tr style=\"text-align: right;\">\n",
       "      <th></th>\n",
       "      <th>first_name</th>\n",
       "      <th>last_name</th>\n",
       "      <th>win_percent</th>\n",
       "    </tr>\n",
       "  </thead>\n",
       "  <tbody>\n",
       "    <tr>\n",
       "      <th>0</th>\n",
       "      <td>Knute</td>\n",
       "      <td>Rockne</td>\n",
       "      <td>0.881</td>\n",
       "    </tr>\n",
       "    <tr>\n",
       "      <th>1</th>\n",
       "      <td>Frank</td>\n",
       "      <td>Leahy</td>\n",
       "      <td>0.855</td>\n",
       "    </tr>\n",
       "    <tr>\n",
       "      <th>2</th>\n",
       "      <td>Ara</td>\n",
       "      <td>Parseghian</td>\n",
       "      <td>0.836</td>\n",
       "    </tr>\n",
       "    <tr>\n",
       "      <th>3</th>\n",
       "      <td>Daniel</td>\n",
       "      <td>Devine</td>\n",
       "      <td>0.764</td>\n",
       "    </tr>\n",
       "    <tr>\n",
       "      <th>4</th>\n",
       "      <td>Lou</td>\n",
       "      <td>Holtz</td>\n",
       "      <td>0.765</td>\n",
       "    </tr>\n",
       "    <tr>\n",
       "      <th>5</th>\n",
       "      <td>Marcus</td>\n",
       "      <td>Freeman</td>\n",
       "      <td>0.786</td>\n",
       "    </tr>\n",
       "  </tbody>\n",
       "</table>\n",
       "</div>"
      ],
      "text/plain": [
       "  first_name   last_name  win_percent\n",
       "0      Knute      Rockne        0.881\n",
       "1      Frank       Leahy        0.855\n",
       "2        Ara  Parseghian        0.836\n",
       "3     Daniel      Devine        0.764\n",
       "4        Lou       Holtz        0.765\n",
       "5     Marcus     Freeman        0.786"
      ]
     },
     "execution_count": 42,
     "metadata": {},
     "output_type": "execute_result"
    }
   ],
   "source": [
    "df.drop(\"n_championships\", axis=1)"
   ]
  },
  {
   "cell_type": "markdown",
   "metadata": {},
   "source": [
    "**Exercise 9.** Remove both the `\"win_percent\"` and the `\"n_championships\"` columns from `df`."
   ]
  },
  {
   "cell_type": "code",
   "execution_count": 43,
   "metadata": {},
   "outputs": [
    {
     "data": {
      "text/html": [
       "<div>\n",
       "<style scoped>\n",
       "    .dataframe tbody tr th:only-of-type {\n",
       "        vertical-align: middle;\n",
       "    }\n",
       "\n",
       "    .dataframe tbody tr th {\n",
       "        vertical-align: top;\n",
       "    }\n",
       "\n",
       "    .dataframe thead th {\n",
       "        text-align: right;\n",
       "    }\n",
       "</style>\n",
       "<table border=\"1\" class=\"dataframe\">\n",
       "  <thead>\n",
       "    <tr style=\"text-align: right;\">\n",
       "      <th></th>\n",
       "      <th>first_name</th>\n",
       "      <th>last_name</th>\n",
       "    </tr>\n",
       "  </thead>\n",
       "  <tbody>\n",
       "    <tr>\n",
       "      <th>0</th>\n",
       "      <td>Knute</td>\n",
       "      <td>Rockne</td>\n",
       "    </tr>\n",
       "    <tr>\n",
       "      <th>1</th>\n",
       "      <td>Frank</td>\n",
       "      <td>Leahy</td>\n",
       "    </tr>\n",
       "    <tr>\n",
       "      <th>2</th>\n",
       "      <td>Ara</td>\n",
       "      <td>Parseghian</td>\n",
       "    </tr>\n",
       "    <tr>\n",
       "      <th>3</th>\n",
       "      <td>Daniel</td>\n",
       "      <td>Devine</td>\n",
       "    </tr>\n",
       "    <tr>\n",
       "      <th>4</th>\n",
       "      <td>Lou</td>\n",
       "      <td>Holtz</td>\n",
       "    </tr>\n",
       "    <tr>\n",
       "      <th>5</th>\n",
       "      <td>Marcus</td>\n",
       "      <td>Freeman</td>\n",
       "    </tr>\n",
       "  </tbody>\n",
       "</table>\n",
       "</div>"
      ],
      "text/plain": [
       "  first_name   last_name\n",
       "0      Knute      Rockne\n",
       "1      Frank       Leahy\n",
       "2        Ara  Parseghian\n",
       "3     Daniel      Devine\n",
       "4        Lou       Holtz\n",
       "5     Marcus     Freeman"
      ]
     },
     "execution_count": 43,
     "metadata": {},
     "output_type": "execute_result"
    }
   ],
   "source": [
    "df.drop([\"n_championships\", \"win_percent\"], axis=1)"
   ]
  },
  {
   "cell_type": "markdown",
   "metadata": {},
   "source": [
    "## Rename"
   ]
  },
  {
   "cell_type": "markdown",
   "metadata": {},
   "source": [
    "To rename columns, DataFrames have a `.rename()` method:"
   ]
  },
  {
   "cell_type": "code",
   "execution_count": 44,
   "metadata": {},
   "outputs": [
    {
     "data": {
      "text/html": [
       "<div>\n",
       "<style scoped>\n",
       "    .dataframe tbody tr th:only-of-type {\n",
       "        vertical-align: middle;\n",
       "    }\n",
       "\n",
       "    .dataframe tbody tr th {\n",
       "        vertical-align: top;\n",
       "    }\n",
       "\n",
       "    .dataframe thead th {\n",
       "        text-align: right;\n",
       "    }\n",
       "</style>\n",
       "<table border=\"1\" class=\"dataframe\">\n",
       "  <thead>\n",
       "    <tr style=\"text-align: right;\">\n",
       "      <th></th>\n",
       "      <th>first</th>\n",
       "      <th>last</th>\n",
       "      <th>win_percent</th>\n",
       "      <th>n_championships</th>\n",
       "    </tr>\n",
       "  </thead>\n",
       "  <tbody>\n",
       "    <tr>\n",
       "      <th>0</th>\n",
       "      <td>Knute</td>\n",
       "      <td>Rockne</td>\n",
       "      <td>0.881</td>\n",
       "      <td>3</td>\n",
       "    </tr>\n",
       "    <tr>\n",
       "      <th>1</th>\n",
       "      <td>Frank</td>\n",
       "      <td>Leahy</td>\n",
       "      <td>0.855</td>\n",
       "      <td>4</td>\n",
       "    </tr>\n",
       "    <tr>\n",
       "      <th>2</th>\n",
       "      <td>Ara</td>\n",
       "      <td>Parseghian</td>\n",
       "      <td>0.836</td>\n",
       "      <td>2</td>\n",
       "    </tr>\n",
       "    <tr>\n",
       "      <th>3</th>\n",
       "      <td>Daniel</td>\n",
       "      <td>Devine</td>\n",
       "      <td>0.764</td>\n",
       "      <td>1</td>\n",
       "    </tr>\n",
       "    <tr>\n",
       "      <th>4</th>\n",
       "      <td>Lou</td>\n",
       "      <td>Holtz</td>\n",
       "      <td>0.765</td>\n",
       "      <td>1</td>\n",
       "    </tr>\n",
       "    <tr>\n",
       "      <th>5</th>\n",
       "      <td>Marcus</td>\n",
       "      <td>Freeman</td>\n",
       "      <td>0.786</td>\n",
       "      <td>1</td>\n",
       "    </tr>\n",
       "  </tbody>\n",
       "</table>\n",
       "</div>"
      ],
      "text/plain": [
       "    first        last  win_percent  n_championships\n",
       "0   Knute      Rockne        0.881                3\n",
       "1   Frank       Leahy        0.855                4\n",
       "2     Ara  Parseghian        0.836                2\n",
       "3  Daniel      Devine        0.764                1\n",
       "4     Lou       Holtz        0.765                1\n",
       "5  Marcus     Freeman        0.786                1"
      ]
     },
     "execution_count": 44,
     "metadata": {},
     "output_type": "execute_result"
    }
   ],
   "source": [
    "df.rename(columns={\"first_name\": \"first\", \"last_name\": \"last\"}, inplace=True)\n",
    "df"
   ]
  },
  {
   "cell_type": "markdown",
   "metadata": {},
   "source": [
    "**Exercise 10.** Notice that dropping the columns earlier does not remove the columns in place (i.e., you must set `df = df.drop(...)` in order to store the result with the specified columns removed). Does renaming using `df.rename()` rename the columns in place?"
   ]
  },
  {
   "cell_type": "code",
   "execution_count": 45,
   "metadata": {},
   "outputs": [
    {
     "data": {
      "text/html": [
       "<div>\n",
       "<style scoped>\n",
       "    .dataframe tbody tr th:only-of-type {\n",
       "        vertical-align: middle;\n",
       "    }\n",
       "\n",
       "    .dataframe tbody tr th {\n",
       "        vertical-align: top;\n",
       "    }\n",
       "\n",
       "    .dataframe thead th {\n",
       "        text-align: right;\n",
       "    }\n",
       "</style>\n",
       "<table border=\"1\" class=\"dataframe\">\n",
       "  <thead>\n",
       "    <tr style=\"text-align: right;\">\n",
       "      <th></th>\n",
       "      <th>first</th>\n",
       "      <th>last</th>\n",
       "      <th>win_percent</th>\n",
       "      <th>n_championships</th>\n",
       "    </tr>\n",
       "  </thead>\n",
       "  <tbody>\n",
       "    <tr>\n",
       "      <th>0</th>\n",
       "      <td>Knute</td>\n",
       "      <td>Rockne</td>\n",
       "      <td>0.881</td>\n",
       "      <td>3</td>\n",
       "    </tr>\n",
       "    <tr>\n",
       "      <th>1</th>\n",
       "      <td>Frank</td>\n",
       "      <td>Leahy</td>\n",
       "      <td>0.855</td>\n",
       "      <td>4</td>\n",
       "    </tr>\n",
       "    <tr>\n",
       "      <th>2</th>\n",
       "      <td>Ara</td>\n",
       "      <td>Parseghian</td>\n",
       "      <td>0.836</td>\n",
       "      <td>2</td>\n",
       "    </tr>\n",
       "    <tr>\n",
       "      <th>3</th>\n",
       "      <td>Daniel</td>\n",
       "      <td>Devine</td>\n",
       "      <td>0.764</td>\n",
       "      <td>1</td>\n",
       "    </tr>\n",
       "    <tr>\n",
       "      <th>4</th>\n",
       "      <td>Lou</td>\n",
       "      <td>Holtz</td>\n",
       "      <td>0.765</td>\n",
       "      <td>1</td>\n",
       "    </tr>\n",
       "    <tr>\n",
       "      <th>5</th>\n",
       "      <td>Marcus</td>\n",
       "      <td>Freeman</td>\n",
       "      <td>0.786</td>\n",
       "      <td>1</td>\n",
       "    </tr>\n",
       "  </tbody>\n",
       "</table>\n",
       "</div>"
      ],
      "text/plain": [
       "    first        last  win_percent  n_championships\n",
       "0   Knute      Rockne        0.881                3\n",
       "1   Frank       Leahy        0.855                4\n",
       "2     Ara  Parseghian        0.836                2\n",
       "3  Daniel      Devine        0.764                1\n",
       "4     Lou       Holtz        0.765                1\n",
       "5  Marcus     Freeman        0.786                1"
      ]
     },
     "execution_count": 45,
     "metadata": {},
     "output_type": "execute_result"
    }
   ],
   "source": [
    "df"
   ]
  },
  {
   "cell_type": "markdown",
   "metadata": {},
   "source": [
    "Answer: yes, the original DataFrame is modified in place."
   ]
  },
  {
   "cell_type": "markdown",
   "metadata": {},
   "source": [
    "## Sorting"
   ]
  },
  {
   "cell_type": "markdown",
   "metadata": {},
   "source": [
    "To sort rows/columns, we can sort either by the DataFrame's index/column names or by values in particular column(s)."
   ]
  },
  {
   "cell_type": "code",
   "execution_count": 46,
   "metadata": {},
   "outputs": [
    {
     "data": {
      "text/html": [
       "<div>\n",
       "<style scoped>\n",
       "    .dataframe tbody tr th:only-of-type {\n",
       "        vertical-align: middle;\n",
       "    }\n",
       "\n",
       "    .dataframe tbody tr th {\n",
       "        vertical-align: top;\n",
       "    }\n",
       "\n",
       "    .dataframe thead th {\n",
       "        text-align: right;\n",
       "    }\n",
       "</style>\n",
       "<table border=\"1\" class=\"dataframe\">\n",
       "  <thead>\n",
       "    <tr style=\"text-align: right;\">\n",
       "      <th></th>\n",
       "      <th>first</th>\n",
       "      <th>last</th>\n",
       "      <th>n_championships</th>\n",
       "      <th>win_percent</th>\n",
       "    </tr>\n",
       "  </thead>\n",
       "  <tbody>\n",
       "    <tr>\n",
       "      <th>0</th>\n",
       "      <td>Knute</td>\n",
       "      <td>Rockne</td>\n",
       "      <td>3</td>\n",
       "      <td>0.881</td>\n",
       "    </tr>\n",
       "    <tr>\n",
       "      <th>1</th>\n",
       "      <td>Frank</td>\n",
       "      <td>Leahy</td>\n",
       "      <td>4</td>\n",
       "      <td>0.855</td>\n",
       "    </tr>\n",
       "    <tr>\n",
       "      <th>2</th>\n",
       "      <td>Ara</td>\n",
       "      <td>Parseghian</td>\n",
       "      <td>2</td>\n",
       "      <td>0.836</td>\n",
       "    </tr>\n",
       "    <tr>\n",
       "      <th>3</th>\n",
       "      <td>Daniel</td>\n",
       "      <td>Devine</td>\n",
       "      <td>1</td>\n",
       "      <td>0.764</td>\n",
       "    </tr>\n",
       "    <tr>\n",
       "      <th>4</th>\n",
       "      <td>Lou</td>\n",
       "      <td>Holtz</td>\n",
       "      <td>1</td>\n",
       "      <td>0.765</td>\n",
       "    </tr>\n",
       "    <tr>\n",
       "      <th>5</th>\n",
       "      <td>Marcus</td>\n",
       "      <td>Freeman</td>\n",
       "      <td>1</td>\n",
       "      <td>0.786</td>\n",
       "    </tr>\n",
       "  </tbody>\n",
       "</table>\n",
       "</div>"
      ],
      "text/plain": [
       "    first        last  n_championships  win_percent\n",
       "0   Knute      Rockne                3        0.881\n",
       "1   Frank       Leahy                4        0.855\n",
       "2     Ara  Parseghian                2        0.836\n",
       "3  Daniel      Devine                1        0.764\n",
       "4     Lou       Holtz                1        0.765\n",
       "5  Marcus     Freeman                1        0.786"
      ]
     },
     "execution_count": 46,
     "metadata": {},
     "output_type": "execute_result"
    }
   ],
   "source": [
    "# sorting columns by column name\n",
    "df.sort_index(axis=1, ascending=True)"
   ]
  },
  {
   "cell_type": "code",
   "execution_count": 47,
   "metadata": {},
   "outputs": [
    {
     "data": {
      "text/html": [
       "<div>\n",
       "<style scoped>\n",
       "    .dataframe tbody tr th:only-of-type {\n",
       "        vertical-align: middle;\n",
       "    }\n",
       "\n",
       "    .dataframe tbody tr th {\n",
       "        vertical-align: top;\n",
       "    }\n",
       "\n",
       "    .dataframe thead th {\n",
       "        text-align: right;\n",
       "    }\n",
       "</style>\n",
       "<table border=\"1\" class=\"dataframe\">\n",
       "  <thead>\n",
       "    <tr style=\"text-align: right;\">\n",
       "      <th></th>\n",
       "      <th>first</th>\n",
       "      <th>last</th>\n",
       "      <th>win_percent</th>\n",
       "      <th>n_championships</th>\n",
       "    </tr>\n",
       "  </thead>\n",
       "  <tbody>\n",
       "    <tr>\n",
       "      <th>0</th>\n",
       "      <td>Knute</td>\n",
       "      <td>Rockne</td>\n",
       "      <td>0.881</td>\n",
       "      <td>3</td>\n",
       "    </tr>\n",
       "    <tr>\n",
       "      <th>1</th>\n",
       "      <td>Frank</td>\n",
       "      <td>Leahy</td>\n",
       "      <td>0.855</td>\n",
       "      <td>4</td>\n",
       "    </tr>\n",
       "    <tr>\n",
       "      <th>2</th>\n",
       "      <td>Ara</td>\n",
       "      <td>Parseghian</td>\n",
       "      <td>0.836</td>\n",
       "      <td>2</td>\n",
       "    </tr>\n",
       "    <tr>\n",
       "      <th>5</th>\n",
       "      <td>Marcus</td>\n",
       "      <td>Freeman</td>\n",
       "      <td>0.786</td>\n",
       "      <td>1</td>\n",
       "    </tr>\n",
       "    <tr>\n",
       "      <th>4</th>\n",
       "      <td>Lou</td>\n",
       "      <td>Holtz</td>\n",
       "      <td>0.765</td>\n",
       "      <td>1</td>\n",
       "    </tr>\n",
       "    <tr>\n",
       "      <th>3</th>\n",
       "      <td>Daniel</td>\n",
       "      <td>Devine</td>\n",
       "      <td>0.764</td>\n",
       "      <td>1</td>\n",
       "    </tr>\n",
       "  </tbody>\n",
       "</table>\n",
       "</div>"
      ],
      "text/plain": [
       "    first        last  win_percent  n_championships\n",
       "0   Knute      Rockne        0.881                3\n",
       "1   Frank       Leahy        0.855                4\n",
       "2     Ara  Parseghian        0.836                2\n",
       "5  Marcus     Freeman        0.786                1\n",
       "4     Lou       Holtz        0.765                1\n",
       "3  Daniel      Devine        0.764                1"
      ]
     },
     "execution_count": 47,
     "metadata": {},
     "output_type": "execute_result"
    }
   ],
   "source": [
    "# sort first by winning percentage\n",
    "df.sort_values(by=[\"win_percent\"], ascending=False)"
   ]
  },
  {
   "cell_type": "markdown",
   "metadata": {},
   "source": [
    "**Exercise 11.** Sort the coaches first by number of championships and then by winning percentage to break any ties in the number of championships."
   ]
  },
  {
   "cell_type": "code",
   "execution_count": 48,
   "metadata": {},
   "outputs": [
    {
     "data": {
      "text/html": [
       "<div>\n",
       "<style scoped>\n",
       "    .dataframe tbody tr th:only-of-type {\n",
       "        vertical-align: middle;\n",
       "    }\n",
       "\n",
       "    .dataframe tbody tr th {\n",
       "        vertical-align: top;\n",
       "    }\n",
       "\n",
       "    .dataframe thead th {\n",
       "        text-align: right;\n",
       "    }\n",
       "</style>\n",
       "<table border=\"1\" class=\"dataframe\">\n",
       "  <thead>\n",
       "    <tr style=\"text-align: right;\">\n",
       "      <th></th>\n",
       "      <th>first</th>\n",
       "      <th>last</th>\n",
       "      <th>win_percent</th>\n",
       "      <th>n_championships</th>\n",
       "    </tr>\n",
       "  </thead>\n",
       "  <tbody>\n",
       "    <tr>\n",
       "      <th>1</th>\n",
       "      <td>Frank</td>\n",
       "      <td>Leahy</td>\n",
       "      <td>0.855</td>\n",
       "      <td>4</td>\n",
       "    </tr>\n",
       "    <tr>\n",
       "      <th>0</th>\n",
       "      <td>Knute</td>\n",
       "      <td>Rockne</td>\n",
       "      <td>0.881</td>\n",
       "      <td>3</td>\n",
       "    </tr>\n",
       "    <tr>\n",
       "      <th>2</th>\n",
       "      <td>Ara</td>\n",
       "      <td>Parseghian</td>\n",
       "      <td>0.836</td>\n",
       "      <td>2</td>\n",
       "    </tr>\n",
       "    <tr>\n",
       "      <th>5</th>\n",
       "      <td>Marcus</td>\n",
       "      <td>Freeman</td>\n",
       "      <td>0.786</td>\n",
       "      <td>1</td>\n",
       "    </tr>\n",
       "    <tr>\n",
       "      <th>4</th>\n",
       "      <td>Lou</td>\n",
       "      <td>Holtz</td>\n",
       "      <td>0.765</td>\n",
       "      <td>1</td>\n",
       "    </tr>\n",
       "    <tr>\n",
       "      <th>3</th>\n",
       "      <td>Daniel</td>\n",
       "      <td>Devine</td>\n",
       "      <td>0.764</td>\n",
       "      <td>1</td>\n",
       "    </tr>\n",
       "  </tbody>\n",
       "</table>\n",
       "</div>"
      ],
      "text/plain": [
       "    first        last  win_percent  n_championships\n",
       "1   Frank       Leahy        0.855                4\n",
       "0   Knute      Rockne        0.881                3\n",
       "2     Ara  Parseghian        0.836                2\n",
       "5  Marcus     Freeman        0.786                1\n",
       "4     Lou       Holtz        0.765                1\n",
       "3  Daniel      Devine        0.764                1"
      ]
     },
     "execution_count": 48,
     "metadata": {},
     "output_type": "execute_result"
    }
   ],
   "source": [
    "# sort first by number of championships and then by win percentage\n",
    "df.sort_values(by=[\"n_championships\", \"win_percent\"], ascending=False)"
   ]
  },
  {
   "cell_type": "markdown",
   "metadata": {},
   "source": [
    "## Grouping and Aggregation"
   ]
  },
  {
   "cell_type": "markdown",
   "metadata": {},
   "source": [
    "In `pandas`, we can \"group\" DataFrames by particular column(s), so that subsequent operations are applied to each group independently. What does this mean? This is best illustrated with an example.\n"
   ]
  },
  {
   "cell_type": "code",
   "execution_count": 49,
   "metadata": {},
   "outputs": [
    {
     "data": {
      "text/html": [
       "<div>\n",
       "<style scoped>\n",
       "    .dataframe tbody tr th:only-of-type {\n",
       "        vertical-align: middle;\n",
       "    }\n",
       "\n",
       "    .dataframe tbody tr th {\n",
       "        vertical-align: top;\n",
       "    }\n",
       "\n",
       "    .dataframe thead th {\n",
       "        text-align: right;\n",
       "    }\n",
       "</style>\n",
       "<table border=\"1\" class=\"dataframe\">\n",
       "  <thead>\n",
       "    <tr style=\"text-align: right;\">\n",
       "      <th></th>\n",
       "      <th>A</th>\n",
       "      <th>B</th>\n",
       "      <th>C</th>\n",
       "      <th>D</th>\n",
       "    </tr>\n",
       "  </thead>\n",
       "  <tbody>\n",
       "    <tr>\n",
       "      <th>0</th>\n",
       "      <td>foo</td>\n",
       "      <td>one</td>\n",
       "      <td>0.011716</td>\n",
       "      <td>-0.398702</td>\n",
       "    </tr>\n",
       "    <tr>\n",
       "      <th>1</th>\n",
       "      <td>bar</td>\n",
       "      <td>one</td>\n",
       "      <td>1.964241</td>\n",
       "      <td>-0.262680</td>\n",
       "    </tr>\n",
       "    <tr>\n",
       "      <th>2</th>\n",
       "      <td>foo</td>\n",
       "      <td>two</td>\n",
       "      <td>-1.131347</td>\n",
       "      <td>0.819558</td>\n",
       "    </tr>\n",
       "    <tr>\n",
       "      <th>3</th>\n",
       "      <td>bar</td>\n",
       "      <td>three</td>\n",
       "      <td>-1.076770</td>\n",
       "      <td>-0.716494</td>\n",
       "    </tr>\n",
       "    <tr>\n",
       "      <th>4</th>\n",
       "      <td>foo</td>\n",
       "      <td>two</td>\n",
       "      <td>-0.596930</td>\n",
       "      <td>-0.518187</td>\n",
       "    </tr>\n",
       "    <tr>\n",
       "      <th>5</th>\n",
       "      <td>bar</td>\n",
       "      <td>two</td>\n",
       "      <td>-1.220332</td>\n",
       "      <td>-0.421084</td>\n",
       "    </tr>\n",
       "    <tr>\n",
       "      <th>6</th>\n",
       "      <td>foo</td>\n",
       "      <td>one</td>\n",
       "      <td>-1.844140</td>\n",
       "      <td>2.084813</td>\n",
       "    </tr>\n",
       "    <tr>\n",
       "      <th>7</th>\n",
       "      <td>foo</td>\n",
       "      <td>three</td>\n",
       "      <td>-0.797256</td>\n",
       "      <td>1.527344</td>\n",
       "    </tr>\n",
       "  </tbody>\n",
       "</table>\n",
       "</div>"
      ],
      "text/plain": [
       "     A      B         C         D\n",
       "0  foo    one  0.011716 -0.398702\n",
       "1  bar    one  1.964241 -0.262680\n",
       "2  foo    two -1.131347  0.819558\n",
       "3  bar  three -1.076770 -0.716494\n",
       "4  foo    two -0.596930 -0.518187\n",
       "5  bar    two -1.220332 -0.421084\n",
       "6  foo    one -1.844140  2.084813\n",
       "7  foo  three -0.797256  1.527344"
      ]
     },
     "execution_count": 49,
     "metadata": {},
     "output_type": "execute_result"
    }
   ],
   "source": [
    "df = pd.DataFrame({\n",
    "    \"A\": [\"foo\", \"bar\", \"foo\", \"bar\", \"foo\", \"bar\", \"foo\", \"foo\"],\n",
    "    \"B\": [\"one\", \"one\", \"two\", \"three\", \"two\", \"two\", \"one\", \"three\"],\n",
    "    \"C\": np.random.randn(8),\n",
    "    \"D\": np.random.randn(8),\n",
    "})\n",
    "df"
   ]
  },
  {
   "cell_type": "markdown",
   "metadata": {},
   "source": [
    "Given this dataset, suppose we want to compute the mean for each unique combination of `(\"A\", \"B\")` values. Rather than manually subsetting the DataFrame to the relevant rows, we can simply \"group\" the DataFrame by columns `\"A\"` and `\"B\"` and apply the mean function as follows:"
   ]
  },
  {
   "cell_type": "code",
   "execution_count": 50,
   "metadata": {},
   "outputs": [
    {
     "data": {
      "text/html": [
       "<div>\n",
       "<style scoped>\n",
       "    .dataframe tbody tr th:only-of-type {\n",
       "        vertical-align: middle;\n",
       "    }\n",
       "\n",
       "    .dataframe tbody tr th {\n",
       "        vertical-align: top;\n",
       "    }\n",
       "\n",
       "    .dataframe thead th {\n",
       "        text-align: right;\n",
       "    }\n",
       "</style>\n",
       "<table border=\"1\" class=\"dataframe\">\n",
       "  <thead>\n",
       "    <tr style=\"text-align: right;\">\n",
       "      <th></th>\n",
       "      <th></th>\n",
       "      <th>C</th>\n",
       "      <th>D</th>\n",
       "    </tr>\n",
       "    <tr>\n",
       "      <th>A</th>\n",
       "      <th>B</th>\n",
       "      <th></th>\n",
       "      <th></th>\n",
       "    </tr>\n",
       "  </thead>\n",
       "  <tbody>\n",
       "    <tr>\n",
       "      <th rowspan=\"3\" valign=\"top\">bar</th>\n",
       "      <th>one</th>\n",
       "      <td>1.964241</td>\n",
       "      <td>-0.262680</td>\n",
       "    </tr>\n",
       "    <tr>\n",
       "      <th>three</th>\n",
       "      <td>-1.076770</td>\n",
       "      <td>-0.716494</td>\n",
       "    </tr>\n",
       "    <tr>\n",
       "      <th>two</th>\n",
       "      <td>-1.220332</td>\n",
       "      <td>-0.421084</td>\n",
       "    </tr>\n",
       "    <tr>\n",
       "      <th rowspan=\"3\" valign=\"top\">foo</th>\n",
       "      <th>one</th>\n",
       "      <td>-0.916212</td>\n",
       "      <td>0.843056</td>\n",
       "    </tr>\n",
       "    <tr>\n",
       "      <th>three</th>\n",
       "      <td>-0.797256</td>\n",
       "      <td>1.527344</td>\n",
       "    </tr>\n",
       "    <tr>\n",
       "      <th>two</th>\n",
       "      <td>-0.864138</td>\n",
       "      <td>0.150686</td>\n",
       "    </tr>\n",
       "  </tbody>\n",
       "</table>\n",
       "</div>"
      ],
      "text/plain": [
       "                  C         D\n",
       "A   B                        \n",
       "bar one    1.964241 -0.262680\n",
       "    three -1.076770 -0.716494\n",
       "    two   -1.220332 -0.421084\n",
       "foo one   -0.916212  0.843056\n",
       "    three -0.797256  1.527344\n",
       "    two   -0.864138  0.150686"
      ]
     },
     "execution_count": 50,
     "metadata": {},
     "output_type": "execute_result"
    }
   ],
   "source": [
    "df.groupby([\"A\", \"B\"]).mean()"
   ]
  },
  {
   "cell_type": "markdown",
   "metadata": {},
   "source": [
    "**Exercise 12.** What if we wanted to compute the mean of columns `\"C\"` and `\"D\"` within each group, defined by only column `\"A\"` (not columns `\"A\"` and `\"B\"`)?"
   ]
  },
  {
   "cell_type": "code",
   "execution_count": 51,
   "metadata": {},
   "outputs": [
    {
     "data": {
      "text/html": [
       "<div>\n",
       "<style scoped>\n",
       "    .dataframe tbody tr th:only-of-type {\n",
       "        vertical-align: middle;\n",
       "    }\n",
       "\n",
       "    .dataframe tbody tr th {\n",
       "        vertical-align: top;\n",
       "    }\n",
       "\n",
       "    .dataframe thead th {\n",
       "        text-align: right;\n",
       "    }\n",
       "</style>\n",
       "<table border=\"1\" class=\"dataframe\">\n",
       "  <thead>\n",
       "    <tr style=\"text-align: right;\">\n",
       "      <th></th>\n",
       "      <th></th>\n",
       "      <th>C</th>\n",
       "      <th>D</th>\n",
       "    </tr>\n",
       "    <tr>\n",
       "      <th>A</th>\n",
       "      <th>B</th>\n",
       "      <th></th>\n",
       "      <th></th>\n",
       "    </tr>\n",
       "  </thead>\n",
       "  <tbody>\n",
       "    <tr>\n",
       "      <th rowspan=\"3\" valign=\"top\">bar</th>\n",
       "      <th>one</th>\n",
       "      <td>1.964241</td>\n",
       "      <td>-0.262680</td>\n",
       "    </tr>\n",
       "    <tr>\n",
       "      <th>three</th>\n",
       "      <td>-1.076770</td>\n",
       "      <td>-0.716494</td>\n",
       "    </tr>\n",
       "    <tr>\n",
       "      <th>two</th>\n",
       "      <td>-1.220332</td>\n",
       "      <td>-0.421084</td>\n",
       "    </tr>\n",
       "    <tr>\n",
       "      <th rowspan=\"3\" valign=\"top\">foo</th>\n",
       "      <th>one</th>\n",
       "      <td>-0.916212</td>\n",
       "      <td>0.843056</td>\n",
       "    </tr>\n",
       "    <tr>\n",
       "      <th>three</th>\n",
       "      <td>-0.797256</td>\n",
       "      <td>1.527344</td>\n",
       "    </tr>\n",
       "    <tr>\n",
       "      <th>two</th>\n",
       "      <td>-0.864138</td>\n",
       "      <td>0.150686</td>\n",
       "    </tr>\n",
       "  </tbody>\n",
       "</table>\n",
       "</div>"
      ],
      "text/plain": [
       "                  C         D\n",
       "A   B                        \n",
       "bar one    1.964241 -0.262680\n",
       "    three -1.076770 -0.716494\n",
       "    two   -1.220332 -0.421084\n",
       "foo one   -0.916212  0.843056\n",
       "    three -0.797256  1.527344\n",
       "    two   -0.864138  0.150686"
      ]
     },
     "execution_count": 51,
     "metadata": {},
     "output_type": "execute_result"
    }
   ],
   "source": [
    "df.groupby([\"A\", \"B\"])[[\"C\", \"D\"]].mean()"
   ]
  },
  {
   "cell_type": "markdown",
   "metadata": {},
   "source": [
    "## Concatenating"
   ]
  },
  {
   "cell_type": "markdown",
   "metadata": {},
   "source": [
    "To combine two DataFrames by concatenating columns or rows, we can use `pd.concat()`. Setting `axis=1` concatenates the two DataFrames by column while `axis=0` concatenates by row."
   ]
  },
  {
   "cell_type": "code",
   "execution_count": 52,
   "metadata": {},
   "outputs": [
    {
     "data": {
      "text/html": [
       "<div>\n",
       "<style scoped>\n",
       "    .dataframe tbody tr th:only-of-type {\n",
       "        vertical-align: middle;\n",
       "    }\n",
       "\n",
       "    .dataframe tbody tr th {\n",
       "        vertical-align: top;\n",
       "    }\n",
       "\n",
       "    .dataframe thead th {\n",
       "        text-align: right;\n",
       "    }\n",
       "</style>\n",
       "<table border=\"1\" class=\"dataframe\">\n",
       "  <thead>\n",
       "    <tr style=\"text-align: right;\">\n",
       "      <th></th>\n",
       "      <th>uppercase</th>\n",
       "      <th>lowercase</th>\n",
       "    </tr>\n",
       "  </thead>\n",
       "  <tbody>\n",
       "    <tr>\n",
       "      <th>0</th>\n",
       "      <td>A</td>\n",
       "      <td>a</td>\n",
       "    </tr>\n",
       "    <tr>\n",
       "      <th>1</th>\n",
       "      <td>B</td>\n",
       "      <td>b</td>\n",
       "    </tr>\n",
       "    <tr>\n",
       "      <th>2</th>\n",
       "      <td>C</td>\n",
       "      <td>c</td>\n",
       "    </tr>\n",
       "  </tbody>\n",
       "</table>\n",
       "</div>"
      ],
      "text/plain": [
       "  uppercase lowercase\n",
       "0         A         a\n",
       "1         B         b\n",
       "2         C         c"
      ]
     },
     "execution_count": 52,
     "metadata": {},
     "output_type": "execute_result"
    }
   ],
   "source": [
    "df1  = pd.DataFrame({\n",
    "    \"uppercase\": [\"A\", \"B\", \"C\"]\n",
    "})\n",
    "df2 = pd.DataFrame({\n",
    "    \"lowercase\": [\"a\", \"b\", \"c\"]\n",
    "})\n",
    "# concatenate along the columns\n",
    "pd.concat([df1, df2], axis=1)"
   ]
  },
  {
   "cell_type": "code",
   "execution_count": 53,
   "metadata": {},
   "outputs": [
    {
     "data": {
      "text/html": [
       "<div>\n",
       "<style scoped>\n",
       "    .dataframe tbody tr th:only-of-type {\n",
       "        vertical-align: middle;\n",
       "    }\n",
       "\n",
       "    .dataframe tbody tr th {\n",
       "        vertical-align: top;\n",
       "    }\n",
       "\n",
       "    .dataframe thead th {\n",
       "        text-align: right;\n",
       "    }\n",
       "</style>\n",
       "<table border=\"1\" class=\"dataframe\">\n",
       "  <thead>\n",
       "    <tr style=\"text-align: right;\">\n",
       "      <th></th>\n",
       "      <th>a</th>\n",
       "      <th>b</th>\n",
       "      <th>c</th>\n",
       "    </tr>\n",
       "  </thead>\n",
       "  <tbody>\n",
       "    <tr>\n",
       "      <th>0</th>\n",
       "      <td>1</td>\n",
       "      <td>2</td>\n",
       "      <td>3</td>\n",
       "    </tr>\n",
       "    <tr>\n",
       "      <th>1</th>\n",
       "      <td>2</td>\n",
       "      <td>3</td>\n",
       "      <td>4</td>\n",
       "    </tr>\n",
       "    <tr>\n",
       "      <th>2</th>\n",
       "      <td>3</td>\n",
       "      <td>4</td>\n",
       "      <td>5</td>\n",
       "    </tr>\n",
       "    <tr>\n",
       "      <th>0</th>\n",
       "      <td>4</td>\n",
       "      <td>5</td>\n",
       "      <td>6</td>\n",
       "    </tr>\n",
       "    <tr>\n",
       "      <th>1</th>\n",
       "      <td>5</td>\n",
       "      <td>6</td>\n",
       "      <td>7</td>\n",
       "    </tr>\n",
       "    <tr>\n",
       "      <th>2</th>\n",
       "      <td>6</td>\n",
       "      <td>7</td>\n",
       "      <td>8</td>\n",
       "    </tr>\n",
       "  </tbody>\n",
       "</table>\n",
       "</div>"
      ],
      "text/plain": [
       "   a  b  c\n",
       "0  1  2  3\n",
       "1  2  3  4\n",
       "2  3  4  5\n",
       "0  4  5  6\n",
       "1  5  6  7\n",
       "2  6  7  8"
      ]
     },
     "execution_count": 53,
     "metadata": {},
     "output_type": "execute_result"
    }
   ],
   "source": [
    "df1 = pd.DataFrame({\n",
    "    \"a\": [1, 2, 3],\n",
    "    \"b\": [2, 3, 4],\n",
    "    \"c\": [3, 4, 5]\n",
    "})\n",
    "df2 = pd.DataFrame({\n",
    "    \"a\": [4, 5, 6],\n",
    "    \"b\": [5, 6, 7],\n",
    "    \"c\": [6, 7, 8]\n",
    "})\n",
    "# concatenate along the rows\n",
    "pd.concat([df1, df2], axis=0)"
   ]
  },
  {
   "cell_type": "markdown",
   "metadata": {},
   "source": [
    "Note that concatenation uses the indexes to \"match\" rows or columns."
   ]
  },
  {
   "cell_type": "code",
   "execution_count": 54,
   "metadata": {},
   "outputs": [
    {
     "data": {
      "text/html": [
       "<div>\n",
       "<style scoped>\n",
       "    .dataframe tbody tr th:only-of-type {\n",
       "        vertical-align: middle;\n",
       "    }\n",
       "\n",
       "    .dataframe tbody tr th {\n",
       "        vertical-align: top;\n",
       "    }\n",
       "\n",
       "    .dataframe thead th {\n",
       "        text-align: right;\n",
       "    }\n",
       "</style>\n",
       "<table border=\"1\" class=\"dataframe\">\n",
       "  <thead>\n",
       "    <tr style=\"text-align: right;\">\n",
       "      <th></th>\n",
       "      <th>uppercase</th>\n",
       "      <th>lowercase</th>\n",
       "    </tr>\n",
       "  </thead>\n",
       "  <tbody>\n",
       "    <tr>\n",
       "      <th>one</th>\n",
       "      <td>A</td>\n",
       "      <td>NaN</td>\n",
       "    </tr>\n",
       "    <tr>\n",
       "      <th>two</th>\n",
       "      <td>B</td>\n",
       "      <td>NaN</td>\n",
       "    </tr>\n",
       "    <tr>\n",
       "      <th>three</th>\n",
       "      <td>C</td>\n",
       "      <td>NaN</td>\n",
       "    </tr>\n",
       "    <tr>\n",
       "      <th>0</th>\n",
       "      <td>NaN</td>\n",
       "      <td>a</td>\n",
       "    </tr>\n",
       "    <tr>\n",
       "      <th>1</th>\n",
       "      <td>NaN</td>\n",
       "      <td>b</td>\n",
       "    </tr>\n",
       "    <tr>\n",
       "      <th>2</th>\n",
       "      <td>NaN</td>\n",
       "      <td>c</td>\n",
       "    </tr>\n",
       "  </tbody>\n",
       "</table>\n",
       "</div>"
      ],
      "text/plain": [
       "      uppercase lowercase\n",
       "one           A       NaN\n",
       "two           B       NaN\n",
       "three         C       NaN\n",
       "0           NaN         a\n",
       "1           NaN         b\n",
       "2           NaN         c"
      ]
     },
     "execution_count": 54,
     "metadata": {},
     "output_type": "execute_result"
    }
   ],
   "source": [
    "df1  = pd.DataFrame({\n",
    "    \"uppercase\": [\"A\", \"B\", \"C\"],\n",
    "},\n",
    "index=[\"one\", \"two\", \"three\"])\n",
    "df2 = pd.DataFrame({\n",
    "    \"lowercase\": [\"a\", \"b\", \"c\"]\n",
    "})\n",
    "# concatenate along the columns, but indexes do not line up so NaNs are filled in\n",
    "pd.concat([df1, df2], axis=1)"
   ]
  },
  {
   "cell_type": "code",
   "execution_count": 55,
   "metadata": {},
   "outputs": [
    {
     "data": {
      "text/html": [
       "<div>\n",
       "<style scoped>\n",
       "    .dataframe tbody tr th:only-of-type {\n",
       "        vertical-align: middle;\n",
       "    }\n",
       "\n",
       "    .dataframe tbody tr th {\n",
       "        vertical-align: top;\n",
       "    }\n",
       "\n",
       "    .dataframe thead th {\n",
       "        text-align: right;\n",
       "    }\n",
       "</style>\n",
       "<table border=\"1\" class=\"dataframe\">\n",
       "  <thead>\n",
       "    <tr style=\"text-align: right;\">\n",
       "      <th></th>\n",
       "      <th>a</th>\n",
       "      <th>b</th>\n",
       "      <th>c</th>\n",
       "    </tr>\n",
       "  </thead>\n",
       "  <tbody>\n",
       "    <tr>\n",
       "      <th>0</th>\n",
       "      <td>1</td>\n",
       "      <td>2</td>\n",
       "      <td>3.0</td>\n",
       "    </tr>\n",
       "    <tr>\n",
       "      <th>1</th>\n",
       "      <td>2</td>\n",
       "      <td>3</td>\n",
       "      <td>4.0</td>\n",
       "    </tr>\n",
       "    <tr>\n",
       "      <th>2</th>\n",
       "      <td>3</td>\n",
       "      <td>4</td>\n",
       "      <td>5.0</td>\n",
       "    </tr>\n",
       "    <tr>\n",
       "      <th>0</th>\n",
       "      <td>4</td>\n",
       "      <td>5</td>\n",
       "      <td>NaN</td>\n",
       "    </tr>\n",
       "    <tr>\n",
       "      <th>1</th>\n",
       "      <td>5</td>\n",
       "      <td>6</td>\n",
       "      <td>NaN</td>\n",
       "    </tr>\n",
       "    <tr>\n",
       "      <th>2</th>\n",
       "      <td>6</td>\n",
       "      <td>7</td>\n",
       "      <td>NaN</td>\n",
       "    </tr>\n",
       "  </tbody>\n",
       "</table>\n",
       "</div>"
      ],
      "text/plain": [
       "   a  b    c\n",
       "0  1  2  3.0\n",
       "1  2  3  4.0\n",
       "2  3  4  5.0\n",
       "0  4  5  NaN\n",
       "1  5  6  NaN\n",
       "2  6  7  NaN"
      ]
     },
     "execution_count": 55,
     "metadata": {},
     "output_type": "execute_result"
    }
   ],
   "source": [
    "df1 = pd.DataFrame({\n",
    "    \"a\": [1, 2, 3],\n",
    "    \"b\": [2, 3, 4],\n",
    "    \"c\": [3, 4, 5]\n",
    "})\n",
    "df2 = pd.DataFrame({\n",
    "    \"b\": [5, 6, 7],\n",
    "    \"a\": [4, 5, 6]\n",
    "})\n",
    "# concatenate along the rows\n",
    "pd.concat([df1, df2], axis=0)"
   ]
  },
  {
   "cell_type": "markdown",
   "metadata": {},
   "source": [
    "**Exercise 13.** Without modifying `champs_df` below, please concatenate the following two DataFrames so that each coach has the correct number of championships assigned to them."
   ]
  },
  {
   "cell_type": "code",
   "execution_count": 56,
   "metadata": {},
   "outputs": [
    {
     "data": {
      "text/plain": [
       "(  first_name   last_name  win_percent\n",
       " 0      Knute      Rockne        0.881\n",
       " 1      Frank       Leahy        0.855\n",
       " 2        Ara  Parseghian        0.836\n",
       " 3        Dan      Devine        0.764\n",
       " 4        Lou       Holtz        0.765\n",
       " 5     Marcus     Freeman        0.786,\n",
       "               last n_championships\n",
       " Knute       Rockne               3\n",
       " Frank        Leahy               4\n",
       " Ara     Parseghian               2\n",
       " Dan         Devine               1\n",
       " Lou          Holtz               1\n",
       " Marcus     Freeman              1?)"
      ]
     },
     "execution_count": 56,
     "metadata": {},
     "output_type": "execute_result"
    }
   ],
   "source": [
    "win_df = pd.DataFrame({\n",
    "    \"first_name\": [\"Knute\", \"Frank\", \"Ara\", \"Dan\", \"Lou\", \"Marcus\"],\n",
    "    \"last_name\": [\"Rockne\", \"Leahy\", \"Parseghian\", \"Devine\", \"Holtz\", \"Freeman\"],\n",
    "    \"win_percent\": [0.881, 0.855, 0.836, 0.764, 0.765, 0.786]\n",
    "})\n",
    "champs_df = pd.DataFrame({\n",
    "    \"last\": [\"Rockne\", \"Leahy\", \"Parseghian\", \"Devine\", \"Holtz\", \"Freeman\"],\n",
    "    \"n_championships\": [\"3\", \"4\", \"2\", \"1\", \"1\", \"1?\"]\n",
    "}, index=[\"Knute\", \"Frank\", \"Ara\", \"Dan\", \"Lou\", \"Marcus\"])\n",
    "win_df, champs_df"
   ]
  },
  {
   "cell_type": "code",
   "execution_count": 57,
   "metadata": {},
   "outputs": [
    {
     "data": {
      "text/html": [
       "<div>\n",
       "<style scoped>\n",
       "    .dataframe tbody tr th:only-of-type {\n",
       "        vertical-align: middle;\n",
       "    }\n",
       "\n",
       "    .dataframe tbody tr th {\n",
       "        vertical-align: top;\n",
       "    }\n",
       "\n",
       "    .dataframe thead th {\n",
       "        text-align: right;\n",
       "    }\n",
       "</style>\n",
       "<table border=\"1\" class=\"dataframe\">\n",
       "  <thead>\n",
       "    <tr style=\"text-align: right;\">\n",
       "      <th></th>\n",
       "      <th>last_name</th>\n",
       "      <th>win_percent</th>\n",
       "      <th>last</th>\n",
       "      <th>n_championships</th>\n",
       "    </tr>\n",
       "  </thead>\n",
       "  <tbody>\n",
       "    <tr>\n",
       "      <th>Knute</th>\n",
       "      <td>Rockne</td>\n",
       "      <td>0.881</td>\n",
       "      <td>Rockne</td>\n",
       "      <td>3</td>\n",
       "    </tr>\n",
       "    <tr>\n",
       "      <th>Frank</th>\n",
       "      <td>Leahy</td>\n",
       "      <td>0.855</td>\n",
       "      <td>Leahy</td>\n",
       "      <td>4</td>\n",
       "    </tr>\n",
       "    <tr>\n",
       "      <th>Ara</th>\n",
       "      <td>Parseghian</td>\n",
       "      <td>0.836</td>\n",
       "      <td>Parseghian</td>\n",
       "      <td>2</td>\n",
       "    </tr>\n",
       "    <tr>\n",
       "      <th>Dan</th>\n",
       "      <td>Devine</td>\n",
       "      <td>0.764</td>\n",
       "      <td>Devine</td>\n",
       "      <td>1</td>\n",
       "    </tr>\n",
       "    <tr>\n",
       "      <th>Lou</th>\n",
       "      <td>Holtz</td>\n",
       "      <td>0.765</td>\n",
       "      <td>Holtz</td>\n",
       "      <td>1</td>\n",
       "    </tr>\n",
       "    <tr>\n",
       "      <th>Marcus</th>\n",
       "      <td>Freeman</td>\n",
       "      <td>0.786</td>\n",
       "      <td>Freeman</td>\n",
       "      <td>1?</td>\n",
       "    </tr>\n",
       "  </tbody>\n",
       "</table>\n",
       "</div>"
      ],
      "text/plain": [
       "         last_name  win_percent        last n_championships\n",
       "Knute       Rockne        0.881      Rockne               3\n",
       "Frank        Leahy        0.855       Leahy               4\n",
       "Ara     Parseghian        0.836  Parseghian               2\n",
       "Dan         Devine        0.764      Devine               1\n",
       "Lou          Holtz        0.765       Holtz               1\n",
       "Marcus     Freeman        0.786     Freeman              1?"
      ]
     },
     "execution_count": 57,
     "metadata": {},
     "output_type": "execute_result"
    }
   ],
   "source": [
    "pd.concat([win_df.set_index(\"first_name\"), champs_df], axis=1)"
   ]
  },
  {
   "cell_type": "markdown",
   "metadata": {},
   "source": [
    "Sometimes, it can be helpful to reset the indexes back to the usual \"position\" indexes. This can be done using `.reset_index()`. For example,"
   ]
  },
  {
   "cell_type": "code",
   "execution_count": 58,
   "metadata": {},
   "outputs": [
    {
     "data": {
      "text/html": [
       "<div>\n",
       "<style scoped>\n",
       "    .dataframe tbody tr th:only-of-type {\n",
       "        vertical-align: middle;\n",
       "    }\n",
       "\n",
       "    .dataframe tbody tr th {\n",
       "        vertical-align: top;\n",
       "    }\n",
       "\n",
       "    .dataframe thead th {\n",
       "        text-align: right;\n",
       "    }\n",
       "</style>\n",
       "<table border=\"1\" class=\"dataframe\">\n",
       "  <thead>\n",
       "    <tr style=\"text-align: right;\">\n",
       "      <th></th>\n",
       "      <th>index</th>\n",
       "      <th>last</th>\n",
       "      <th>n_championships</th>\n",
       "    </tr>\n",
       "  </thead>\n",
       "  <tbody>\n",
       "    <tr>\n",
       "      <th>0</th>\n",
       "      <td>Knute</td>\n",
       "      <td>Rockne</td>\n",
       "      <td>3</td>\n",
       "    </tr>\n",
       "    <tr>\n",
       "      <th>1</th>\n",
       "      <td>Frank</td>\n",
       "      <td>Leahy</td>\n",
       "      <td>4</td>\n",
       "    </tr>\n",
       "    <tr>\n",
       "      <th>2</th>\n",
       "      <td>Ara</td>\n",
       "      <td>Parseghian</td>\n",
       "      <td>2</td>\n",
       "    </tr>\n",
       "    <tr>\n",
       "      <th>3</th>\n",
       "      <td>Dan</td>\n",
       "      <td>Devine</td>\n",
       "      <td>1</td>\n",
       "    </tr>\n",
       "    <tr>\n",
       "      <th>4</th>\n",
       "      <td>Lou</td>\n",
       "      <td>Holtz</td>\n",
       "      <td>1</td>\n",
       "    </tr>\n",
       "    <tr>\n",
       "      <th>5</th>\n",
       "      <td>Marcus</td>\n",
       "      <td>Freeman</td>\n",
       "      <td>1?</td>\n",
       "    </tr>\n",
       "  </tbody>\n",
       "</table>\n",
       "</div>"
      ],
      "text/plain": [
       "    index        last n_championships\n",
       "0   Knute      Rockne               3\n",
       "1   Frank       Leahy               4\n",
       "2     Ara  Parseghian               2\n",
       "3     Dan      Devine               1\n",
       "4     Lou       Holtz               1\n",
       "5  Marcus     Freeman              1?"
      ]
     },
     "execution_count": 58,
     "metadata": {},
     "output_type": "execute_result"
    }
   ],
   "source": [
    "champs_df.reset_index()"
   ]
  },
  {
   "cell_type": "markdown",
   "metadata": {},
   "source": [
    "**Exercise 14.** Compare `champs_df.reset_index(drop=False)` versus `champs_df.reset_index(drop=True)`. What is the difference?"
   ]
  },
  {
   "cell_type": "code",
   "execution_count": 59,
   "metadata": {},
   "outputs": [
    {
     "data": {
      "text/html": [
       "<div>\n",
       "<style scoped>\n",
       "    .dataframe tbody tr th:only-of-type {\n",
       "        vertical-align: middle;\n",
       "    }\n",
       "\n",
       "    .dataframe tbody tr th {\n",
       "        vertical-align: top;\n",
       "    }\n",
       "\n",
       "    .dataframe thead th {\n",
       "        text-align: right;\n",
       "    }\n",
       "</style>\n",
       "<table border=\"1\" class=\"dataframe\">\n",
       "  <thead>\n",
       "    <tr style=\"text-align: right;\">\n",
       "      <th></th>\n",
       "      <th>last</th>\n",
       "      <th>n_championships</th>\n",
       "    </tr>\n",
       "  </thead>\n",
       "  <tbody>\n",
       "    <tr>\n",
       "      <th>0</th>\n",
       "      <td>Rockne</td>\n",
       "      <td>3</td>\n",
       "    </tr>\n",
       "    <tr>\n",
       "      <th>1</th>\n",
       "      <td>Leahy</td>\n",
       "      <td>4</td>\n",
       "    </tr>\n",
       "    <tr>\n",
       "      <th>2</th>\n",
       "      <td>Parseghian</td>\n",
       "      <td>2</td>\n",
       "    </tr>\n",
       "    <tr>\n",
       "      <th>3</th>\n",
       "      <td>Devine</td>\n",
       "      <td>1</td>\n",
       "    </tr>\n",
       "    <tr>\n",
       "      <th>4</th>\n",
       "      <td>Holtz</td>\n",
       "      <td>1</td>\n",
       "    </tr>\n",
       "    <tr>\n",
       "      <th>5</th>\n",
       "      <td>Freeman</td>\n",
       "      <td>1?</td>\n",
       "    </tr>\n",
       "  </tbody>\n",
       "</table>\n",
       "</div>"
      ],
      "text/plain": [
       "         last n_championships\n",
       "0      Rockne               3\n",
       "1       Leahy               4\n",
       "2  Parseghian               2\n",
       "3      Devine               1\n",
       "4       Holtz               1\n",
       "5     Freeman              1?"
      ]
     },
     "execution_count": 59,
     "metadata": {},
     "output_type": "execute_result"
    }
   ],
   "source": [
    "champs_df.reset_index(drop=True)  # drop the old index"
   ]
  },
  {
   "cell_type": "code",
   "execution_count": 60,
   "metadata": {},
   "outputs": [
    {
     "data": {
      "text/html": [
       "<div>\n",
       "<style scoped>\n",
       "    .dataframe tbody tr th:only-of-type {\n",
       "        vertical-align: middle;\n",
       "    }\n",
       "\n",
       "    .dataframe tbody tr th {\n",
       "        vertical-align: top;\n",
       "    }\n",
       "\n",
       "    .dataframe thead th {\n",
       "        text-align: right;\n",
       "    }\n",
       "</style>\n",
       "<table border=\"1\" class=\"dataframe\">\n",
       "  <thead>\n",
       "    <tr style=\"text-align: right;\">\n",
       "      <th></th>\n",
       "      <th>index</th>\n",
       "      <th>last</th>\n",
       "      <th>n_championships</th>\n",
       "    </tr>\n",
       "  </thead>\n",
       "  <tbody>\n",
       "    <tr>\n",
       "      <th>0</th>\n",
       "      <td>Knute</td>\n",
       "      <td>Rockne</td>\n",
       "      <td>3</td>\n",
       "    </tr>\n",
       "    <tr>\n",
       "      <th>1</th>\n",
       "      <td>Frank</td>\n",
       "      <td>Leahy</td>\n",
       "      <td>4</td>\n",
       "    </tr>\n",
       "    <tr>\n",
       "      <th>2</th>\n",
       "      <td>Ara</td>\n",
       "      <td>Parseghian</td>\n",
       "      <td>2</td>\n",
       "    </tr>\n",
       "    <tr>\n",
       "      <th>3</th>\n",
       "      <td>Dan</td>\n",
       "      <td>Devine</td>\n",
       "      <td>1</td>\n",
       "    </tr>\n",
       "    <tr>\n",
       "      <th>4</th>\n",
       "      <td>Lou</td>\n",
       "      <td>Holtz</td>\n",
       "      <td>1</td>\n",
       "    </tr>\n",
       "    <tr>\n",
       "      <th>5</th>\n",
       "      <td>Marcus</td>\n",
       "      <td>Freeman</td>\n",
       "      <td>1?</td>\n",
       "    </tr>\n",
       "  </tbody>\n",
       "</table>\n",
       "</div>"
      ],
      "text/plain": [
       "    index        last n_championships\n",
       "0   Knute      Rockne               3\n",
       "1   Frank       Leahy               4\n",
       "2     Ara  Parseghian               2\n",
       "3     Dan      Devine               1\n",
       "4     Lou       Holtz               1\n",
       "5  Marcus     Freeman              1?"
      ]
     },
     "execution_count": 60,
     "metadata": {},
     "output_type": "execute_result"
    }
   ],
   "source": [
    "champs_df.reset_index(drop=False)  # keep the old index and add it as a column \"index\""
   ]
  },
  {
   "cell_type": "markdown",
   "metadata": {},
   "source": [
    "**Exercise 15.** Use `.reset_index()` to modify `champs_df` in order to concatenate `champs_df` and `win_df`"
   ]
  },
  {
   "cell_type": "code",
   "execution_count": 61,
   "metadata": {},
   "outputs": [],
   "source": [
    "win_df = pd.DataFrame({\n",
    "    \"first_name\": [\"Knute\", \"Frank\", \"Ara\", \"Dan\", \"Lou\", \"Marcus\"],\n",
    "    \"last_name\": [\"Rockne\", \"Leahy\", \"Parseghian\", \"Devine\", \"Holtz\", \"Freeman\"],\n",
    "    \"win_percent\": [0.881, 0.855, 0.836, 0.764, 0.765, 0.786]\n",
    "})\n",
    "champs_df = pd.DataFrame({\n",
    "    \"last\": [\"Rockne\", \"Leahy\", \"Parseghian\", \"Devine\", \"Holtz\", \"Freeman\"],\n",
    "    \"n_championships\": [\"3\", \"4\", \"2\", \"1\", \"1\", \"1?\"]\n",
    "}, index=[\"Knute\", \"Frank\", \"Ara\", \"Dan\", \"Lou\", \"Marcus\"])"
   ]
  },
  {
   "cell_type": "code",
   "execution_count": 62,
   "metadata": {},
   "outputs": [
    {
     "data": {
      "text/html": [
       "<div>\n",
       "<style scoped>\n",
       "    .dataframe tbody tr th:only-of-type {\n",
       "        vertical-align: middle;\n",
       "    }\n",
       "\n",
       "    .dataframe tbody tr th {\n",
       "        vertical-align: top;\n",
       "    }\n",
       "\n",
       "    .dataframe thead th {\n",
       "        text-align: right;\n",
       "    }\n",
       "</style>\n",
       "<table border=\"1\" class=\"dataframe\">\n",
       "  <thead>\n",
       "    <tr style=\"text-align: right;\">\n",
       "      <th></th>\n",
       "      <th>first_name</th>\n",
       "      <th>last_name</th>\n",
       "      <th>win_percent</th>\n",
       "      <th>index</th>\n",
       "      <th>last</th>\n",
       "      <th>n_championships</th>\n",
       "    </tr>\n",
       "  </thead>\n",
       "  <tbody>\n",
       "    <tr>\n",
       "      <th>0</th>\n",
       "      <td>Knute</td>\n",
       "      <td>Rockne</td>\n",
       "      <td>0.881</td>\n",
       "      <td>Knute</td>\n",
       "      <td>Rockne</td>\n",
       "      <td>3</td>\n",
       "    </tr>\n",
       "    <tr>\n",
       "      <th>1</th>\n",
       "      <td>Frank</td>\n",
       "      <td>Leahy</td>\n",
       "      <td>0.855</td>\n",
       "      <td>Frank</td>\n",
       "      <td>Leahy</td>\n",
       "      <td>4</td>\n",
       "    </tr>\n",
       "    <tr>\n",
       "      <th>2</th>\n",
       "      <td>Ara</td>\n",
       "      <td>Parseghian</td>\n",
       "      <td>0.836</td>\n",
       "      <td>Ara</td>\n",
       "      <td>Parseghian</td>\n",
       "      <td>2</td>\n",
       "    </tr>\n",
       "    <tr>\n",
       "      <th>3</th>\n",
       "      <td>Dan</td>\n",
       "      <td>Devine</td>\n",
       "      <td>0.764</td>\n",
       "      <td>Dan</td>\n",
       "      <td>Devine</td>\n",
       "      <td>1</td>\n",
       "    </tr>\n",
       "    <tr>\n",
       "      <th>4</th>\n",
       "      <td>Lou</td>\n",
       "      <td>Holtz</td>\n",
       "      <td>0.765</td>\n",
       "      <td>Lou</td>\n",
       "      <td>Holtz</td>\n",
       "      <td>1</td>\n",
       "    </tr>\n",
       "    <tr>\n",
       "      <th>5</th>\n",
       "      <td>Marcus</td>\n",
       "      <td>Freeman</td>\n",
       "      <td>0.786</td>\n",
       "      <td>Marcus</td>\n",
       "      <td>Freeman</td>\n",
       "      <td>1?</td>\n",
       "    </tr>\n",
       "  </tbody>\n",
       "</table>\n",
       "</div>"
      ],
      "text/plain": [
       "  first_name   last_name  win_percent   index        last n_championships\n",
       "0      Knute      Rockne        0.881   Knute      Rockne               3\n",
       "1      Frank       Leahy        0.855   Frank       Leahy               4\n",
       "2        Ara  Parseghian        0.836     Ara  Parseghian               2\n",
       "3        Dan      Devine        0.764     Dan      Devine               1\n",
       "4        Lou       Holtz        0.765     Lou       Holtz               1\n",
       "5     Marcus     Freeman        0.786  Marcus     Freeman              1?"
      ]
     },
     "execution_count": 62,
     "metadata": {},
     "output_type": "execute_result"
    }
   ],
   "source": [
    "pd.concat([win_df, champs_df.reset_index()], axis=1)"
   ]
  },
  {
   "cell_type": "markdown",
   "metadata": {},
   "source": [
    "## Joining"
   ]
  },
  {
   "cell_type": "markdown",
   "metadata": {},
   "source": [
    "Now, rather than simply concatenating datasets by rows or columns, we often want to merge datasets based upon common IDs (or columns(s)). This data manipulation is often called \"joining\" two datasets, and there are different types of \"joins\":\n",
    "\n",
    "-   \"inner join\": keep only rows that have matching IDs in both datasets\n",
    "-   \"full (or outer) join\": keep all rows from both datasets (don't need to have matching IDs)\n",
    "-   \"left join\": keep all rows from the first (i.e., left) dataset and only matching rows from the second dataset\n",
    "-   \"right join\": keep all rows from the second (i.e., right) dataset and only matching rows from the first dataset\n",
    "\n",
    "![](https://data-lessons.github.io/gapminder-R/fig/dplyr-joins.png)\n"
   ]
  },
  {
   "cell_type": "markdown",
   "metadata": {},
   "source": [
    "To illustrate the differences between these joins, let's try joining the following two datasets: `band_members` and `band_instruments`. Both datasets have column named `name` which we will use as the \"ID\" to join the datasets."
   ]
  },
  {
   "cell_type": "code",
   "execution_count": 63,
   "metadata": {},
   "outputs": [
    {
     "data": {
      "text/html": [
       "<div>\n",
       "<style scoped>\n",
       "    .dataframe tbody tr th:only-of-type {\n",
       "        vertical-align: middle;\n",
       "    }\n",
       "\n",
       "    .dataframe tbody tr th {\n",
       "        vertical-align: top;\n",
       "    }\n",
       "\n",
       "    .dataframe thead th {\n",
       "        text-align: right;\n",
       "    }\n",
       "</style>\n",
       "<table border=\"1\" class=\"dataframe\">\n",
       "  <thead>\n",
       "    <tr style=\"text-align: right;\">\n",
       "      <th></th>\n",
       "      <th>name</th>\n",
       "      <th>band</th>\n",
       "    </tr>\n",
       "  </thead>\n",
       "  <tbody>\n",
       "    <tr>\n",
       "      <th>0</th>\n",
       "      <td>Mick</td>\n",
       "      <td>Stones</td>\n",
       "    </tr>\n",
       "    <tr>\n",
       "      <th>1</th>\n",
       "      <td>John</td>\n",
       "      <td>Beatles</td>\n",
       "    </tr>\n",
       "    <tr>\n",
       "      <th>2</th>\n",
       "      <td>Paul</td>\n",
       "      <td>Beatles</td>\n",
       "    </tr>\n",
       "  </tbody>\n",
       "</table>\n",
       "</div>"
      ],
      "text/plain": [
       "   name     band\n",
       "0  Mick   Stones\n",
       "1  John  Beatles\n",
       "2  Paul  Beatles"
      ]
     },
     "execution_count": 63,
     "metadata": {},
     "output_type": "execute_result"
    }
   ],
   "source": [
    "band_members = pd.DataFrame({\n",
    "    \"name\": [\"Mick\", \"John\", \"Paul\"],\n",
    "    \"band\": [\"Stones\", \"Beatles\", \"Beatles\"]\n",
    "})\n",
    "band_members"
   ]
  },
  {
   "cell_type": "code",
   "execution_count": 64,
   "metadata": {},
   "outputs": [
    {
     "data": {
      "text/html": [
       "<div>\n",
       "<style scoped>\n",
       "    .dataframe tbody tr th:only-of-type {\n",
       "        vertical-align: middle;\n",
       "    }\n",
       "\n",
       "    .dataframe tbody tr th {\n",
       "        vertical-align: top;\n",
       "    }\n",
       "\n",
       "    .dataframe thead th {\n",
       "        text-align: right;\n",
       "    }\n",
       "</style>\n",
       "<table border=\"1\" class=\"dataframe\">\n",
       "  <thead>\n",
       "    <tr style=\"text-align: right;\">\n",
       "      <th></th>\n",
       "      <th>name</th>\n",
       "      <th>instrument</th>\n",
       "    </tr>\n",
       "  </thead>\n",
       "  <tbody>\n",
       "    <tr>\n",
       "      <th>0</th>\n",
       "      <td>John</td>\n",
       "      <td>guitar</td>\n",
       "    </tr>\n",
       "    <tr>\n",
       "      <th>1</th>\n",
       "      <td>Paul</td>\n",
       "      <td>bass</td>\n",
       "    </tr>\n",
       "    <tr>\n",
       "      <th>2</th>\n",
       "      <td>Keith</td>\n",
       "      <td>guitar</td>\n",
       "    </tr>\n",
       "  </tbody>\n",
       "</table>\n",
       "</div>"
      ],
      "text/plain": [
       "    name instrument\n",
       "0   John     guitar\n",
       "1   Paul       bass\n",
       "2  Keith     guitar"
      ]
     },
     "execution_count": 64,
     "metadata": {},
     "output_type": "execute_result"
    }
   ],
   "source": [
    "band_instruments = pd.DataFrame({\n",
    "    \"name\": [\"John\", \"Paul\", \"Keith\"],\n",
    "    \"instrument\": [\"guitar\", \"bass\", \"guitar\"],\n",
    "})\n",
    "band_instruments"
   ]
  },
  {
   "cell_type": "code",
   "execution_count": 65,
   "metadata": {},
   "outputs": [
    {
     "data": {
      "text/html": [
       "<div>\n",
       "<style scoped>\n",
       "    .dataframe tbody tr th:only-of-type {\n",
       "        vertical-align: middle;\n",
       "    }\n",
       "\n",
       "    .dataframe tbody tr th {\n",
       "        vertical-align: top;\n",
       "    }\n",
       "\n",
       "    .dataframe thead th {\n",
       "        text-align: right;\n",
       "    }\n",
       "</style>\n",
       "<table border=\"1\" class=\"dataframe\">\n",
       "  <thead>\n",
       "    <tr style=\"text-align: right;\">\n",
       "      <th></th>\n",
       "      <th>name</th>\n",
       "      <th>band</th>\n",
       "      <th>instrument</th>\n",
       "    </tr>\n",
       "  </thead>\n",
       "  <tbody>\n",
       "    <tr>\n",
       "      <th>0</th>\n",
       "      <td>John</td>\n",
       "      <td>Beatles</td>\n",
       "      <td>guitar</td>\n",
       "    </tr>\n",
       "    <tr>\n",
       "      <th>1</th>\n",
       "      <td>Paul</td>\n",
       "      <td>Beatles</td>\n",
       "      <td>bass</td>\n",
       "    </tr>\n",
       "  </tbody>\n",
       "</table>\n",
       "</div>"
      ],
      "text/plain": [
       "   name     band instrument\n",
       "0  John  Beatles     guitar\n",
       "1  Paul  Beatles       bass"
      ]
     },
     "execution_count": 65,
     "metadata": {},
     "output_type": "execute_result"
    }
   ],
   "source": [
    "# keeps people who are in both datasets\n",
    "pd.merge(band_members, band_instruments, on=\"name\", how=\"inner\")"
   ]
  },
  {
   "cell_type": "code",
   "execution_count": 66,
   "metadata": {},
   "outputs": [
    {
     "data": {
      "text/html": [
       "<div>\n",
       "<style scoped>\n",
       "    .dataframe tbody tr th:only-of-type {\n",
       "        vertical-align: middle;\n",
       "    }\n",
       "\n",
       "    .dataframe tbody tr th {\n",
       "        vertical-align: top;\n",
       "    }\n",
       "\n",
       "    .dataframe thead th {\n",
       "        text-align: right;\n",
       "    }\n",
       "</style>\n",
       "<table border=\"1\" class=\"dataframe\">\n",
       "  <thead>\n",
       "    <tr style=\"text-align: right;\">\n",
       "      <th></th>\n",
       "      <th>name</th>\n",
       "      <th>band</th>\n",
       "      <th>instrument</th>\n",
       "    </tr>\n",
       "  </thead>\n",
       "  <tbody>\n",
       "    <tr>\n",
       "      <th>0</th>\n",
       "      <td>John</td>\n",
       "      <td>Beatles</td>\n",
       "      <td>guitar</td>\n",
       "    </tr>\n",
       "    <tr>\n",
       "      <th>1</th>\n",
       "      <td>Keith</td>\n",
       "      <td>NaN</td>\n",
       "      <td>guitar</td>\n",
       "    </tr>\n",
       "    <tr>\n",
       "      <th>2</th>\n",
       "      <td>Mick</td>\n",
       "      <td>Stones</td>\n",
       "      <td>NaN</td>\n",
       "    </tr>\n",
       "    <tr>\n",
       "      <th>3</th>\n",
       "      <td>Paul</td>\n",
       "      <td>Beatles</td>\n",
       "      <td>bass</td>\n",
       "    </tr>\n",
       "  </tbody>\n",
       "</table>\n",
       "</div>"
      ],
      "text/plain": [
       "    name     band instrument\n",
       "0   John  Beatles     guitar\n",
       "1  Keith      NaN     guitar\n",
       "2   Mick   Stones        NaN\n",
       "3   Paul  Beatles       bass"
      ]
     },
     "execution_count": 66,
     "metadata": {},
     "output_type": "execute_result"
    }
   ],
   "source": [
    "# keeps all people from both datasets\n",
    "pd.merge(band_members, band_instruments, on=\"name\", how=\"outer\")"
   ]
  },
  {
   "cell_type": "code",
   "execution_count": 67,
   "metadata": {},
   "outputs": [
    {
     "data": {
      "text/html": [
       "<div>\n",
       "<style scoped>\n",
       "    .dataframe tbody tr th:only-of-type {\n",
       "        vertical-align: middle;\n",
       "    }\n",
       "\n",
       "    .dataframe tbody tr th {\n",
       "        vertical-align: top;\n",
       "    }\n",
       "\n",
       "    .dataframe thead th {\n",
       "        text-align: right;\n",
       "    }\n",
       "</style>\n",
       "<table border=\"1\" class=\"dataframe\">\n",
       "  <thead>\n",
       "    <tr style=\"text-align: right;\">\n",
       "      <th></th>\n",
       "      <th>name</th>\n",
       "      <th>band</th>\n",
       "      <th>instrument</th>\n",
       "    </tr>\n",
       "  </thead>\n",
       "  <tbody>\n",
       "    <tr>\n",
       "      <th>0</th>\n",
       "      <td>Mick</td>\n",
       "      <td>Stones</td>\n",
       "      <td>NaN</td>\n",
       "    </tr>\n",
       "    <tr>\n",
       "      <th>1</th>\n",
       "      <td>John</td>\n",
       "      <td>Beatles</td>\n",
       "      <td>guitar</td>\n",
       "    </tr>\n",
       "    <tr>\n",
       "      <th>2</th>\n",
       "      <td>Paul</td>\n",
       "      <td>Beatles</td>\n",
       "      <td>bass</td>\n",
       "    </tr>\n",
       "  </tbody>\n",
       "</table>\n",
       "</div>"
      ],
      "text/plain": [
       "   name     band instrument\n",
       "0  Mick   Stones        NaN\n",
       "1  John  Beatles     guitar\n",
       "2  Paul  Beatles       bass"
      ]
     },
     "execution_count": 67,
     "metadata": {},
     "output_type": "execute_result"
    }
   ],
   "source": [
    "# keeps all people in the left (band_members) dataset\n",
    "pd.merge(band_members, band_instruments, on=\"name\", how=\"left\")"
   ]
  },
  {
   "cell_type": "code",
   "execution_count": 68,
   "metadata": {},
   "outputs": [
    {
     "data": {
      "text/html": [
       "<div>\n",
       "<style scoped>\n",
       "    .dataframe tbody tr th:only-of-type {\n",
       "        vertical-align: middle;\n",
       "    }\n",
       "\n",
       "    .dataframe tbody tr th {\n",
       "        vertical-align: top;\n",
       "    }\n",
       "\n",
       "    .dataframe thead th {\n",
       "        text-align: right;\n",
       "    }\n",
       "</style>\n",
       "<table border=\"1\" class=\"dataframe\">\n",
       "  <thead>\n",
       "    <tr style=\"text-align: right;\">\n",
       "      <th></th>\n",
       "      <th>name</th>\n",
       "      <th>band</th>\n",
       "      <th>instrument</th>\n",
       "    </tr>\n",
       "  </thead>\n",
       "  <tbody>\n",
       "    <tr>\n",
       "      <th>0</th>\n",
       "      <td>John</td>\n",
       "      <td>Beatles</td>\n",
       "      <td>guitar</td>\n",
       "    </tr>\n",
       "    <tr>\n",
       "      <th>1</th>\n",
       "      <td>Paul</td>\n",
       "      <td>Beatles</td>\n",
       "      <td>bass</td>\n",
       "    </tr>\n",
       "    <tr>\n",
       "      <th>2</th>\n",
       "      <td>Keith</td>\n",
       "      <td>NaN</td>\n",
       "      <td>guitar</td>\n",
       "    </tr>\n",
       "  </tbody>\n",
       "</table>\n",
       "</div>"
      ],
      "text/plain": [
       "    name     band instrument\n",
       "0   John  Beatles     guitar\n",
       "1   Paul  Beatles       bass\n",
       "2  Keith      NaN     guitar"
      ]
     },
     "execution_count": 68,
     "metadata": {},
     "output_type": "execute_result"
    }
   ],
   "source": [
    "# keeps all people in the right (band_members) dataset\n",
    "pd.merge(band_members, band_instruments, on=\"name\", how=\"right\")"
   ]
  },
  {
   "cell_type": "markdown",
   "metadata": {},
   "source": [
    "If the \"ID\" column(s) have different names in the two datasets, you can specify the columns to join on using the `left_on` and `right_on` arguments. For example,"
   ]
  },
  {
   "cell_type": "code",
   "execution_count": 69,
   "metadata": {},
   "outputs": [
    {
     "data": {
      "text/html": [
       "<div>\n",
       "<style scoped>\n",
       "    .dataframe tbody tr th:only-of-type {\n",
       "        vertical-align: middle;\n",
       "    }\n",
       "\n",
       "    .dataframe tbody tr th {\n",
       "        vertical-align: top;\n",
       "    }\n",
       "\n",
       "    .dataframe thead th {\n",
       "        text-align: right;\n",
       "    }\n",
       "</style>\n",
       "<table border=\"1\" class=\"dataframe\">\n",
       "  <thead>\n",
       "    <tr style=\"text-align: right;\">\n",
       "      <th></th>\n",
       "      <th>first_name</th>\n",
       "      <th>last_name</th>\n",
       "      <th>win_percent</th>\n",
       "      <th>first</th>\n",
       "      <th>last</th>\n",
       "      <th>n_championships</th>\n",
       "    </tr>\n",
       "  </thead>\n",
       "  <tbody>\n",
       "    <tr>\n",
       "      <th>0</th>\n",
       "      <td>Knute</td>\n",
       "      <td>Rockne</td>\n",
       "      <td>0.881</td>\n",
       "      <td>Knute</td>\n",
       "      <td>Rockne</td>\n",
       "      <td>3</td>\n",
       "    </tr>\n",
       "    <tr>\n",
       "      <th>1</th>\n",
       "      <td>Frank</td>\n",
       "      <td>Leahy</td>\n",
       "      <td>0.855</td>\n",
       "      <td>Frank</td>\n",
       "      <td>Leahy</td>\n",
       "      <td>4</td>\n",
       "    </tr>\n",
       "    <tr>\n",
       "      <th>2</th>\n",
       "      <td>Ara</td>\n",
       "      <td>Parseghian</td>\n",
       "      <td>0.836</td>\n",
       "      <td>Ara</td>\n",
       "      <td>Parseghian</td>\n",
       "      <td>2</td>\n",
       "    </tr>\n",
       "    <tr>\n",
       "      <th>3</th>\n",
       "      <td>Dan</td>\n",
       "      <td>Devine</td>\n",
       "      <td>0.764</td>\n",
       "      <td>Dan</td>\n",
       "      <td>Devine</td>\n",
       "      <td>1</td>\n",
       "    </tr>\n",
       "    <tr>\n",
       "      <th>4</th>\n",
       "      <td>Lou</td>\n",
       "      <td>Holtz</td>\n",
       "      <td>0.765</td>\n",
       "      <td>Lou</td>\n",
       "      <td>Holtz</td>\n",
       "      <td>1</td>\n",
       "    </tr>\n",
       "    <tr>\n",
       "      <th>5</th>\n",
       "      <td>Marcus</td>\n",
       "      <td>Freeman</td>\n",
       "      <td>0.786</td>\n",
       "      <td>Marcus</td>\n",
       "      <td>Freeman</td>\n",
       "      <td>1?</td>\n",
       "    </tr>\n",
       "  </tbody>\n",
       "</table>\n",
       "</div>"
      ],
      "text/plain": [
       "  first_name   last_name  win_percent   first        last n_championships\n",
       "0      Knute      Rockne        0.881   Knute      Rockne               3\n",
       "1      Frank       Leahy        0.855   Frank       Leahy               4\n",
       "2        Ara  Parseghian        0.836     Ara  Parseghian               2\n",
       "3        Dan      Devine        0.764     Dan      Devine               1\n",
       "4        Lou       Holtz        0.765     Lou       Holtz               1\n",
       "5     Marcus     Freeman        0.786  Marcus     Freeman              1?"
      ]
     },
     "execution_count": 69,
     "metadata": {},
     "output_type": "execute_result"
    }
   ],
   "source": [
    "win_df = pd.DataFrame({\n",
    "    \"first_name\": [\"Knute\", \"Frank\", \"Ara\", \"Dan\", \"Lou\", \"Marcus\"],\n",
    "    \"last_name\": [\"Rockne\", \"Leahy\", \"Parseghian\", \"Devine\", \"Holtz\", \"Freeman\"],\n",
    "    \"win_percent\": [0.881, 0.855, 0.836, 0.764, 0.765, 0.786]\n",
    "})\n",
    "champs_df = pd.DataFrame({\n",
    "    \"first\": [\"Knute\", \"Frank\", \"Ara\", \"Dan\", \"Lou\", \"Marcus\"],\n",
    "    \"last\": [\"Rockne\", \"Leahy\", \"Parseghian\", \"Devine\", \"Holtz\", \"Freeman\"],\n",
    "    \"n_championships\": [\"3\", \"4\", \"2\", \"1\", \"1\", \"1?\"]\n",
    "})\n",
    "pd.merge(win_df, champs_df, \n",
    "         left_on=[\"first_name\", \"last_name\"], \n",
    "         right_on=[\"first\", \"last\"], \n",
    "         how=\"inner\")"
   ]
  },
  {
   "cell_type": "markdown",
   "metadata": {},
   "source": [
    "**Exercise 16.** Merge the `band_members` and `band_instruments2` datasets such that all band members in the `band_members` dataset are kept."
   ]
  },
  {
   "cell_type": "code",
   "execution_count": 70,
   "metadata": {},
   "outputs": [
    {
     "data": {
      "text/html": [
       "<div>\n",
       "<style scoped>\n",
       "    .dataframe tbody tr th:only-of-type {\n",
       "        vertical-align: middle;\n",
       "    }\n",
       "\n",
       "    .dataframe tbody tr th {\n",
       "        vertical-align: top;\n",
       "    }\n",
       "\n",
       "    .dataframe thead th {\n",
       "        text-align: right;\n",
       "    }\n",
       "</style>\n",
       "<table border=\"1\" class=\"dataframe\">\n",
       "  <thead>\n",
       "    <tr style=\"text-align: right;\">\n",
       "      <th></th>\n",
       "      <th>artist</th>\n",
       "      <th>instrument</th>\n",
       "    </tr>\n",
       "  </thead>\n",
       "  <tbody>\n",
       "    <tr>\n",
       "      <th>0</th>\n",
       "      <td>John</td>\n",
       "      <td>guitar</td>\n",
       "    </tr>\n",
       "    <tr>\n",
       "      <th>1</th>\n",
       "      <td>Paul</td>\n",
       "      <td>bass</td>\n",
       "    </tr>\n",
       "    <tr>\n",
       "      <th>2</th>\n",
       "      <td>Keith</td>\n",
       "      <td>guitar</td>\n",
       "    </tr>\n",
       "  </tbody>\n",
       "</table>\n",
       "</div>"
      ],
      "text/plain": [
       "  artist instrument\n",
       "0   John     guitar\n",
       "1   Paul       bass\n",
       "2  Keith     guitar"
      ]
     },
     "execution_count": 70,
     "metadata": {},
     "output_type": "execute_result"
    }
   ],
   "source": [
    "band_instruments2 = pd.DataFrame({\n",
    "    \"artist\": [\"John\", \"Paul\", \"Keith\"],\n",
    "    \"instrument\": [\"guitar\", \"bass\", \"guitar\"],\n",
    "})\n",
    "band_instruments2"
   ]
  },
  {
   "cell_type": "code",
   "execution_count": 71,
   "metadata": {},
   "outputs": [
    {
     "data": {
      "text/html": [
       "<div>\n",
       "<style scoped>\n",
       "    .dataframe tbody tr th:only-of-type {\n",
       "        vertical-align: middle;\n",
       "    }\n",
       "\n",
       "    .dataframe tbody tr th {\n",
       "        vertical-align: top;\n",
       "    }\n",
       "\n",
       "    .dataframe thead th {\n",
       "        text-align: right;\n",
       "    }\n",
       "</style>\n",
       "<table border=\"1\" class=\"dataframe\">\n",
       "  <thead>\n",
       "    <tr style=\"text-align: right;\">\n",
       "      <th></th>\n",
       "      <th>name</th>\n",
       "      <th>band</th>\n",
       "      <th>artist</th>\n",
       "      <th>instrument</th>\n",
       "    </tr>\n",
       "  </thead>\n",
       "  <tbody>\n",
       "    <tr>\n",
       "      <th>0</th>\n",
       "      <td>Mick</td>\n",
       "      <td>Stones</td>\n",
       "      <td>NaN</td>\n",
       "      <td>NaN</td>\n",
       "    </tr>\n",
       "    <tr>\n",
       "      <th>1</th>\n",
       "      <td>John</td>\n",
       "      <td>Beatles</td>\n",
       "      <td>John</td>\n",
       "      <td>guitar</td>\n",
       "    </tr>\n",
       "    <tr>\n",
       "      <th>2</th>\n",
       "      <td>Paul</td>\n",
       "      <td>Beatles</td>\n",
       "      <td>Paul</td>\n",
       "      <td>bass</td>\n",
       "    </tr>\n",
       "  </tbody>\n",
       "</table>\n",
       "</div>"
      ],
      "text/plain": [
       "   name     band artist instrument\n",
       "0  Mick   Stones    NaN        NaN\n",
       "1  John  Beatles   John     guitar\n",
       "2  Paul  Beatles   Paul       bass"
      ]
     },
     "execution_count": 71,
     "metadata": {},
     "output_type": "execute_result"
    }
   ],
   "source": [
    "pd.merge(band_members, band_instruments2, \n",
    "         left_on=\"name\", right_on=\"artist\", \n",
    "         how=\"left\")"
   ]
  },
  {
   "cell_type": "markdown",
   "metadata": {},
   "source": [
    "## Plotting"
   ]
  },
  {
   "cell_type": "markdown",
   "metadata": {},
   "source": [
    "There will be plenty of opportunities to hone your plotting abilities throughout the semester. Because of this, we won't dwell on plotting too much here, except to check your familiarity with the very basics of matplotlib and seaborn."
   ]
  },
  {
   "cell_type": "markdown",
   "metadata": {},
   "source": [
    "**Exercise 17.** Using `win_df`, make a bar plot with the coach on the x-axis and their winning percentage on the y-axis. In addition, can you sort the coaches so that their winning percentages are decreasing from left to right in the plot?"
   ]
  },
  {
   "cell_type": "code",
   "execution_count": 72,
   "metadata": {},
   "outputs": [
    {
     "data": {
      "image/png": "[encoded data removed]",
      "text/plain": [
       "<Figure size 640x480 with 1 Axes>"
      ]
     },
     "metadata": {},
     "output_type": "display_data"
    }
   ],
   "source": [
    "win_df = pd.DataFrame({\n",
    "    \"first_name\": [\"Knute\", \"Frank\", \"Ara\", \"Dan\", \"Lou\", \"Marcus\"],\n",
    "    \"last_name\": [\"Rockne\", \"Leahy\", \"Parseghian\", \"Devine\", \"Holtz\", \"Freeman\"],\n",
    "    \"win_percent\": [0.881, 0.855, 0.836, 0.764, 0.765, 0.786]\n",
    "}).sort_values(by=\"win_percent\", ascending=False)\n",
    "# make bar plot\n",
    "win_df.plot.bar(x=\"first_name\", y=\"win_percent\")\n",
    "plt.show()"
   ]
  },
  {
   "cell_type": "markdown",
   "metadata": {},
   "source": [
    "**Exercise 18.** Below, I've computed a correlation matrix with the pairwise correlations between every two pair of columns in `data`. Please use [`seaborn`](https://seaborn.pydata.org/) to plot this correlation matrix as a heatmap (often called a correlation heatmap)."
   ]
  },
  {
   "cell_type": "code",
   "execution_count": 73,
   "metadata": {},
   "outputs": [
    {
     "data": {
      "image/png": "[encoded data removed]",
      "text/plain": [
       "<Figure size 800x600 with 2 Axes>"
      ]
     },
     "metadata": {},
     "output_type": "display_data"
    }
   ],
   "source": [
    "np.random.seed(42)\n",
    "data = pd.DataFrame({\n",
    "    'A': np.random.rand(100),\n",
    "    'B': np.random.rand(100),\n",
    "    'C': np.random.rand(100),\n",
    "    'D': np.random.rand(100)\n",
    "})\n",
    "\n",
    "# Compute the correlation matrix\n",
    "correlation_matrix = data.corr()\n",
    "\n",
    "# Create the heatmap\n",
    "plt.figure(figsize=(8, 6))\n",
    "sns.heatmap(\n",
    "    correlation_matrix, \n",
    "    annot=True, \n",
    "    fmt=\".2f\", \n",
    "    cmap=\"coolwarm\", \n",
    "    cbar=True, \n",
    "    linewidths=0.5\n",
    ")\n",
    "plt.title(\"Correlation Heatmap\")\n",
    "plt.show()"
   ]
  },
  {
   "cell_type": "code",
   "execution_count": null,
   "metadata": {},
   "outputs": [],
   "source": []
  }
 ],
 "metadata": {
  "kernelspec": {
   "display_name": "base",
   "language": "python",
   "name": "python3"
  },
  "language_info": {
   "codemirror_mode": {
    "name": "ipython",
    "version": 3
   },
   "file_extension": ".py",
   "mimetype": "text/x-python",
   "name": "python",
   "nbconvert_exporter": "python",
   "pygments_lexer": "ipython3",
   "version": "3.12.4"
  }
 },
 "nbformat": 4,
 "nbformat_minor": 2
}
